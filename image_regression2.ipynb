{
 "cells": [
  {
   "cell_type": "code",
   "execution_count": 12,
   "metadata": {
    "colab_type": "code"
   },
   "outputs": [],
   "source": [
    "#!pip install autokeras\n"
   ]
  },
  {
   "cell_type": "code",
   "execution_count": 13,
   "metadata": {
    "colab_type": "code"
   },
   "outputs": [],
   "source": [
    "import numpy as np\n",
    "import pandas as pd\n",
    "import tensorflow as tf\n",
    "\n",
    "import logging\n",
    "logging.getLogger('tensorflow').disabled = True\n",
    "\n",
    "from sklearn.datasets import load_files\n",
    "from tensorflow.keras.datasets import mnist\n",
    "import autokeras as ak\n",
    "\n",
    "import plotly.express as px\n",
    "import copy \n",
    "import os\n",
    "import json\n",
    "\n",
    "from mylib import plot_roc, plot_pr_curve, plot_roc_train_test, plot_pr_train_test, hyper_table, predic_error_analysis, plot_pr_multi_class"
   ]
  },
  {
   "cell_type": "markdown",
   "metadata": {
    "colab_type": "text"
   },
   "source": [
    "To make this tutorial easy to follow, we just treat MNIST dataset as a\n",
    "regression dataset. It means we will treat prediction targets of MNIST dataset,\n",
    "which are integers ranging from 0 to 9 as numerical values, so that they can be\n",
    "directly used as the regression targets.\n",
    "\n",
    "## A Simple Example\n",
    "The first step is to prepare your data. Here we use the MNIST dataset as an\n",
    "example\n"
   ]
  },
  {
   "cell_type": "code",
   "execution_count": 25,
   "metadata": {
    "colab_type": "code"
   },
   "outputs": [],
   "source": [
    "data = pd.read_csv('new_multiclasses.csv')\n",
    "data = data[data['mos2'] > 0]"
   ]
  },
  {
   "cell_type": "code",
   "execution_count": 26,
   "metadata": {
    "colab_type": "code"
   },
   "outputs": [
    {
     "data": {
      "text/plain": [
       "{'ps1+ps2+multi': 5142,\n",
       " 'ps2+multi': 2558,\n",
       " 'ps1+multi': 2550,\n",
       " 'ps1+ps2+multi+ice': 869,\n",
       " 'ps2+multi+ice': 420,\n",
       " 'ps1+multi+ice': 397,\n",
       " 'ps1+ps2': 48,\n",
       " 'ps1': 27,\n",
       " 'ps2': 22,\n",
       " 'ps1+ps2+ice': 18,\n",
       " 'ps2+multi+ice+badice': 4,\n",
       " 'ps1+ice': 4,\n",
       " 'ps2+ice': 3,\n",
       " 'ps1+ps2+multi+ice+badice': 2,\n",
       " 'ps1+multi+ice+badice': 2}"
      ]
     },
     "execution_count": 26,
     "metadata": {},
     "output_type": "execute_result"
    }
   ],
   "source": [
    "lable_count = dict(data['Y'].value_counts())\n",
    "lable_count"
   ]
  },
  {
   "cell_type": "code",
   "execution_count": 27,
   "metadata": {
    "colab_type": "code"
   },
   "outputs": [
    {
     "data": {
      "text/html": [
       "<div>\n",
       "<style scoped>\n",
       "    .dataframe tbody tr th:only-of-type {\n",
       "        vertical-align: middle;\n",
       "    }\n",
       "\n",
       "    .dataframe tbody tr th {\n",
       "        vertical-align: top;\n",
       "    }\n",
       "\n",
       "    .dataframe thead th {\n",
       "        text-align: right;\n",
       "    }\n",
       "</style>\n",
       "<table border=\"1\" class=\"dataframe\">\n",
       "  <thead>\n",
       "    <tr style=\"text-align: right;\">\n",
       "      <th></th>\n",
       "      <th>file</th>\n",
       "      <th>blank</th>\n",
       "      <th>ps1</th>\n",
       "      <th>ps2</th>\n",
       "      <th>multi</th>\n",
       "      <th>ice</th>\n",
       "      <th>badice</th>\n",
       "      <th>mos1</th>\n",
       "      <th>mos2</th>\n",
       "      <th>Y</th>\n",
       "    </tr>\n",
       "  </thead>\n",
       "  <tbody>\n",
       "    <tr>\n",
       "      <th>325</th>\n",
       "      <td>fake_00336.pgm</td>\n",
       "      <td>0</td>\n",
       "      <td>1</td>\n",
       "      <td>0</td>\n",
       "      <td>0</td>\n",
       "      <td>0</td>\n",
       "      <td>0</td>\n",
       "      <td>0.834543</td>\n",
       "      <td>0.672156</td>\n",
       "      <td>ps1</td>\n",
       "    </tr>\n",
       "    <tr>\n",
       "      <th>388</th>\n",
       "      <td>fake_00405.pgm</td>\n",
       "      <td>0</td>\n",
       "      <td>1</td>\n",
       "      <td>0</td>\n",
       "      <td>0</td>\n",
       "      <td>0</td>\n",
       "      <td>0</td>\n",
       "      <td>0.873979</td>\n",
       "      <td>0.606771</td>\n",
       "      <td>ps1</td>\n",
       "    </tr>\n",
       "    <tr>\n",
       "      <th>409</th>\n",
       "      <td>fake_00429.pgm</td>\n",
       "      <td>0</td>\n",
       "      <td>1</td>\n",
       "      <td>0</td>\n",
       "      <td>0</td>\n",
       "      <td>0</td>\n",
       "      <td>0</td>\n",
       "      <td>0.841170</td>\n",
       "      <td>0.713611</td>\n",
       "      <td>ps1</td>\n",
       "    </tr>\n",
       "    <tr>\n",
       "      <th>930</th>\n",
       "      <td>fake_01069.pgm</td>\n",
       "      <td>0</td>\n",
       "      <td>1</td>\n",
       "      <td>0</td>\n",
       "      <td>0</td>\n",
       "      <td>0</td>\n",
       "      <td>0</td>\n",
       "      <td>0.702128</td>\n",
       "      <td>0.847937</td>\n",
       "      <td>ps1</td>\n",
       "    </tr>\n",
       "    <tr>\n",
       "      <th>1404</th>\n",
       "      <td>fake_01756.pgm</td>\n",
       "      <td>0</td>\n",
       "      <td>1</td>\n",
       "      <td>0</td>\n",
       "      <td>0</td>\n",
       "      <td>0</td>\n",
       "      <td>0</td>\n",
       "      <td>0.883778</td>\n",
       "      <td>0.513013</td>\n",
       "      <td>ps1</td>\n",
       "    </tr>\n",
       "    <tr>\n",
       "      <th>...</th>\n",
       "      <td>...</td>\n",
       "      <td>...</td>\n",
       "      <td>...</td>\n",
       "      <td>...</td>\n",
       "      <td>...</td>\n",
       "      <td>...</td>\n",
       "      <td>...</td>\n",
       "      <td>...</td>\n",
       "      <td>...</td>\n",
       "      <td>...</td>\n",
       "    </tr>\n",
       "    <tr>\n",
       "      <th>6019</th>\n",
       "      <td>fake_08555.pgm</td>\n",
       "      <td>0</td>\n",
       "      <td>0</td>\n",
       "      <td>1</td>\n",
       "      <td>1</td>\n",
       "      <td>1</td>\n",
       "      <td>0</td>\n",
       "      <td>0.850695</td>\n",
       "      <td>0.815657</td>\n",
       "      <td>ps2+multi+ice</td>\n",
       "    </tr>\n",
       "    <tr>\n",
       "      <th>13</th>\n",
       "      <td>fake_00014.pgm</td>\n",
       "      <td>0</td>\n",
       "      <td>0</td>\n",
       "      <td>1</td>\n",
       "      <td>1</td>\n",
       "      <td>1</td>\n",
       "      <td>1</td>\n",
       "      <td>0.516343</td>\n",
       "      <td>0.681703</td>\n",
       "      <td>ps2+multi+ice+badice</td>\n",
       "    </tr>\n",
       "    <tr>\n",
       "      <th>46</th>\n",
       "      <td>fake_00047.pgm</td>\n",
       "      <td>0</td>\n",
       "      <td>0</td>\n",
       "      <td>1</td>\n",
       "      <td>1</td>\n",
       "      <td>1</td>\n",
       "      <td>1</td>\n",
       "      <td>0.822762</td>\n",
       "      <td>0.710859</td>\n",
       "      <td>ps2+multi+ice+badice</td>\n",
       "    </tr>\n",
       "    <tr>\n",
       "      <th>114</th>\n",
       "      <td>fake_00115.pgm</td>\n",
       "      <td>0</td>\n",
       "      <td>0</td>\n",
       "      <td>1</td>\n",
       "      <td>1</td>\n",
       "      <td>1</td>\n",
       "      <td>1</td>\n",
       "      <td>0.603269</td>\n",
       "      <td>0.832699</td>\n",
       "      <td>ps2+multi+ice+badice</td>\n",
       "    </tr>\n",
       "    <tr>\n",
       "      <th>215</th>\n",
       "      <td>fake_00216.pgm</td>\n",
       "      <td>0</td>\n",
       "      <td>0</td>\n",
       "      <td>1</td>\n",
       "      <td>1</td>\n",
       "      <td>1</td>\n",
       "      <td>1</td>\n",
       "      <td>0.639486</td>\n",
       "      <td>0.787645</td>\n",
       "      <td>ps2+multi+ice+badice</td>\n",
       "    </tr>\n",
       "  </tbody>\n",
       "</table>\n",
       "<p>730 rows × 10 columns</p>\n",
       "</div>"
      ],
      "text/plain": [
       "                file  blank  ps1  ps2  multi  ice  badice      mos1      mos2  \\\n",
       "325   fake_00336.pgm      0    1    0      0    0       0  0.834543  0.672156   \n",
       "388   fake_00405.pgm      0    1    0      0    0       0  0.873979  0.606771   \n",
       "409   fake_00429.pgm      0    1    0      0    0       0  0.841170  0.713611   \n",
       "930   fake_01069.pgm      0    1    0      0    0       0  0.702128  0.847937   \n",
       "1404  fake_01756.pgm      0    1    0      0    0       0  0.883778  0.513013   \n",
       "...              ...    ...  ...  ...    ...  ...     ...       ...       ...   \n",
       "6019  fake_08555.pgm      0    0    1      1    1       0  0.850695  0.815657   \n",
       "13    fake_00014.pgm      0    0    1      1    1       1  0.516343  0.681703   \n",
       "46    fake_00047.pgm      0    0    1      1    1       1  0.822762  0.710859   \n",
       "114   fake_00115.pgm      0    0    1      1    1       1  0.603269  0.832699   \n",
       "215   fake_00216.pgm      0    0    1      1    1       1  0.639486  0.787645   \n",
       "\n",
       "                         Y  \n",
       "325                    ps1  \n",
       "388                    ps1  \n",
       "409                    ps1  \n",
       "930                    ps1  \n",
       "1404                   ps1  \n",
       "...                    ...  \n",
       "6019         ps2+multi+ice  \n",
       "13    ps2+multi+ice+badice  \n",
       "46    ps2+multi+ice+badice  \n",
       "114   ps2+multi+ice+badice  \n",
       "215   ps2+multi+ice+badice  \n",
       "\n",
       "[730 rows x 10 columns]"
      ]
     },
     "execution_count": 27,
     "metadata": {},
     "output_type": "execute_result"
    }
   ],
   "source": [
    "new_data = pd.concat([data[data['Y']==y][:100] if lable_count[y]>100 else data[data['Y']==y] for y in np.unique(data['Y'])])\n",
    "new_data"
   ]
  },
  {
   "cell_type": "code",
   "execution_count": 28,
   "metadata": {
    "colab_type": "code"
   },
   "outputs": [
    {
     "name": "stdout",
     "output_type": "stream",
     "text": [
      "0\n"
     ]
    }
   ],
   "source": [
    "imgs = []\n",
    "imgs_arr = []\n",
    "imgs_drop = []\n",
    "for f in new_data['file']:\n",
    "    f = f.replace('pgm','png')\n",
    "    try:\n",
    "        image = tf.keras.preprocessing.image.load_img(\"./training_data/{}\".format(f), color_mode='grayscale') \n",
    "        image_array = tf.keras.preprocessing.image.img_to_array(image)\n",
    "        imgs.append(image)\n",
    "        imgs_arr.append(image_array)\n",
    "    except:\n",
    "        imgs_drop.append(f)\n",
    "print(len(imgs_drop))"
   ]
  },
  {
   "cell_type": "code",
   "execution_count": 29,
   "metadata": {
    "colab_type": "code"
   },
   "outputs": [
    {
     "name": "stdout",
     "output_type": "stream",
     "text": [
      "<class 'numpy.ndarray'>\n",
      "(730, 512, 512, 1)\n",
      "(730, 512, 512)\n",
      "(730,)\n"
     ]
    }
   ],
   "source": [
    "input_arr = np.array(imgs_arr)  # Convert single image to a batch.\n",
    "print(type(input_arr))\n",
    "print(input_arr.shape)\n",
    "x_train = np.squeeze(input_arr)\n",
    "print(x_train.shape)\n",
    "\n",
    "y_train = np.array(new_data['mos2'])\n",
    "print(y_train.shape)\n",
    "\n",
    "X = x_train\n",
    "Y = y_train"
   ]
  },
  {
   "cell_type": "code",
   "execution_count": 30,
   "metadata": {
    "colab_type": "code"
   },
   "outputs": [
    {
     "data": {
      "image/png": "[encoded data removed]",
      "text/plain": [
       "<Figure size 1080x288 with 20 Axes>"
      ]
     },
     "metadata": {
      "needs_background": "light"
     },
     "output_type": "display_data"
    },
    {
     "data": {
      "application/vnd.plotly.v1+json": {
       "config": {
        "plotlyServerURL": "https://plot.ly"
       },
       "data": [
        {
         "alignmentgroup": "True",
         "bingroup": "x",
         "hovertemplate": "label=%{x}<br>count=%{y}<extra></extra>",
         "legendgroup": "",
         "marker": {
          "color": "#636efa"
         },
         "name": "",
         "nbinsx": 100,
         "offsetgroup": "",
         "orientation": "v",
         "showlegend": false,
         "type": "histogram",
         "x": [
          0.6721560000000001,
          0.606771,
          0.713611,
          0.847937,
          0.513013,
          0.672034,
          0.732434,
          0.6167590000000001,
          0.903978,
          0.535986,
          0.712482,
          0.532131,
          0.7059840000000001,
          0.68378,
          0.909416,
          0.7525310000000001,
          0.59132,
          0.697515,
          0.8236479999999999,
          0.737344,
          0.602996,
          0.788716,
          0.65309,
          0.7520819999999999,
          0.779409,
          0.796044,
          0.583476,
          0.899075,
          0.677405,
          0.646613,
          0.62389,
          0.735867,
          0.572249,
          0.8188810000000001,
          0.515169,
          0.725351,
          0.937905,
          0.594521,
          0.559198,
          0.5403399999999999,
          0.625183,
          0.500232,
          0.541168,
          0.877258,
          0.851274,
          0.567729,
          0.917293,
          0.690192,
          0.8025329999999999,
          0.871733,
          0.581755,
          0.515886,
          0.790609,
          0.80224,
          0.922905,
          0.8522360000000001,
          0.854351,
          0.72824,
          0.702337,
          0.804563,
          0.845141,
          0.942503,
          0.727798,
          0.536909,
          0.846197,
          0.541614,
          0.611987,
          0.926596,
          0.584676,
          0.901726,
          0.6722020000000001,
          0.772111,
          0.868624,
          0.733046,
          0.768365,
          0.682813,
          0.543963,
          0.728221,
          0.518259,
          0.594442,
          0.7060569999999999,
          0.838883,
          0.875524,
          0.941067,
          0.5208010000000001,
          0.504046,
          0.74188,
          0.928933,
          0.681016,
          0.628129,
          0.910971,
          0.693554,
          0.897368,
          0.723096,
          0.549702,
          0.579702,
          0.872368,
          0.940326,
          0.549429,
          0.750988,
          0.573732,
          0.511362,
          0.908049,
          0.638127,
          0.75293,
          0.7252270000000001,
          0.5989140000000001,
          0.658242,
          0.892224,
          0.707388,
          0.752893,
          0.808391,
          0.6900970000000001,
          0.515714,
          0.634336,
          0.561897,
          0.786041,
          0.777435,
          0.928048,
          0.942959,
          0.735123,
          0.935171,
          0.677762,
          0.56253,
          0.5061869999999999,
          0.608621,
          0.917,
          0.736637,
          0.778764,
          0.51151,
          0.584483,
          0.899488,
          0.732111,
          0.536043,
          0.91029,
          0.507111,
          0.931967,
          0.809886,
          0.592992,
          0.637996,
          0.7470479999999999,
          0.75132,
          0.936803,
          0.742053,
          0.5795170000000001,
          0.7301770000000001,
          0.57188,
          0.5637989999999999,
          0.761999,
          0.8363299999999999,
          0.829514,
          0.635347,
          0.550652,
          0.8377319999999999,
          0.701447,
          0.603318,
          0.5463779999999999,
          0.8068420000000001,
          0.5432899999999999,
          0.6124310000000001,
          0.811942,
          0.831303,
          0.529887,
          0.940315,
          0.865115,
          0.550998,
          0.811706,
          0.873663,
          0.548875,
          0.926971,
          0.646183,
          0.813733,
          0.72543,
          0.526443,
          0.692386,
          0.8837729999999999,
          0.566439,
          0.8742030000000001,
          0.832918,
          0.586477,
          0.572892,
          0.945298,
          0.945396,
          0.7764409999999999,
          0.787008,
          0.934673,
          0.681267,
          0.509424,
          0.546716,
          0.64132,
          0.5132220000000001,
          0.6761189999999999,
          0.777357,
          0.518925,
          0.9354,
          0.509054,
          0.90263,
          0.94443,
          0.776496,
          0.87864,
          0.733033,
          0.916898,
          0.708692,
          0.680405,
          0.543601,
          0.629742,
          0.516799,
          0.910194,
          0.8324020000000001,
          0.922365,
          0.673141,
          0.940748,
          0.60727,
          0.757606,
          0.6925680000000001,
          0.7836390000000001,
          0.80271,
          0.543417,
          0.8756940000000001,
          0.7653800000000001,
          0.684852,
          0.806873,
          0.519543,
          0.6711550000000001,
          0.747954,
          0.707887,
          0.564562,
          0.784537,
          0.585545,
          0.948485,
          0.588554,
          0.949394,
          0.566733,
          0.6493140000000001,
          0.80088,
          0.586824,
          0.790542,
          0.909595,
          0.913022,
          0.5959810000000001,
          0.8514860000000001,
          0.861859,
          0.6772020000000001,
          0.522308,
          0.605169,
          0.675417,
          0.927441,
          0.685512,
          0.839053,
          0.598309,
          0.503208,
          0.922635,
          0.897669,
          0.8618950000000001,
          0.831608,
          0.517202,
          0.536018,
          0.569021,
          0.593055,
          0.755206,
          0.772593,
          0.8252700000000001,
          0.84935,
          0.592458,
          0.590533,
          0.635454,
          0.640188,
          0.94199,
          0.647087,
          0.549038,
          0.724115,
          0.5028729999999999,
          0.781687,
          0.708327,
          0.599841,
          0.746492,
          0.8329340000000001,
          0.78632,
          0.887114,
          0.675141,
          0.7921520000000001,
          0.846514,
          0.845253,
          0.9165,
          0.800972,
          0.603144,
          0.58767,
          0.503199,
          0.830456,
          0.877398,
          0.760199,
          0.852298,
          0.69029,
          0.886591,
          0.527502,
          0.944706,
          0.553904,
          0.6938,
          0.8374590000000001,
          0.8808790000000001,
          0.8261879999999999,
          0.848007,
          0.8375950000000001,
          0.784011,
          0.8723989999999999,
          0.8589559999999999,
          0.779391,
          0.727511,
          0.7178,
          0.7752319999999999,
          0.8492940000000001,
          0.582411,
          0.6958979999999999,
          0.725762,
          0.5699930000000001,
          0.876035,
          0.91622,
          0.538362,
          0.866246,
          0.681188,
          0.567858,
          0.809902,
          0.5442859999999999,
          0.7038300000000001,
          0.708005,
          0.6266609999999999,
          0.59969,
          0.545845,
          0.751159,
          0.8510780000000001,
          0.652054,
          0.55482,
          0.748071,
          0.7302109999999999,
          0.575087,
          0.843917,
          0.627045,
          0.6496430000000001,
          0.833577,
          0.682149,
          0.8142050000000001,
          0.936808,
          0.739256,
          0.8690040000000001,
          0.5410699999999999,
          0.935272,
          0.845376,
          0.550722,
          0.75317,
          0.513354,
          0.67782,
          0.666768,
          0.882769,
          0.693682,
          0.8894290000000001,
          0.535872,
          0.81293,
          0.505996,
          0.942479,
          0.651655,
          0.5826020000000001,
          0.818824,
          0.93508,
          0.791963,
          0.6438149999999999,
          0.91457,
          0.7879999999999999,
          0.927496,
          0.768027,
          0.921606,
          0.5191680000000001,
          0.810887,
          0.902266,
          0.586724,
          0.792647,
          0.7517550000000001,
          0.583775,
          0.619189,
          0.9199,
          0.8479780000000001,
          0.725202,
          0.566346,
          0.883657,
          0.699829,
          0.5849260000000001,
          0.737002,
          0.691072,
          0.87977,
          0.644664,
          0.940269,
          0.542432,
          0.8506459999999999,
          0.717962,
          0.634279,
          0.808094,
          0.687145,
          0.918379,
          0.705191,
          0.768878,
          0.717809,
          0.5392,
          0.778633,
          0.8864709999999999,
          0.875073,
          0.8697159999999999,
          0.6298060000000001,
          0.912749,
          0.739556,
          0.501599,
          0.5763,
          0.611955,
          0.71524,
          0.763121,
          0.810919,
          0.636487,
          0.518845,
          0.881885,
          0.8812770000000001,
          0.631962,
          0.620771,
          0.922723,
          0.70607,
          0.593371,
          0.820901,
          0.7730319999999999,
          0.881742,
          0.8271639999999999,
          0.872906,
          0.868541,
          0.815683,
          0.931888,
          0.905747,
          0.779798,
          0.861768,
          0.5542159999999999,
          0.847824,
          0.591095,
          0.939858,
          0.77185,
          0.937431,
          0.799513,
          0.8377899999999999,
          0.686682,
          0.778734,
          0.731283,
          0.936556,
          0.520712,
          0.891107,
          0.610233,
          0.772883,
          0.907553,
          0.664722,
          0.783565,
          0.768989,
          0.5195609999999999,
          0.566846,
          0.8875069999999999,
          0.591813,
          0.82316,
          0.862922,
          0.65822,
          0.8907010000000001,
          0.8782549999999999,
          0.7076319999999999,
          0.741448,
          0.796247,
          0.591679,
          0.641352,
          0.664072,
          0.799149,
          0.872633,
          0.524373,
          0.51858,
          0.670924,
          0.630315,
          0.746128,
          0.9002889999999999,
          0.669963,
          0.7758149999999999,
          0.8037770000000001,
          0.7322390000000001,
          0.527516,
          0.887875,
          0.943048,
          0.946796,
          0.70444,
          0.902678,
          0.8748,
          0.910134,
          0.913682,
          0.8634959999999999,
          0.570921,
          0.531115,
          0.549721,
          0.6585300000000001,
          0.8437959999999999,
          0.766074,
          0.928073,
          0.77165,
          0.8611690000000001,
          0.726658,
          0.6276520000000001,
          0.903212,
          0.542844,
          0.7219899999999999,
          0.7844899999999999,
          0.737699,
          0.8256709999999999,
          0.70039,
          0.922144,
          0.792978,
          0.719065,
          0.702217,
          0.593118,
          0.554301,
          0.919231,
          0.579292,
          0.85825,
          0.565263,
          0.636829,
          0.683824,
          0.505369,
          0.654529,
          0.5733560000000001,
          0.797353,
          0.8163279999999999,
          0.568217,
          0.943436,
          0.622792,
          0.738689,
          0.7070390000000001,
          0.604635,
          0.537229,
          0.865563,
          0.689936,
          0.542941,
          0.919289,
          0.671509,
          0.602124,
          0.540629,
          0.605205,
          0.7394270000000001,
          0.8544430000000001,
          0.543929,
          0.678962,
          0.536994,
          0.540062,
          0.5433319999999999,
          0.573639,
          0.73644,
          0.924898,
          0.8540399999999999,
          0.667045,
          0.630137,
          0.742722,
          0.7770060000000001,
          0.5082180000000001,
          0.5779310000000001,
          0.788528,
          0.737581,
          0.581101,
          0.797832,
          0.565862,
          0.698807,
          0.606108,
          0.814388,
          0.689824,
          0.690772,
          0.658844,
          0.8724049999999999,
          0.833515,
          0.5424979999999999,
          0.518119,
          0.622013,
          0.524752,
          0.896357,
          0.593771,
          0.754202,
          0.643914,
          0.5707810000000001,
          0.656478,
          0.652845,
          0.818176,
          0.814412,
          0.507282,
          0.90876,
          0.8471559999999999,
          0.67624,
          0.859719,
          0.900806,
          0.897985,
          0.884115,
          0.677784,
          0.8213940000000001,
          0.773564,
          0.612244,
          0.528544,
          0.614629,
          0.8666440000000001,
          0.942295,
          0.8999950000000001,
          0.948864,
          0.750627,
          0.729511,
          0.7414310000000001,
          0.514324,
          0.628807,
          0.824207,
          0.5406850000000001,
          0.692129,
          0.798976,
          0.503042,
          0.928485,
          0.942243,
          0.609563,
          0.938049,
          0.8495530000000001,
          0.66859,
          0.559507,
          0.8250299999999999,
          0.7362479999999999,
          0.535507,
          0.822876,
          0.690887,
          0.728812,
          0.774245,
          0.669184,
          0.514538,
          0.857361,
          0.756324,
          0.792691,
          0.865284,
          0.611124,
          0.906201,
          0.550963,
          0.534633,
          0.62387,
          0.718785,
          0.583612,
          0.567131,
          0.693725,
          0.885015,
          0.8978809999999999,
          0.6192770000000001,
          0.606279,
          0.898151,
          0.8382860000000001,
          0.682664,
          0.6308729999999999,
          0.910958,
          0.940581,
          0.76927,
          0.684238,
          0.912569,
          0.719831,
          0.656334,
          0.656028,
          0.632831,
          0.6234430000000001,
          0.72255,
          0.6450859999999999,
          0.592482,
          0.843806,
          0.724969,
          0.719839,
          0.800873,
          0.901464,
          0.5912390000000001,
          0.690757,
          0.594288,
          0.549892,
          0.708885,
          0.6595880000000001,
          0.820157,
          0.78149,
          0.793162,
          0.612568,
          0.6959069999999999,
          0.534907,
          0.679546,
          0.717594,
          0.8125939999999999,
          0.77117,
          0.915659,
          0.5420550000000001,
          0.816817,
          0.820989,
          0.820049,
          0.8574860000000001,
          0.6936640000000001,
          0.712577,
          0.618537,
          0.927386,
          0.643422,
          0.613291,
          0.837341,
          0.6963600000000001,
          0.573699,
          0.6802010000000001,
          0.684938,
          0.602908,
          0.756653,
          0.592577,
          0.8476819999999999,
          0.5117729999999999,
          0.858475,
          0.511195,
          0.638258,
          0.94415,
          0.573264,
          0.599939,
          0.707859,
          0.647271,
          0.6697420000000001,
          0.7798390000000001,
          0.699808,
          0.78881,
          0.67187,
          0.8404370000000001,
          0.839549,
          0.865029,
          0.930291,
          0.574017,
          0.669034,
          0.655452,
          0.815657,
          0.681703,
          0.710859,
          0.832699,
          0.7876449999999999
         ],
         "xaxis": "x",
         "yaxis": "y"
        }
       ],
       "layout": {
        "autosize": true,
        "barmode": "relative",
        "legend": {
         "tracegroupgap": 0
        },
        "margin": {
         "t": 60
        },
        "template": {
         "data": {
          "bar": [
           {
            "error_x": {
             "color": "#2a3f5f"
            },
            "error_y": {
             "color": "#2a3f5f"
            },
            "marker": {
             "line": {
              "color": "#E5ECF6",
              "width": 0.5
             }
            },
            "type": "bar"
           }
          ],
          "barpolar": [
           {
            "marker": {
             "line": {
              "color": "#E5ECF6",
              "width": 0.5
             }
            },
            "type": "barpolar"
           }
          ],
          "carpet": [
           {
            "aaxis": {
             "endlinecolor": "#2a3f5f",
             "gridcolor": "white",
             "linecolor": "white",
             "minorgridcolor": "white",
             "startlinecolor": "#2a3f5f"
            },
            "baxis": {
             "endlinecolor": "#2a3f5f",
             "gridcolor": "white",
             "linecolor": "white",
             "minorgridcolor": "white",
             "startlinecolor": "#2a3f5f"
            },
            "type": "carpet"
           }
          ],
          "choropleth": [
           {
            "colorbar": {
             "outlinewidth": 0,
             "ticks": ""
            },
            "type": "choropleth"
           }
          ],
          "contour": [
           {
            "colorbar": {
             "outlinewidth": 0,
             "ticks": ""
            },
            "colorscale": [
             [
              0,
              "#0d0887"
             ],
             [
              0.1111111111111111,
              "#46039f"
             ],
             [
              0.2222222222222222,
              "#7201a8"
             ],
             [
              0.3333333333333333,
              "#9c179e"
             ],
             [
              0.4444444444444444,
              "#bd3786"
             ],
             [
              0.5555555555555556,
              "#d8576b"
             ],
             [
              0.6666666666666666,
              "#ed7953"
             ],
             [
              0.7777777777777778,
              "#fb9f3a"
             ],
             [
              0.8888888888888888,
              "#fdca26"
             ],
             [
              1,
              "#f0f921"
             ]
            ],
            "type": "contour"
           }
          ],
          "contourcarpet": [
           {
            "colorbar": {
             "outlinewidth": 0,
             "ticks": ""
            },
            "type": "contourcarpet"
           }
          ],
          "heatmap": [
           {
            "colorbar": {
             "outlinewidth": 0,
             "ticks": ""
            },
            "colorscale": [
             [
              0,
              "#0d0887"
             ],
             [
              0.1111111111111111,
              "#46039f"
             ],
             [
              0.2222222222222222,
              "#7201a8"
             ],
             [
              0.3333333333333333,
              "#9c179e"
             ],
             [
              0.4444444444444444,
              "#bd3786"
             ],
             [
              0.5555555555555556,
              "#d8576b"
             ],
             [
              0.6666666666666666,
              "#ed7953"
             ],
             [
              0.7777777777777778,
              "#fb9f3a"
             ],
             [
              0.8888888888888888,
              "#fdca26"
             ],
             [
              1,
              "#f0f921"
             ]
            ],
            "type": "heatmap"
           }
          ],
          "heatmapgl": [
           {
            "colorbar": {
             "outlinewidth": 0,
             "ticks": ""
            },
            "colorscale": [
             [
              0,
              "#0d0887"
             ],
             [
              0.1111111111111111,
              "#46039f"
             ],
             [
              0.2222222222222222,
              "#7201a8"
             ],
             [
              0.3333333333333333,
              "#9c179e"
             ],
             [
              0.4444444444444444,
              "#bd3786"
             ],
             [
              0.5555555555555556,
              "#d8576b"
             ],
             [
              0.6666666666666666,
              "#ed7953"
             ],
             [
              0.7777777777777778,
              "#fb9f3a"
             ],
             [
              0.8888888888888888,
              "#fdca26"
             ],
             [
              1,
              "#f0f921"
             ]
            ],
            "type": "heatmapgl"
           }
          ],
          "histogram": [
           {
            "marker": {
             "colorbar": {
              "outlinewidth": 0,
              "ticks": ""
             }
            },
            "type": "histogram"
           }
          ],
          "histogram2d": [
           {
            "colorbar": {
             "outlinewidth": 0,
             "ticks": ""
            },
            "colorscale": [
             [
              0,
              "#0d0887"
             ],
             [
              0.1111111111111111,
              "#46039f"
             ],
             [
              0.2222222222222222,
              "#7201a8"
             ],
             [
              0.3333333333333333,
              "#9c179e"
             ],
             [
              0.4444444444444444,
              "#bd3786"
             ],
             [
              0.5555555555555556,
              "#d8576b"
             ],
             [
              0.6666666666666666,
              "#ed7953"
             ],
             [
              0.7777777777777778,
              "#fb9f3a"
             ],
             [
              0.8888888888888888,
              "#fdca26"
             ],
             [
              1,
              "#f0f921"
             ]
            ],
            "type": "histogram2d"
           }
          ],
          "histogram2dcontour": [
           {
            "colorbar": {
             "outlinewidth": 0,
             "ticks": ""
            },
            "colorscale": [
             [
              0,
              "#0d0887"
             ],
             [
              0.1111111111111111,
              "#46039f"
             ],
             [
              0.2222222222222222,
              "#7201a8"
             ],
             [
              0.3333333333333333,
              "#9c179e"
             ],
             [
              0.4444444444444444,
              "#bd3786"
             ],
             [
              0.5555555555555556,
              "#d8576b"
             ],
             [
              0.6666666666666666,
              "#ed7953"
             ],
             [
              0.7777777777777778,
              "#fb9f3a"
             ],
             [
              0.8888888888888888,
              "#fdca26"
             ],
             [
              1,
              "#f0f921"
             ]
            ],
            "type": "histogram2dcontour"
           }
          ],
          "mesh3d": [
           {
            "colorbar": {
             "outlinewidth": 0,
             "ticks": ""
            },
            "type": "mesh3d"
           }
          ],
          "parcoords": [
           {
            "line": {
             "colorbar": {
              "outlinewidth": 0,
              "ticks": ""
             }
            },
            "type": "parcoords"
           }
          ],
          "pie": [
           {
            "automargin": true,
            "type": "pie"
           }
          ],
          "scatter": [
           {
            "marker": {
             "colorbar": {
              "outlinewidth": 0,
              "ticks": ""
             }
            },
            "type": "scatter"
           }
          ],
          "scatter3d": [
           {
            "line": {
             "colorbar": {
              "outlinewidth": 0,
              "ticks": ""
             }
            },
            "marker": {
             "colorbar": {
              "outlinewidth": 0,
              "ticks": ""
             }
            },
            "type": "scatter3d"
           }
          ],
          "scattercarpet": [
           {
            "marker": {
             "colorbar": {
              "outlinewidth": 0,
              "ticks": ""
             }
            },
            "type": "scattercarpet"
           }
          ],
          "scattergeo": [
           {
            "marker": {
             "colorbar": {
              "outlinewidth": 0,
              "ticks": ""
             }
            },
            "type": "scattergeo"
           }
          ],
          "scattergl": [
           {
            "marker": {
             "colorbar": {
              "outlinewidth": 0,
              "ticks": ""
             }
            },
            "type": "scattergl"
           }
          ],
          "scattermapbox": [
           {
            "marker": {
             "colorbar": {
              "outlinewidth": 0,
              "ticks": ""
             }
            },
            "type": "scattermapbox"
           }
          ],
          "scatterpolar": [
           {
            "marker": {
             "colorbar": {
              "outlinewidth": 0,
              "ticks": ""
             }
            },
            "type": "scatterpolar"
           }
          ],
          "scatterpolargl": [
           {
            "marker": {
             "colorbar": {
              "outlinewidth": 0,
              "ticks": ""
             }
            },
            "type": "scatterpolargl"
           }
          ],
          "scatterternary": [
           {
            "marker": {
             "colorbar": {
              "outlinewidth": 0,
              "ticks": ""
             }
            },
            "type": "scatterternary"
           }
          ],
          "surface": [
           {
            "colorbar": {
             "outlinewidth": 0,
             "ticks": ""
            },
            "colorscale": [
             [
              0,
              "#0d0887"
             ],
             [
              0.1111111111111111,
              "#46039f"
             ],
             [
              0.2222222222222222,
              "#7201a8"
             ],
             [
              0.3333333333333333,
              "#9c179e"
             ],
             [
              0.4444444444444444,
              "#bd3786"
             ],
             [
              0.5555555555555556,
              "#d8576b"
             ],
             [
              0.6666666666666666,
              "#ed7953"
             ],
             [
              0.7777777777777778,
              "#fb9f3a"
             ],
             [
              0.8888888888888888,
              "#fdca26"
             ],
             [
              1,
              "#f0f921"
             ]
            ],
            "type": "surface"
           }
          ],
          "table": [
           {
            "cells": {
             "fill": {
              "color": "#EBF0F8"
             },
             "line": {
              "color": "white"
             }
            },
            "header": {
             "fill": {
              "color": "#C8D4E3"
             },
             "line": {
              "color": "white"
             }
            },
            "type": "table"
           }
          ]
         },
         "layout": {
          "annotationdefaults": {
           "arrowcolor": "#2a3f5f",
           "arrowhead": 0,
           "arrowwidth": 1
          },
          "autotypenumbers": "strict",
          "coloraxis": {
           "colorbar": {
            "outlinewidth": 0,
            "ticks": ""
           }
          },
          "colorscale": {
           "diverging": [
            [
             0,
             "#8e0152"
            ],
            [
             0.1,
             "#c51b7d"
            ],
            [
             0.2,
             "#de77ae"
            ],
            [
             0.3,
             "#f1b6da"
            ],
            [
             0.4,
             "#fde0ef"
            ],
            [
             0.5,
             "#f7f7f7"
            ],
            [
             0.6,
             "#e6f5d0"
            ],
            [
             0.7,
             "#b8e186"
            ],
            [
             0.8,
             "#7fbc41"
            ],
            [
             0.9,
             "#4d9221"
            ],
            [
             1,
             "#276419"
            ]
           ],
           "sequential": [
            [
             0,
             "#0d0887"
            ],
            [
             0.1111111111111111,
             "#46039f"
            ],
            [
             0.2222222222222222,
             "#7201a8"
            ],
            [
             0.3333333333333333,
             "#9c179e"
            ],
            [
             0.4444444444444444,
             "#bd3786"
            ],
            [
             0.5555555555555556,
             "#d8576b"
            ],
            [
             0.6666666666666666,
             "#ed7953"
            ],
            [
             0.7777777777777778,
             "#fb9f3a"
            ],
            [
             0.8888888888888888,
             "#fdca26"
            ],
            [
             1,
             "#f0f921"
            ]
           ],
           "sequentialminus": [
            [
             0,
             "#0d0887"
            ],
            [
             0.1111111111111111,
             "#46039f"
            ],
            [
             0.2222222222222222,
             "#7201a8"
            ],
            [
             0.3333333333333333,
             "#9c179e"
            ],
            [
             0.4444444444444444,
             "#bd3786"
            ],
            [
             0.5555555555555556,
             "#d8576b"
            ],
            [
             0.6666666666666666,
             "#ed7953"
            ],
            [
             0.7777777777777778,
             "#fb9f3a"
            ],
            [
             0.8888888888888888,
             "#fdca26"
            ],
            [
             1,
             "#f0f921"
            ]
           ]
          },
          "colorway": [
           "#636efa",
           "#EF553B",
           "#00cc96",
           "#ab63fa",
           "#FFA15A",
           "#19d3f3",
           "#FF6692",
           "#B6E880",
           "#FF97FF",
           "#FECB52"
          ],
          "font": {
           "color": "#2a3f5f"
          },
          "geo": {
           "bgcolor": "white",
           "lakecolor": "white",
           "landcolor": "#E5ECF6",
           "showlakes": true,
           "showland": true,
           "subunitcolor": "white"
          },
          "hoverlabel": {
           "align": "left"
          },
          "hovermode": "closest",
          "mapbox": {
           "style": "light"
          },
          "paper_bgcolor": "white",
          "plot_bgcolor": "#E5ECF6",
          "polar": {
           "angularaxis": {
            "gridcolor": "white",
            "linecolor": "white",
            "ticks": ""
           },
           "bgcolor": "#E5ECF6",
           "radialaxis": {
            "gridcolor": "white",
            "linecolor": "white",
            "ticks": ""
           }
          },
          "scene": {
           "xaxis": {
            "backgroundcolor": "#E5ECF6",
            "gridcolor": "white",
            "gridwidth": 2,
            "linecolor": "white",
            "showbackground": true,
            "ticks": "",
            "zerolinecolor": "white"
           },
           "yaxis": {
            "backgroundcolor": "#E5ECF6",
            "gridcolor": "white",
            "gridwidth": 2,
            "linecolor": "white",
            "showbackground": true,
            "ticks": "",
            "zerolinecolor": "white"
           },
           "zaxis": {
            "backgroundcolor": "#E5ECF6",
            "gridcolor": "white",
            "gridwidth": 2,
            "linecolor": "white",
            "showbackground": true,
            "ticks": "",
            "zerolinecolor": "white"
           }
          },
          "shapedefaults": {
           "line": {
            "color": "#2a3f5f"
           }
          },
          "ternary": {
           "aaxis": {
            "gridcolor": "white",
            "linecolor": "white",
            "ticks": ""
           },
           "baxis": {
            "gridcolor": "white",
            "linecolor": "white",
            "ticks": ""
           },
           "bgcolor": "#E5ECF6",
           "caxis": {
            "gridcolor": "white",
            "linecolor": "white",
            "ticks": ""
           }
          },
          "title": {
           "x": 0.05
          },
          "xaxis": {
           "automargin": true,
           "gridcolor": "white",
           "linecolor": "white",
           "ticks": "",
           "title": {
            "standoff": 15
           },
           "zerolinecolor": "white",
           "zerolinewidth": 2
          },
          "yaxis": {
           "automargin": true,
           "gridcolor": "white",
           "linecolor": "white",
           "ticks": "",
           "title": {
            "standoff": 15
           },
           "zerolinecolor": "white",
           "zerolinewidth": 2
          }
         }
        },
        "xaxis": {
         "anchor": "y",
         "autorange": true,
         "domain": [
          0,
          1
         ],
         "range": [
          0.5,
          0.95
         ],
         "title": {
          "text": "label"
         },
         "type": "linear"
        },
        "yaxis": {
         "anchor": "x",
         "autorange": true,
         "domain": [
          0,
          1
         ],
         "range": [
          0,
          20
         ],
         "title": {
          "text": "count"
         }
        }
       }
      },
      "image/png": "[encoded data removed]",
      "text/html": [
       "<div>                            <div id=\"2b62b6e1-5fae-4236-9263-52597d271dc5\" class=\"plotly-graph-div\" style=\"height:525px; width:100%;\"></div>            <script type=\"text/javascript\">                require([\"plotly\"], function(Plotly) {                    window.PLOTLYENV=window.PLOTLYENV || {};                                    if (document.getElementById(\"2b62b6e1-5fae-4236-9263-52597d271dc5\")) {                    Plotly.newPlot(                        \"2b62b6e1-5fae-4236-9263-52597d271dc5\",                        [{\"alignmentgroup\": \"True\", \"bingroup\": \"x\", \"hovertemplate\": \"label=%{x}<br>count=%{y}<extra></extra>\", \"legendgroup\": \"\", \"marker\": {\"color\": \"#636efa\"}, \"name\": \"\", \"nbinsx\": 100, \"offsetgroup\": \"\", \"orientation\": \"v\", \"showlegend\": false, \"type\": \"histogram\", \"x\": [0.6721560000000001, 0.606771, 0.713611, 0.847937, 0.513013, 0.672034, 0.732434, 0.6167590000000001, 0.903978, 0.535986, 0.712482, 0.532131, 0.7059840000000001, 0.68378, 0.909416, 0.7525310000000001, 0.59132, 0.697515, 0.8236479999999999, 0.737344, 0.602996, 0.788716, 0.65309, 0.7520819999999999, 0.779409, 0.796044, 0.583476, 0.899075, 0.677405, 0.646613, 0.62389, 0.735867, 0.572249, 0.8188810000000001, 0.515169, 0.725351, 0.937905, 0.594521, 0.559198, 0.5403399999999999, 0.625183, 0.500232, 0.541168, 0.877258, 0.851274, 0.567729, 0.917293, 0.690192, 0.8025329999999999, 0.871733, 0.581755, 0.515886, 0.790609, 0.80224, 0.922905, 0.8522360000000001, 0.854351, 0.72824, 0.702337, 0.804563, 0.845141, 0.942503, 0.727798, 0.536909, 0.846197, 0.541614, 0.611987, 0.926596, 0.584676, 0.901726, 0.6722020000000001, 0.772111, 0.868624, 0.733046, 0.768365, 0.682813, 0.543963, 0.728221, 0.518259, 0.594442, 0.7060569999999999, 0.838883, 0.875524, 0.941067, 0.5208010000000001, 0.504046, 0.74188, 0.928933, 0.681016, 0.628129, 0.910971, 0.693554, 0.897368, 0.723096, 0.549702, 0.579702, 0.872368, 0.940326, 0.549429, 0.750988, 0.573732, 0.511362, 0.908049, 0.638127, 0.75293, 0.7252270000000001, 0.5989140000000001, 0.658242, 0.892224, 0.707388, 0.752893, 0.808391, 0.6900970000000001, 0.515714, 0.634336, 0.561897, 0.786041, 0.777435, 0.928048, 0.942959, 0.735123, 0.935171, 0.677762, 0.56253, 0.5061869999999999, 0.608621, 0.917, 0.736637, 0.778764, 0.51151, 0.584483, 0.899488, 0.732111, 0.536043, 0.91029, 0.507111, 0.931967, 0.809886, 0.592992, 0.637996, 0.7470479999999999, 0.75132, 0.936803, 0.742053, 0.5795170000000001, 0.7301770000000001, 0.57188, 0.5637989999999999, 0.761999, 0.8363299999999999, 0.829514, 0.635347, 0.550652, 0.8377319999999999, 0.701447, 0.603318, 0.5463779999999999, 0.8068420000000001, 0.5432899999999999, 0.6124310000000001, 0.811942, 0.831303, 0.529887, 0.940315, 0.865115, 0.550998, 0.811706, 0.873663, 0.548875, 0.926971, 0.646183, 0.813733, 0.72543, 0.526443, 0.692386, 0.8837729999999999, 0.566439, 0.8742030000000001, 0.832918, 0.586477, 0.572892, 0.945298, 0.945396, 0.7764409999999999, 0.787008, 0.934673, 0.681267, 0.509424, 0.546716, 0.64132, 0.5132220000000001, 0.6761189999999999, 0.777357, 0.518925, 0.9354, 0.509054, 0.90263, 0.94443, 0.776496, 0.87864, 0.733033, 0.916898, 0.708692, 0.680405, 0.543601, 0.629742, 0.516799, 0.910194, 0.8324020000000001, 0.922365, 0.673141, 0.940748, 0.60727, 0.757606, 0.6925680000000001, 0.7836390000000001, 0.80271, 0.543417, 0.8756940000000001, 0.7653800000000001, 0.684852, 0.806873, 0.519543, 0.6711550000000001, 0.747954, 0.707887, 0.564562, 0.784537, 0.585545, 0.948485, 0.588554, 0.949394, 0.566733, 0.6493140000000001, 0.80088, 0.586824, 0.790542, 0.909595, 0.913022, 0.5959810000000001, 0.8514860000000001, 0.861859, 0.6772020000000001, 0.522308, 0.605169, 0.675417, 0.927441, 0.685512, 0.839053, 0.598309, 0.503208, 0.922635, 0.897669, 0.8618950000000001, 0.831608, 0.517202, 0.536018, 0.569021, 0.593055, 0.755206, 0.772593, 0.8252700000000001, 0.84935, 0.592458, 0.590533, 0.635454, 0.640188, 0.94199, 0.647087, 0.549038, 0.724115, 0.5028729999999999, 0.781687, 0.708327, 0.599841, 0.746492, 0.8329340000000001, 0.78632, 0.887114, 0.675141, 0.7921520000000001, 0.846514, 0.845253, 0.9165, 0.800972, 0.603144, 0.58767, 0.503199, 0.830456, 0.877398, 0.760199, 0.852298, 0.69029, 0.886591, 0.527502, 0.944706, 0.553904, 0.6938, 0.8374590000000001, 0.8808790000000001, 0.8261879999999999, 0.848007, 0.8375950000000001, 0.784011, 0.8723989999999999, 0.8589559999999999, 0.779391, 0.727511, 0.7178, 0.7752319999999999, 0.8492940000000001, 0.582411, 0.6958979999999999, 0.725762, 0.5699930000000001, 0.876035, 0.91622, 0.538362, 0.866246, 0.681188, 0.567858, 0.809902, 0.5442859999999999, 0.7038300000000001, 0.708005, 0.6266609999999999, 0.59969, 0.545845, 0.751159, 0.8510780000000001, 0.652054, 0.55482, 0.748071, 0.7302109999999999, 0.575087, 0.843917, 0.627045, 0.6496430000000001, 0.833577, 0.682149, 0.8142050000000001, 0.936808, 0.739256, 0.8690040000000001, 0.5410699999999999, 0.935272, 0.845376, 0.550722, 0.75317, 0.513354, 0.67782, 0.666768, 0.882769, 0.693682, 0.8894290000000001, 0.535872, 0.81293, 0.505996, 0.942479, 0.651655, 0.5826020000000001, 0.818824, 0.93508, 0.791963, 0.6438149999999999, 0.91457, 0.7879999999999999, 0.927496, 0.768027, 0.921606, 0.5191680000000001, 0.810887, 0.902266, 0.586724, 0.792647, 0.7517550000000001, 0.583775, 0.619189, 0.9199, 0.8479780000000001, 0.725202, 0.566346, 0.883657, 0.699829, 0.5849260000000001, 0.737002, 0.691072, 0.87977, 0.644664, 0.940269, 0.542432, 0.8506459999999999, 0.717962, 0.634279, 0.808094, 0.687145, 0.918379, 0.705191, 0.768878, 0.717809, 0.5392, 0.778633, 0.8864709999999999, 0.875073, 0.8697159999999999, 0.6298060000000001, 0.912749, 0.739556, 0.501599, 0.5763, 0.611955, 0.71524, 0.763121, 0.810919, 0.636487, 0.518845, 0.881885, 0.8812770000000001, 0.631962, 0.620771, 0.922723, 0.70607, 0.593371, 0.820901, 0.7730319999999999, 0.881742, 0.8271639999999999, 0.872906, 0.868541, 0.815683, 0.931888, 0.905747, 0.779798, 0.861768, 0.5542159999999999, 0.847824, 0.591095, 0.939858, 0.77185, 0.937431, 0.799513, 0.8377899999999999, 0.686682, 0.778734, 0.731283, 0.936556, 0.520712, 0.891107, 0.610233, 0.772883, 0.907553, 0.664722, 0.783565, 0.768989, 0.5195609999999999, 0.566846, 0.8875069999999999, 0.591813, 0.82316, 0.862922, 0.65822, 0.8907010000000001, 0.8782549999999999, 0.7076319999999999, 0.741448, 0.796247, 0.591679, 0.641352, 0.664072, 0.799149, 0.872633, 0.524373, 0.51858, 0.670924, 0.630315, 0.746128, 0.9002889999999999, 0.669963, 0.7758149999999999, 0.8037770000000001, 0.7322390000000001, 0.527516, 0.887875, 0.943048, 0.946796, 0.70444, 0.902678, 0.8748, 0.910134, 0.913682, 0.8634959999999999, 0.570921, 0.531115, 0.549721, 0.6585300000000001, 0.8437959999999999, 0.766074, 0.928073, 0.77165, 0.8611690000000001, 0.726658, 0.6276520000000001, 0.903212, 0.542844, 0.7219899999999999, 0.7844899999999999, 0.737699, 0.8256709999999999, 0.70039, 0.922144, 0.792978, 0.719065, 0.702217, 0.593118, 0.554301, 0.919231, 0.579292, 0.85825, 0.565263, 0.636829, 0.683824, 0.505369, 0.654529, 0.5733560000000001, 0.797353, 0.8163279999999999, 0.568217, 0.943436, 0.622792, 0.738689, 0.7070390000000001, 0.604635, 0.537229, 0.865563, 0.689936, 0.542941, 0.919289, 0.671509, 0.602124, 0.540629, 0.605205, 0.7394270000000001, 0.8544430000000001, 0.543929, 0.678962, 0.536994, 0.540062, 0.5433319999999999, 0.573639, 0.73644, 0.924898, 0.8540399999999999, 0.667045, 0.630137, 0.742722, 0.7770060000000001, 0.5082180000000001, 0.5779310000000001, 0.788528, 0.737581, 0.581101, 0.797832, 0.565862, 0.698807, 0.606108, 0.814388, 0.689824, 0.690772, 0.658844, 0.8724049999999999, 0.833515, 0.5424979999999999, 0.518119, 0.622013, 0.524752, 0.896357, 0.593771, 0.754202, 0.643914, 0.5707810000000001, 0.656478, 0.652845, 0.818176, 0.814412, 0.507282, 0.90876, 0.8471559999999999, 0.67624, 0.859719, 0.900806, 0.897985, 0.884115, 0.677784, 0.8213940000000001, 0.773564, 0.612244, 0.528544, 0.614629, 0.8666440000000001, 0.942295, 0.8999950000000001, 0.948864, 0.750627, 0.729511, 0.7414310000000001, 0.514324, 0.628807, 0.824207, 0.5406850000000001, 0.692129, 0.798976, 0.503042, 0.928485, 0.942243, 0.609563, 0.938049, 0.8495530000000001, 0.66859, 0.559507, 0.8250299999999999, 0.7362479999999999, 0.535507, 0.822876, 0.690887, 0.728812, 0.774245, 0.669184, 0.514538, 0.857361, 0.756324, 0.792691, 0.865284, 0.611124, 0.906201, 0.550963, 0.534633, 0.62387, 0.718785, 0.583612, 0.567131, 0.693725, 0.885015, 0.8978809999999999, 0.6192770000000001, 0.606279, 0.898151, 0.8382860000000001, 0.682664, 0.6308729999999999, 0.910958, 0.940581, 0.76927, 0.684238, 0.912569, 0.719831, 0.656334, 0.656028, 0.632831, 0.6234430000000001, 0.72255, 0.6450859999999999, 0.592482, 0.843806, 0.724969, 0.719839, 0.800873, 0.901464, 0.5912390000000001, 0.690757, 0.594288, 0.549892, 0.708885, 0.6595880000000001, 0.820157, 0.78149, 0.793162, 0.612568, 0.6959069999999999, 0.534907, 0.679546, 0.717594, 0.8125939999999999, 0.77117, 0.915659, 0.5420550000000001, 0.816817, 0.820989, 0.820049, 0.8574860000000001, 0.6936640000000001, 0.712577, 0.618537, 0.927386, 0.643422, 0.613291, 0.837341, 0.6963600000000001, 0.573699, 0.6802010000000001, 0.684938, 0.602908, 0.756653, 0.592577, 0.8476819999999999, 0.5117729999999999, 0.858475, 0.511195, 0.638258, 0.94415, 0.573264, 0.599939, 0.707859, 0.647271, 0.6697420000000001, 0.7798390000000001, 0.699808, 0.78881, 0.67187, 0.8404370000000001, 0.839549, 0.865029, 0.930291, 0.574017, 0.669034, 0.655452, 0.815657, 0.681703, 0.710859, 0.832699, 0.7876449999999999], \"xaxis\": \"x\", \"yaxis\": \"y\"}],                        {\"barmode\": \"relative\", \"legend\": {\"tracegroupgap\": 0}, \"margin\": {\"t\": 60}, \"template\": {\"data\": {\"bar\": [{\"error_x\": {\"color\": \"#2a3f5f\"}, \"error_y\": {\"color\": \"#2a3f5f\"}, \"marker\": {\"line\": {\"color\": \"#E5ECF6\", \"width\": 0.5}}, \"type\": \"bar\"}], \"barpolar\": [{\"marker\": {\"line\": {\"color\": \"#E5ECF6\", \"width\": 0.5}}, \"type\": \"barpolar\"}], \"carpet\": [{\"aaxis\": {\"endlinecolor\": \"#2a3f5f\", \"gridcolor\": \"white\", \"linecolor\": \"white\", \"minorgridcolor\": \"white\", \"startlinecolor\": \"#2a3f5f\"}, \"baxis\": {\"endlinecolor\": \"#2a3f5f\", \"gridcolor\": \"white\", \"linecolor\": \"white\", \"minorgridcolor\": \"white\", \"startlinecolor\": \"#2a3f5f\"}, \"type\": \"carpet\"}], \"choropleth\": [{\"colorbar\": {\"outlinewidth\": 0, \"ticks\": \"\"}, \"type\": \"choropleth\"}], \"contour\": [{\"colorbar\": {\"outlinewidth\": 0, \"ticks\": \"\"}, \"colorscale\": [[0.0, \"#0d0887\"], [0.1111111111111111, \"#46039f\"], [0.2222222222222222, \"#7201a8\"], [0.3333333333333333, \"#9c179e\"], [0.4444444444444444, \"#bd3786\"], [0.5555555555555556, \"#d8576b\"], [0.6666666666666666, \"#ed7953\"], [0.7777777777777778, \"#fb9f3a\"], [0.8888888888888888, \"#fdca26\"], [1.0, \"#f0f921\"]], \"type\": \"contour\"}], \"contourcarpet\": [{\"colorbar\": {\"outlinewidth\": 0, \"ticks\": \"\"}, \"type\": \"contourcarpet\"}], \"heatmap\": [{\"colorbar\": {\"outlinewidth\": 0, \"ticks\": \"\"}, \"colorscale\": [[0.0, \"#0d0887\"], [0.1111111111111111, \"#46039f\"], [0.2222222222222222, \"#7201a8\"], [0.3333333333333333, \"#9c179e\"], [0.4444444444444444, \"#bd3786\"], [0.5555555555555556, \"#d8576b\"], [0.6666666666666666, \"#ed7953\"], [0.7777777777777778, \"#fb9f3a\"], [0.8888888888888888, \"#fdca26\"], [1.0, \"#f0f921\"]], \"type\": \"heatmap\"}], \"heatmapgl\": [{\"colorbar\": {\"outlinewidth\": 0, \"ticks\": \"\"}, \"colorscale\": [[0.0, \"#0d0887\"], [0.1111111111111111, \"#46039f\"], [0.2222222222222222, \"#7201a8\"], [0.3333333333333333, \"#9c179e\"], [0.4444444444444444, \"#bd3786\"], [0.5555555555555556, \"#d8576b\"], [0.6666666666666666, \"#ed7953\"], [0.7777777777777778, \"#fb9f3a\"], [0.8888888888888888, \"#fdca26\"], [1.0, \"#f0f921\"]], \"type\": \"heatmapgl\"}], \"histogram\": [{\"marker\": {\"colorbar\": {\"outlinewidth\": 0, \"ticks\": \"\"}}, \"type\": \"histogram\"}], \"histogram2d\": [{\"colorbar\": {\"outlinewidth\": 0, \"ticks\": \"\"}, \"colorscale\": [[0.0, \"#0d0887\"], [0.1111111111111111, \"#46039f\"], [0.2222222222222222, \"#7201a8\"], [0.3333333333333333, \"#9c179e\"], [0.4444444444444444, \"#bd3786\"], [0.5555555555555556, \"#d8576b\"], [0.6666666666666666, \"#ed7953\"], [0.7777777777777778, \"#fb9f3a\"], [0.8888888888888888, \"#fdca26\"], [1.0, \"#f0f921\"]], \"type\": \"histogram2d\"}], \"histogram2dcontour\": [{\"colorbar\": {\"outlinewidth\": 0, \"ticks\": \"\"}, \"colorscale\": [[0.0, \"#0d0887\"], [0.1111111111111111, \"#46039f\"], [0.2222222222222222, \"#7201a8\"], [0.3333333333333333, \"#9c179e\"], [0.4444444444444444, \"#bd3786\"], [0.5555555555555556, \"#d8576b\"], [0.6666666666666666, \"#ed7953\"], [0.7777777777777778, \"#fb9f3a\"], [0.8888888888888888, \"#fdca26\"], [1.0, \"#f0f921\"]], \"type\": \"histogram2dcontour\"}], \"mesh3d\": [{\"colorbar\": {\"outlinewidth\": 0, \"ticks\": \"\"}, \"type\": \"mesh3d\"}], \"parcoords\": [{\"line\": {\"colorbar\": {\"outlinewidth\": 0, \"ticks\": \"\"}}, \"type\": \"parcoords\"}], \"pie\": [{\"automargin\": true, \"type\": \"pie\"}], \"scatter\": [{\"marker\": {\"colorbar\": {\"outlinewidth\": 0, \"ticks\": \"\"}}, \"type\": \"scatter\"}], \"scatter3d\": [{\"line\": {\"colorbar\": {\"outlinewidth\": 0, \"ticks\": \"\"}}, \"marker\": {\"colorbar\": {\"outlinewidth\": 0, \"ticks\": \"\"}}, \"type\": \"scatter3d\"}], \"scattercarpet\": [{\"marker\": {\"colorbar\": {\"outlinewidth\": 0, \"ticks\": \"\"}}, \"type\": \"scattercarpet\"}], \"scattergeo\": [{\"marker\": {\"colorbar\": {\"outlinewidth\": 0, \"ticks\": \"\"}}, \"type\": \"scattergeo\"}], \"scattergl\": [{\"marker\": {\"colorbar\": {\"outlinewidth\": 0, \"ticks\": \"\"}}, \"type\": \"scattergl\"}], \"scattermapbox\": [{\"marker\": {\"colorbar\": {\"outlinewidth\": 0, \"ticks\": \"\"}}, \"type\": \"scattermapbox\"}], \"scatterpolar\": [{\"marker\": {\"colorbar\": {\"outlinewidth\": 0, \"ticks\": \"\"}}, \"type\": \"scatterpolar\"}], \"scatterpolargl\": [{\"marker\": {\"colorbar\": {\"outlinewidth\": 0, \"ticks\": \"\"}}, \"type\": \"scatterpolargl\"}], \"scatterternary\": [{\"marker\": {\"colorbar\": {\"outlinewidth\": 0, \"ticks\": \"\"}}, \"type\": \"scatterternary\"}], \"surface\": [{\"colorbar\": {\"outlinewidth\": 0, \"ticks\": \"\"}, \"colorscale\": [[0.0, \"#0d0887\"], [0.1111111111111111, \"#46039f\"], [0.2222222222222222, \"#7201a8\"], [0.3333333333333333, \"#9c179e\"], [0.4444444444444444, \"#bd3786\"], [0.5555555555555556, \"#d8576b\"], [0.6666666666666666, \"#ed7953\"], [0.7777777777777778, \"#fb9f3a\"], [0.8888888888888888, \"#fdca26\"], [1.0, \"#f0f921\"]], \"type\": \"surface\"}], \"table\": [{\"cells\": {\"fill\": {\"color\": \"#EBF0F8\"}, \"line\": {\"color\": \"white\"}}, \"header\": {\"fill\": {\"color\": \"#C8D4E3\"}, \"line\": {\"color\": \"white\"}}, \"type\": \"table\"}]}, \"layout\": {\"annotationdefaults\": {\"arrowcolor\": \"#2a3f5f\", \"arrowhead\": 0, \"arrowwidth\": 1}, \"autotypenumbers\": \"strict\", \"coloraxis\": {\"colorbar\": {\"outlinewidth\": 0, \"ticks\": \"\"}}, \"colorscale\": {\"diverging\": [[0, \"#8e0152\"], [0.1, \"#c51b7d\"], [0.2, \"#de77ae\"], [0.3, \"#f1b6da\"], [0.4, \"#fde0ef\"], [0.5, \"#f7f7f7\"], [0.6, \"#e6f5d0\"], [0.7, \"#b8e186\"], [0.8, \"#7fbc41\"], [0.9, \"#4d9221\"], [1, \"#276419\"]], \"sequential\": [[0.0, \"#0d0887\"], [0.1111111111111111, \"#46039f\"], [0.2222222222222222, \"#7201a8\"], [0.3333333333333333, \"#9c179e\"], [0.4444444444444444, \"#bd3786\"], [0.5555555555555556, \"#d8576b\"], [0.6666666666666666, \"#ed7953\"], [0.7777777777777778, \"#fb9f3a\"], [0.8888888888888888, \"#fdca26\"], [1.0, \"#f0f921\"]], \"sequentialminus\": [[0.0, \"#0d0887\"], [0.1111111111111111, \"#46039f\"], [0.2222222222222222, \"#7201a8\"], [0.3333333333333333, \"#9c179e\"], [0.4444444444444444, \"#bd3786\"], [0.5555555555555556, \"#d8576b\"], [0.6666666666666666, \"#ed7953\"], [0.7777777777777778, \"#fb9f3a\"], [0.8888888888888888, \"#fdca26\"], [1.0, \"#f0f921\"]]}, \"colorway\": [\"#636efa\", \"#EF553B\", \"#00cc96\", \"#ab63fa\", \"#FFA15A\", \"#19d3f3\", \"#FF6692\", \"#B6E880\", \"#FF97FF\", \"#FECB52\"], \"font\": {\"color\": \"#2a3f5f\"}, \"geo\": {\"bgcolor\": \"white\", \"lakecolor\": \"white\", \"landcolor\": \"#E5ECF6\", \"showlakes\": true, \"showland\": true, \"subunitcolor\": \"white\"}, \"hoverlabel\": {\"align\": \"left\"}, \"hovermode\": \"closest\", \"mapbox\": {\"style\": \"light\"}, \"paper_bgcolor\": \"white\", \"plot_bgcolor\": \"#E5ECF6\", \"polar\": {\"angularaxis\": {\"gridcolor\": \"white\", \"linecolor\": \"white\", \"ticks\": \"\"}, \"bgcolor\": \"#E5ECF6\", \"radialaxis\": {\"gridcolor\": \"white\", \"linecolor\": \"white\", \"ticks\": \"\"}}, \"scene\": {\"xaxis\": {\"backgroundcolor\": \"#E5ECF6\", \"gridcolor\": \"white\", \"gridwidth\": 2, \"linecolor\": \"white\", \"showbackground\": true, \"ticks\": \"\", \"zerolinecolor\": \"white\"}, \"yaxis\": {\"backgroundcolor\": \"#E5ECF6\", \"gridcolor\": \"white\", \"gridwidth\": 2, \"linecolor\": \"white\", \"showbackground\": true, \"ticks\": \"\", \"zerolinecolor\": \"white\"}, \"zaxis\": {\"backgroundcolor\": \"#E5ECF6\", \"gridcolor\": \"white\", \"gridwidth\": 2, \"linecolor\": \"white\", \"showbackground\": true, \"ticks\": \"\", \"zerolinecolor\": \"white\"}}, \"shapedefaults\": {\"line\": {\"color\": \"#2a3f5f\"}}, \"ternary\": {\"aaxis\": {\"gridcolor\": \"white\", \"linecolor\": \"white\", \"ticks\": \"\"}, \"baxis\": {\"gridcolor\": \"white\", \"linecolor\": \"white\", \"ticks\": \"\"}, \"bgcolor\": \"#E5ECF6\", \"caxis\": {\"gridcolor\": \"white\", \"linecolor\": \"white\", \"ticks\": \"\"}}, \"title\": {\"x\": 0.05}, \"xaxis\": {\"automargin\": true, \"gridcolor\": \"white\", \"linecolor\": \"white\", \"ticks\": \"\", \"title\": {\"standoff\": 15}, \"zerolinecolor\": \"white\", \"zerolinewidth\": 2}, \"yaxis\": {\"automargin\": true, \"gridcolor\": \"white\", \"linecolor\": \"white\", \"ticks\": \"\", \"title\": {\"standoff\": 15}, \"zerolinecolor\": \"white\", \"zerolinewidth\": 2}}}, \"xaxis\": {\"anchor\": \"y\", \"domain\": [0.0, 1.0], \"title\": {\"text\": \"label\"}}, \"yaxis\": {\"anchor\": \"x\", \"domain\": [0.0, 1.0], \"title\": {\"text\": \"count\"}}},                        {\"responsive\": true}                    ).then(function(){\n",
       "                            \n",
       "var gd = document.getElementById('2b62b6e1-5fae-4236-9263-52597d271dc5');\n",
       "var x = new MutationObserver(function (mutations, observer) {{\n",
       "        var display = window.getComputedStyle(gd).display;\n",
       "        if (!display || display === 'none') {{\n",
       "            console.log([gd, 'removed!']);\n",
       "            Plotly.purge(gd);\n",
       "            observer.disconnect();\n",
       "        }}\n",
       "}});\n",
       "\n",
       "// Listen for the removal of the full notebook cells\n",
       "var notebookContainer = gd.closest('#notebook-container');\n",
       "if (notebookContainer) {{\n",
       "    x.observe(notebookContainer, {childList: true});\n",
       "}}\n",
       "\n",
       "// Listen for the clearing of the current output cell\n",
       "var outputEl = gd.closest('.output');\n",
       "if (outputEl) {{\n",
       "    x.observe(outputEl, {childList: true});\n",
       "}}\n",
       "\n",
       "                        })                };                });            </script>        </div>"
      ]
     },
     "metadata": {},
     "output_type": "display_data"
    }
   ],
   "source": [
    "import matplotlib.pyplot as plt\n",
    "num = 20\n",
    "k=np.random.randint(len(y_train))\n",
    "images = x_train[k:(k+num)]\n",
    "labels = y_train[k:(k+num)]\n",
    "num_row = 2\n",
    "num_col = 10\n",
    "# plot images\n",
    "fig, axes = plt.subplots(num_row, num_col, figsize=(1.5*num_col,2*num_row))\n",
    "for i in range(num):\n",
    "    ax = axes[i//num_col, i%num_col]\n",
    "    ax.imshow(images[i], cmap='gray')\n",
    "    ax.set_title('Label: {}'.format(labels[i]))\n",
    "plt.tight_layout()\n",
    "plt.show()\n",
    "\n",
    "import plotly.express as px\n",
    "df = pd.DataFrame(y_train, columns=['label'])\n",
    "fig = px.histogram(df, x='label', nbins=100)\n",
    "fig.show()"
   ]
  },
  {
   "cell_type": "markdown",
   "metadata": {
    "colab_type": "text"
   },
   "source": [
    "The second step is to run the ImageRegressor.  It is recommended have more\n",
    "trials for more complicated datasets.  This is just a quick demo of MNIST, so\n",
    "we set max_trials to 1.  For the same reason, we set epochs to 2.  You can also\n",
    "leave the epochs unspecified for an adaptive number of epochs.\n"
   ]
  },
  {
   "cell_type": "code",
   "execution_count": 31,
   "metadata": {
    "colab_type": "code"
   },
   "outputs": [],
   "source": [
    "from sklearn.model_selection import train_test_split\n",
    "\n",
    "x_train, x_test, y_train, y_test = train_test_split(X, Y, test_size=0.2, random_state=42)"
   ]
  },
  {
   "cell_type": "code",
   "execution_count": null,
   "metadata": {
    "colab_type": "code"
   },
   "outputs": [
    {
     "name": "stdout",
     "output_type": "stream",
     "text": [
      "Trial 2 Complete [00h 58m 00s]\n",
      "val_loss: 0.09780475497245789\n",
      "\n",
      "Best val_loss So Far: 0.09780475497245789\n",
      "Total elapsed time: 01h 57m 09s\n",
      "Epoch 1/10\n",
      "19/19 [==============================] - 393s 20s/step - loss: 19664.6524 - mean_squared_error: 19664.6524\n",
      "Epoch 2/10\n",
      "19/19 [==============================] - 385s 20s/step - loss: 748.9387 - mean_squared_error: 748.9387\n",
      "Epoch 3/10\n",
      "19/19 [==============================] - 363s 19s/step - loss: 75.8489 - mean_squared_error: 75.8489\n",
      "Epoch 4/10\n",
      "19/19 [==============================] - 362s 19s/step - loss: 108.3570 - mean_squared_error: 108.3570\n",
      "Epoch 5/10\n",
      "19/19 [==============================] - 363s 19s/step - loss: 4.1694 - mean_squared_error: 4.1694\n",
      "Epoch 6/10\n",
      "14/19 [=====================>........] - ETA: 1:38 - loss: 5.5319 - mean_squared_error: 5.5319"
     ]
    }
   ],
   "source": [
    "# Initialize the image regressor.\n",
    "reg = ak.ImageRegressor(overwrite=True, directory='image_regressor2', max_trials=2)\n",
    "# Feed the image regressor with training data.\n",
    "reg.fit(x_train, y_train, epochs=10)\n",
    "\n",
    "\n",
    "# Predict with the best model.\n",
    "predicted_y = reg.predict(x_test)\n",
    "print(predicted_y)\n",
    "\n",
    "\n",
    "# Evaluate the best model with testing data.\n",
    "print(reg.evaluate(x_test, y_test))"
   ]
  },
  {
   "cell_type": "code",
   "execution_count": null,
   "metadata": {
    "colab_type": "code"
   },
   "outputs": [],
   "source": [
    "model = reg.export_model()\n",
    "model.summary()\n",
    "\n",
    "display(hyper_table(path='image_regressor'))\n",
    "y_score = model.predict(x_test)\n",
    "y_score_train = model.predict(x_train)\n",
    "\n",
    "predic_error_analysis(x_train, y_train, y_score_train, x_test, y_test, y_score)"
   ]
  }
 ],
 "metadata": {
  "colab": {
   "collapsed_sections": [],
   "name": "image_regression",
   "private_outputs": false,
   "provenance": [],
   "toc_visible": true
  },
  "kernelspec": {
   "display_name": "Python 3",
   "language": "python",
   "name": "python3"
  },
  "language_info": {
   "codemirror_mode": {
    "name": "ipython",
    "version": 3
   },
   "file_extension": ".py",
   "mimetype": "text/x-python",
   "name": "python",
   "nbconvert_exporter": "python",
   "pygments_lexer": "ipython3",
   "version": "3.6.9"
  }
 },
 "nbformat": 4,
 "nbformat_minor": 4
}
