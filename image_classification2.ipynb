{
 "cells": [
  {
   "cell_type": "code",
   "execution_count": 1,
   "metadata": {
    "colab_type": "code"
   },
   "outputs": [],
   "source": [
    "#!pip3 install autokeras\n",
    "#!pip3 install matplotlib"
   ]
  },
  {
   "cell_type": "code",
   "execution_count": 2,
   "metadata": {
    "colab_type": "code"
   },
   "outputs": [],
   "source": [
    "import numpy as np\n",
    "import pandas as pd\n",
    "import tensorflow as tf\n",
    "\n",
    "import logging\n",
    "logging.getLogger('tensorflow').disabled = True\n",
    "\n",
    "from sklearn.datasets import load_files\n",
    "from tensorflow.keras.datasets import mnist\n",
    "import autokeras as ak\n",
    "\n",
    "import plotly.express as px\n",
    "import copy \n",
    "import os\n",
    "import json\n",
    "\n",
    "from mylib import plot_roc, plot_pr_curve, plot_roc_train_test, plot_pr_train_test, hyper_table, predic_error_analysis, plot_pr_multi_class"
   ]
  },
  {
   "cell_type": "code",
   "execution_count": 3,
   "metadata": {
    "colab_type": "code"
   },
   "outputs": [
    {
     "name": "stdout",
     "output_type": "stream",
     "text": [
      "Num GPUs Available:  0\n"
     ]
    }
   ],
   "source": [
    "print(\"Num GPUs Available: \", len(tf.config.list_physical_devices('GPU')))"
   ]
  },
  {
   "cell_type": "markdown",
   "metadata": {
    "colab_type": "text"
   },
   "source": [
    "## A Simple Example\n",
    "The first step is to prepare your data. Here we use the MNIST dataset as an example\n"
   ]
  },
  {
   "cell_type": "markdown",
   "metadata": {
    "colab_type": "text"
   },
   "source": [
    "The second step is to run the ImageClassifier.\n",
    "It is recommended have more trials for more complicated datasets.\n",
    "This is just a quick demo of MNIST, so we set max_trials to 1.\n",
    "For the same reason, we set epochs to 10.\n",
    "You can also leave the epochs unspecified for an adaptive number of epochs.\n"
   ]
  },
  {
   "cell_type": "code",
   "execution_count": 5,
   "metadata": {
    "colab_type": "code"
   },
   "outputs": [
    {
     "data": {
      "text/html": [
       "<div>\n",
       "<style scoped>\n",
       "    .dataframe tbody tr th:only-of-type {\n",
       "        vertical-align: middle;\n",
       "    }\n",
       "\n",
       "    .dataframe tbody tr th {\n",
       "        vertical-align: top;\n",
       "    }\n",
       "\n",
       "    .dataframe thead th {\n",
       "        text-align: right;\n",
       "    }\n",
       "</style>\n",
       "<table border=\"1\" class=\"dataframe\">\n",
       "  <thead>\n",
       "    <tr style=\"text-align: right;\">\n",
       "      <th></th>\n",
       "      <th>file</th>\n",
       "      <th>blank</th>\n",
       "      <th>ps1</th>\n",
       "      <th>ps2</th>\n",
       "      <th>multi</th>\n",
       "      <th>ice</th>\n",
       "      <th>badice</th>\n",
       "      <th>mos1</th>\n",
       "      <th>mos2</th>\n",
       "      <th>Y</th>\n",
       "    </tr>\n",
       "  </thead>\n",
       "  <tbody>\n",
       "    <tr>\n",
       "      <th>0</th>\n",
       "      <td>fake_00001.pgm</td>\n",
       "      <td>0</td>\n",
       "      <td>1</td>\n",
       "      <td>0</td>\n",
       "      <td>0</td>\n",
       "      <td>1</td>\n",
       "      <td>0</td>\n",
       "      <td>0.892528</td>\n",
       "      <td>0.000000</td>\n",
       "      <td>ps1+ice</td>\n",
       "    </tr>\n",
       "    <tr>\n",
       "      <th>1</th>\n",
       "      <td>fake_00002.pgm</td>\n",
       "      <td>0</td>\n",
       "      <td>0</td>\n",
       "      <td>1</td>\n",
       "      <td>1</td>\n",
       "      <td>0</td>\n",
       "      <td>0</td>\n",
       "      <td>0.581729</td>\n",
       "      <td>0.568217</td>\n",
       "      <td>ps2+multi</td>\n",
       "    </tr>\n",
       "    <tr>\n",
       "      <th>2</th>\n",
       "      <td>fake_00003.pgm</td>\n",
       "      <td>0</td>\n",
       "      <td>1</td>\n",
       "      <td>0</td>\n",
       "      <td>0</td>\n",
       "      <td>0</td>\n",
       "      <td>0</td>\n",
       "      <td>0.508285</td>\n",
       "      <td>0.000000</td>\n",
       "      <td>ps1</td>\n",
       "    </tr>\n",
       "    <tr>\n",
       "      <th>3</th>\n",
       "      <td>fake_00004.pgm</td>\n",
       "      <td>0</td>\n",
       "      <td>1</td>\n",
       "      <td>0</td>\n",
       "      <td>0</td>\n",
       "      <td>0</td>\n",
       "      <td>0</td>\n",
       "      <td>0.852589</td>\n",
       "      <td>0.000000</td>\n",
       "      <td>ps1</td>\n",
       "    </tr>\n",
       "    <tr>\n",
       "      <th>4</th>\n",
       "      <td>fake_00005.pgm</td>\n",
       "      <td>0</td>\n",
       "      <td>0</td>\n",
       "      <td>1</td>\n",
       "      <td>0</td>\n",
       "      <td>0</td>\n",
       "      <td>0</td>\n",
       "      <td>0.762097</td>\n",
       "      <td>0.000000</td>\n",
       "      <td>ps2</td>\n",
       "    </tr>\n",
       "    <tr>\n",
       "      <th>...</th>\n",
       "      <td>...</td>\n",
       "      <td>...</td>\n",
       "      <td>...</td>\n",
       "      <td>...</td>\n",
       "      <td>...</td>\n",
       "      <td>...</td>\n",
       "      <td>...</td>\n",
       "      <td>...</td>\n",
       "      <td>...</td>\n",
       "      <td>...</td>\n",
       "    </tr>\n",
       "    <tr>\n",
       "      <th>26573</th>\n",
       "      <td>fake_38737.pgm</td>\n",
       "      <td>0</td>\n",
       "      <td>1</td>\n",
       "      <td>0</td>\n",
       "      <td>0</td>\n",
       "      <td>0</td>\n",
       "      <td>0</td>\n",
       "      <td>0.897076</td>\n",
       "      <td>0.000000</td>\n",
       "      <td>ps1</td>\n",
       "    </tr>\n",
       "    <tr>\n",
       "      <th>26574</th>\n",
       "      <td>fake_38738.pgm</td>\n",
       "      <td>0</td>\n",
       "      <td>1</td>\n",
       "      <td>0</td>\n",
       "      <td>0</td>\n",
       "      <td>0</td>\n",
       "      <td>0</td>\n",
       "      <td>0.646006</td>\n",
       "      <td>0.000000</td>\n",
       "      <td>ps1</td>\n",
       "    </tr>\n",
       "    <tr>\n",
       "      <th>26575</th>\n",
       "      <td>fake_38740.pgm</td>\n",
       "      <td>0</td>\n",
       "      <td>1</td>\n",
       "      <td>1</td>\n",
       "      <td>1</td>\n",
       "      <td>0</td>\n",
       "      <td>0</td>\n",
       "      <td>0.529205</td>\n",
       "      <td>0.716043</td>\n",
       "      <td>ps1+ps2+multi</td>\n",
       "    </tr>\n",
       "    <tr>\n",
       "      <th>26576</th>\n",
       "      <td>fake_38741.pgm</td>\n",
       "      <td>0</td>\n",
       "      <td>1</td>\n",
       "      <td>0</td>\n",
       "      <td>0</td>\n",
       "      <td>0</td>\n",
       "      <td>0</td>\n",
       "      <td>0.752521</td>\n",
       "      <td>0.000000</td>\n",
       "      <td>ps1</td>\n",
       "    </tr>\n",
       "    <tr>\n",
       "      <th>26577</th>\n",
       "      <td>fake_38742.pgm</td>\n",
       "      <td>0</td>\n",
       "      <td>1</td>\n",
       "      <td>0</td>\n",
       "      <td>0</td>\n",
       "      <td>0</td>\n",
       "      <td>0</td>\n",
       "      <td>0.752521</td>\n",
       "      <td>0.000000</td>\n",
       "      <td>ps1</td>\n",
       "    </tr>\n",
       "  </tbody>\n",
       "</table>\n",
       "<p>26578 rows × 10 columns</p>\n",
       "</div>"
      ],
      "text/plain": [
       "                 file  blank  ps1  ps2  multi  ice  badice      mos1  \\\n",
       "0      fake_00001.pgm      0    1    0      0    1       0  0.892528   \n",
       "1      fake_00002.pgm      0    0    1      1    0       0  0.581729   \n",
       "2      fake_00003.pgm      0    1    0      0    0       0  0.508285   \n",
       "3      fake_00004.pgm      0    1    0      0    0       0  0.852589   \n",
       "4      fake_00005.pgm      0    0    1      0    0       0  0.762097   \n",
       "...               ...    ...  ...  ...    ...  ...     ...       ...   \n",
       "26573  fake_38737.pgm      0    1    0      0    0       0  0.897076   \n",
       "26574  fake_38738.pgm      0    1    0      0    0       0  0.646006   \n",
       "26575  fake_38740.pgm      0    1    1      1    0       0  0.529205   \n",
       "26576  fake_38741.pgm      0    1    0      0    0       0  0.752521   \n",
       "26577  fake_38742.pgm      0    1    0      0    0       0  0.752521   \n",
       "\n",
       "           mos2              Y  \n",
       "0      0.000000        ps1+ice  \n",
       "1      0.568217      ps2+multi  \n",
       "2      0.000000            ps1  \n",
       "3      0.000000            ps1  \n",
       "4      0.000000            ps2  \n",
       "...         ...            ...  \n",
       "26573  0.000000            ps1  \n",
       "26574  0.000000            ps1  \n",
       "26575  0.716043  ps1+ps2+multi  \n",
       "26576  0.000000            ps1  \n",
       "26577  0.000000            ps1  \n",
       "\n",
       "[26578 rows x 10 columns]"
      ]
     },
     "execution_count": 5,
     "metadata": {},
     "output_type": "execute_result"
    }
   ],
   "source": [
    "data = pd.read_csv('new_multiclasses.csv')\n",
    "data"
   ]
  },
  {
   "cell_type": "code",
   "execution_count": 6,
   "metadata": {
    "colab_type": "code"
   },
   "outputs": [
    {
     "data": {
      "text/plain": [
       "{'ps1': 9611,\n",
       " 'ps1+ps2+multi': 5142,\n",
       " 'ps2+multi': 2558,\n",
       " 'ps1+multi': 2550,\n",
       " 'ps1+ice': 1624,\n",
       " 'ps2+ice': 1612,\n",
       " 'ps2': 1589,\n",
       " 'ps1+ps2+multi+ice': 869,\n",
       " 'ps2+multi+ice': 420,\n",
       " 'ps1+multi+ice': 397,\n",
       " 'blank': 77,\n",
       " 'ps1+ps2': 75,\n",
       " 'ps1+ps2+ice': 26,\n",
       " 'ps2+ice+badice': 13,\n",
       " 'ps1+ice+badice': 7,\n",
       " 'ps2+multi+ice+badice': 4,\n",
       " 'ps1+ps2+multi+ice+badice': 2,\n",
       " 'ps1+multi+ice+badice': 2}"
      ]
     },
     "execution_count": 6,
     "metadata": {},
     "output_type": "execute_result"
    }
   ],
   "source": [
    "lable_count = dict(data['Y'].value_counts())\n",
    "lable_count"
   ]
  },
  {
   "cell_type": "code",
   "execution_count": 7,
   "metadata": {
    "colab_type": "code"
   },
   "outputs": [
    {
     "data": {
      "text/html": [
       "<div>\n",
       "<style scoped>\n",
       "    .dataframe tbody tr th:only-of-type {\n",
       "        vertical-align: middle;\n",
       "    }\n",
       "\n",
       "    .dataframe tbody tr th {\n",
       "        vertical-align: top;\n",
       "    }\n",
       "\n",
       "    .dataframe thead th {\n",
       "        text-align: right;\n",
       "    }\n",
       "</style>\n",
       "<table border=\"1\" class=\"dataframe\">\n",
       "  <thead>\n",
       "    <tr style=\"text-align: right;\">\n",
       "      <th></th>\n",
       "      <th>file</th>\n",
       "      <th>blank</th>\n",
       "      <th>ps1</th>\n",
       "      <th>ps2</th>\n",
       "      <th>multi</th>\n",
       "      <th>ice</th>\n",
       "      <th>badice</th>\n",
       "      <th>mos1</th>\n",
       "      <th>mos2</th>\n",
       "      <th>Y</th>\n",
       "    </tr>\n",
       "  </thead>\n",
       "  <tbody>\n",
       "    <tr>\n",
       "      <th>435</th>\n",
       "      <td>fake_00460.pgm</td>\n",
       "      <td>1</td>\n",
       "      <td>0</td>\n",
       "      <td>0</td>\n",
       "      <td>0</td>\n",
       "      <td>0</td>\n",
       "      <td>0</td>\n",
       "      <td>0.000000</td>\n",
       "      <td>0.000000</td>\n",
       "      <td>blank</td>\n",
       "    </tr>\n",
       "    <tr>\n",
       "      <th>455</th>\n",
       "      <td>fake_00482.pgm</td>\n",
       "      <td>1</td>\n",
       "      <td>0</td>\n",
       "      <td>0</td>\n",
       "      <td>0</td>\n",
       "      <td>0</td>\n",
       "      <td>0</td>\n",
       "      <td>0.000000</td>\n",
       "      <td>0.000000</td>\n",
       "      <td>blank</td>\n",
       "    </tr>\n",
       "    <tr>\n",
       "      <th>471</th>\n",
       "      <td>fake_00499.pgm</td>\n",
       "      <td>1</td>\n",
       "      <td>0</td>\n",
       "      <td>0</td>\n",
       "      <td>0</td>\n",
       "      <td>0</td>\n",
       "      <td>0</td>\n",
       "      <td>0.000000</td>\n",
       "      <td>0.000000</td>\n",
       "      <td>blank</td>\n",
       "    </tr>\n",
       "    <tr>\n",
       "      <th>2195</th>\n",
       "      <td>fake_02901.pgm</td>\n",
       "      <td>1</td>\n",
       "      <td>0</td>\n",
       "      <td>0</td>\n",
       "      <td>0</td>\n",
       "      <td>0</td>\n",
       "      <td>0</td>\n",
       "      <td>0.000000</td>\n",
       "      <td>0.000000</td>\n",
       "      <td>blank</td>\n",
       "    </tr>\n",
       "    <tr>\n",
       "      <th>2284</th>\n",
       "      <td>fake_03040.pgm</td>\n",
       "      <td>1</td>\n",
       "      <td>0</td>\n",
       "      <td>0</td>\n",
       "      <td>0</td>\n",
       "      <td>0</td>\n",
       "      <td>0</td>\n",
       "      <td>0.000000</td>\n",
       "      <td>0.000000</td>\n",
       "      <td>blank</td>\n",
       "    </tr>\n",
       "    <tr>\n",
       "      <th>...</th>\n",
       "      <td>...</td>\n",
       "      <td>...</td>\n",
       "      <td>...</td>\n",
       "      <td>...</td>\n",
       "      <td>...</td>\n",
       "      <td>...</td>\n",
       "      <td>...</td>\n",
       "      <td>...</td>\n",
       "      <td>...</td>\n",
       "      <td>...</td>\n",
       "    </tr>\n",
       "    <tr>\n",
       "      <th>6019</th>\n",
       "      <td>fake_08555.pgm</td>\n",
       "      <td>0</td>\n",
       "      <td>0</td>\n",
       "      <td>1</td>\n",
       "      <td>1</td>\n",
       "      <td>1</td>\n",
       "      <td>0</td>\n",
       "      <td>0.850695</td>\n",
       "      <td>0.815657</td>\n",
       "      <td>ps2+multi+ice</td>\n",
       "    </tr>\n",
       "    <tr>\n",
       "      <th>13</th>\n",
       "      <td>fake_00014.pgm</td>\n",
       "      <td>0</td>\n",
       "      <td>0</td>\n",
       "      <td>1</td>\n",
       "      <td>1</td>\n",
       "      <td>1</td>\n",
       "      <td>1</td>\n",
       "      <td>0.516343</td>\n",
       "      <td>0.681703</td>\n",
       "      <td>ps2+multi+ice+badice</td>\n",
       "    </tr>\n",
       "    <tr>\n",
       "      <th>46</th>\n",
       "      <td>fake_00047.pgm</td>\n",
       "      <td>0</td>\n",
       "      <td>0</td>\n",
       "      <td>1</td>\n",
       "      <td>1</td>\n",
       "      <td>1</td>\n",
       "      <td>1</td>\n",
       "      <td>0.822762</td>\n",
       "      <td>0.710859</td>\n",
       "      <td>ps2+multi+ice+badice</td>\n",
       "    </tr>\n",
       "    <tr>\n",
       "      <th>114</th>\n",
       "      <td>fake_00115.pgm</td>\n",
       "      <td>0</td>\n",
       "      <td>0</td>\n",
       "      <td>1</td>\n",
       "      <td>1</td>\n",
       "      <td>1</td>\n",
       "      <td>1</td>\n",
       "      <td>0.603269</td>\n",
       "      <td>0.832699</td>\n",
       "      <td>ps2+multi+ice+badice</td>\n",
       "    </tr>\n",
       "    <tr>\n",
       "      <th>215</th>\n",
       "      <td>fake_00216.pgm</td>\n",
       "      <td>0</td>\n",
       "      <td>0</td>\n",
       "      <td>1</td>\n",
       "      <td>1</td>\n",
       "      <td>1</td>\n",
       "      <td>1</td>\n",
       "      <td>0.639486</td>\n",
       "      <td>0.787645</td>\n",
       "      <td>ps2+multi+ice+badice</td>\n",
       "    </tr>\n",
       "  </tbody>\n",
       "</table>\n",
       "<p>1206 rows × 10 columns</p>\n",
       "</div>"
      ],
      "text/plain": [
       "                file  blank  ps1  ps2  multi  ice  badice      mos1      mos2  \\\n",
       "435   fake_00460.pgm      1    0    0      0    0       0  0.000000  0.000000   \n",
       "455   fake_00482.pgm      1    0    0      0    0       0  0.000000  0.000000   \n",
       "471   fake_00499.pgm      1    0    0      0    0       0  0.000000  0.000000   \n",
       "2195  fake_02901.pgm      1    0    0      0    0       0  0.000000  0.000000   \n",
       "2284  fake_03040.pgm      1    0    0      0    0       0  0.000000  0.000000   \n",
       "...              ...    ...  ...  ...    ...  ...     ...       ...       ...   \n",
       "6019  fake_08555.pgm      0    0    1      1    1       0  0.850695  0.815657   \n",
       "13    fake_00014.pgm      0    0    1      1    1       1  0.516343  0.681703   \n",
       "46    fake_00047.pgm      0    0    1      1    1       1  0.822762  0.710859   \n",
       "114   fake_00115.pgm      0    0    1      1    1       1  0.603269  0.832699   \n",
       "215   fake_00216.pgm      0    0    1      1    1       1  0.639486  0.787645   \n",
       "\n",
       "                         Y  \n",
       "435                  blank  \n",
       "455                  blank  \n",
       "471                  blank  \n",
       "2195                 blank  \n",
       "2284                 blank  \n",
       "...                    ...  \n",
       "6019         ps2+multi+ice  \n",
       "13    ps2+multi+ice+badice  \n",
       "46    ps2+multi+ice+badice  \n",
       "114   ps2+multi+ice+badice  \n",
       "215   ps2+multi+ice+badice  \n",
       "\n",
       "[1206 rows x 10 columns]"
      ]
     },
     "execution_count": 7,
     "metadata": {},
     "output_type": "execute_result"
    }
   ],
   "source": [
    "new_data = pd.concat([data[data['Y']==y][:100] if lable_count[y]>100 else data[data['Y']==y] for y in np.unique(data['Y'])])\n",
    "new_data"
   ]
  },
  {
   "cell_type": "code",
   "execution_count": 8,
   "metadata": {
    "colab_type": "code"
   },
   "outputs": [
    {
     "name": "stdout",
     "output_type": "stream",
     "text": [
      "0\n"
     ]
    }
   ],
   "source": [
    "imgs = []\n",
    "imgs_arr = []\n",
    "imgs_drop = []\n",
    "for f in new_data['file']:\n",
    "    f = f.replace('pgm','png')\n",
    "    try:\n",
    "        image = tf.keras.preprocessing.image.load_img(\"./training_data/{}\".format(f), color_mode='grayscale') \n",
    "        image_array = tf.keras.preprocessing.image.img_to_array(image)\n",
    "        imgs.append(image)\n",
    "        imgs_arr.append(image_array)\n",
    "    except:\n",
    "        imgs_drop.append(f)\n",
    "print(len(imgs_drop))"
   ]
  },
  {
   "cell_type": "code",
   "execution_count": 12,
   "metadata": {
    "colab_type": "code"
   },
   "outputs": [
    {
     "name": "stdout",
     "output_type": "stream",
     "text": [
      "<class 'numpy.ndarray'>\n",
      "(1206, 512, 512, 1)\n",
      "(1206, 512, 512)\n",
      "(1206, 6)\n"
     ]
    }
   ],
   "source": [
    "input_arr = np.array(imgs_arr)  # Convert single image to a batch.\n",
    "print(type(input_arr))\n",
    "print(input_arr.shape)\n",
    "x_train = np.squeeze(input_arr)\n",
    "print(x_train.shape)\n",
    "y_train = np.array(new_data[['blank', 'ps1', 'ps2', 'multi', 'ice', 'badice']])\n",
    "print(y_train.shape)\n",
    "X = x_train\n",
    "Y = y_train"
   ]
  },
  {
   "cell_type": "code",
   "execution_count": 15,
   "metadata": {
    "colab_type": "code"
   },
   "outputs": [
    {
     "data": {
      "image/png": "[encoded data removed]",
      "text/plain": [
       "<Figure size 1080x288 with 20 Axes>"
      ]
     },
     "metadata": {
      "needs_background": "light"
     },
     "output_type": "display_data"
    },
    {
     "data": {
      "application/vnd.plotly.v1+json": {
       "config": {
        "plotlyServerURL": "https://plot.ly"
       },
       "data": [
        {
         "alignmentgroup": "True",
         "bingroup": "x",
         "hovertemplate": "label=%{x}<br>count=%{y}<extra></extra>",
         "legendgroup": "",
         "marker": {
          "color": "#636efa"
         },
         "name": "",
         "nbinsx": 10,
         "offsetgroup": "",
         "orientation": "v",
         "showlegend": false,
         "type": "histogram",
         "x": [
          "blank",
          "blank",
          "blank",
          "blank",
          "blank",
          "blank",
          "blank",
          "blank",
          "blank",
          "blank",
          "blank",
          "blank",
          "blank",
          "blank",
          "blank",
          "blank",
          "blank",
          "blank",
          "blank",
          "blank",
          "blank",
          "blank",
          "blank",
          "blank",
          "blank",
          "blank",
          "blank",
          "blank",
          "blank",
          "blank",
          "blank",
          "blank",
          "blank",
          "blank",
          "blank",
          "blank",
          "blank",
          "blank",
          "blank",
          "blank",
          "blank",
          "blank",
          "blank",
          "blank",
          "blank",
          "blank",
          "blank",
          "blank",
          "blank",
          "blank",
          "blank",
          "blank",
          "blank",
          "blank",
          "blank",
          "blank",
          "blank",
          "blank",
          "blank",
          "blank",
          "blank",
          "blank",
          "blank",
          "blank",
          "blank",
          "blank",
          "blank",
          "blank",
          "blank",
          "blank",
          "blank",
          "blank",
          "blank",
          "blank",
          "blank",
          "blank",
          "blank",
          "ps1",
          "ps1",
          "ps1",
          "ps1",
          "ps1",
          "ps1",
          "ps1",
          "ps1",
          "ps1",
          "ps1",
          "ps1",
          "ps1",
          "ps1",
          "ps1",
          "ps1",
          "ps1",
          "ps1",
          "ps1",
          "ps1",
          "ps1",
          "ps1",
          "ps1",
          "ps1",
          "ps1",
          "ps1",
          "ps1",
          "ps1",
          "ps1",
          "ps1",
          "ps1",
          "ps1",
          "ps1",
          "ps1",
          "ps1",
          "ps1",
          "ps1",
          "ps1",
          "ps1",
          "ps1",
          "ps1",
          "ps1",
          "ps1",
          "ps1",
          "ps1",
          "ps1",
          "ps1",
          "ps1",
          "ps1",
          "ps1",
          "ps1",
          "ps1",
          "ps1",
          "ps1",
          "ps1",
          "ps1",
          "ps1",
          "ps1",
          "ps1",
          "ps1",
          "ps1",
          "ps1",
          "ps1",
          "ps1",
          "ps1",
          "ps1",
          "ps1",
          "ps1",
          "ps1",
          "ps1",
          "ps1",
          "ps1",
          "ps1",
          "ps1",
          "ps1",
          "ps1",
          "ps1",
          "ps1",
          "ps1",
          "ps1",
          "ps1",
          "ps1",
          "ps1",
          "ps1",
          "ps1",
          "ps1",
          "ps1",
          "ps1",
          "ps1",
          "ps1",
          "ps1",
          "ps1",
          "ps1",
          "ps1",
          "ps1",
          "ps1",
          "ps1",
          "ps1",
          "ps1",
          "ps1",
          "ps1",
          "ps1+ice",
          "ps1+ice",
          "ps1+ice",
          "ps1+ice",
          "ps1+ice",
          "ps1+ice",
          "ps1+ice",
          "ps1+ice",
          "ps1+ice",
          "ps1+ice",
          "ps1+ice",
          "ps1+ice",
          "ps1+ice",
          "ps1+ice",
          "ps1+ice",
          "ps1+ice",
          "ps1+ice",
          "ps1+ice",
          "ps1+ice",
          "ps1+ice",
          "ps1+ice",
          "ps1+ice",
          "ps1+ice",
          "ps1+ice",
          "ps1+ice",
          "ps1+ice",
          "ps1+ice",
          "ps1+ice",
          "ps1+ice",
          "ps1+ice",
          "ps1+ice",
          "ps1+ice",
          "ps1+ice",
          "ps1+ice",
          "ps1+ice",
          "ps1+ice",
          "ps1+ice",
          "ps1+ice",
          "ps1+ice",
          "ps1+ice",
          "ps1+ice",
          "ps1+ice",
          "ps1+ice",
          "ps1+ice",
          "ps1+ice",
          "ps1+ice",
          "ps1+ice",
          "ps1+ice",
          "ps1+ice",
          "ps1+ice",
          "ps1+ice",
          "ps1+ice",
          "ps1+ice",
          "ps1+ice",
          "ps1+ice",
          "ps1+ice",
          "ps1+ice",
          "ps1+ice",
          "ps1+ice",
          "ps1+ice",
          "ps1+ice",
          "ps1+ice",
          "ps1+ice",
          "ps1+ice",
          "ps1+ice",
          "ps1+ice",
          "ps1+ice",
          "ps1+ice",
          "ps1+ice",
          "ps1+ice",
          "ps1+ice",
          "ps1+ice",
          "ps1+ice",
          "ps1+ice",
          "ps1+ice",
          "ps1+ice",
          "ps1+ice",
          "ps1+ice",
          "ps1+ice",
          "ps1+ice",
          "ps1+ice",
          "ps1+ice",
          "ps1+ice",
          "ps1+ice",
          "ps1+ice",
          "ps1+ice",
          "ps1+ice",
          "ps1+ice",
          "ps1+ice",
          "ps1+ice",
          "ps1+ice",
          "ps1+ice",
          "ps1+ice",
          "ps1+ice",
          "ps1+ice",
          "ps1+ice",
          "ps1+ice",
          "ps1+ice",
          "ps1+ice",
          "ps1+ice",
          "ps1+ice+badice",
          "ps1+ice+badice",
          "ps1+ice+badice",
          "ps1+ice+badice",
          "ps1+ice+badice",
          "ps1+ice+badice",
          "ps1+ice+badice",
          "ps1+multi",
          "ps1+multi",
          "ps1+multi",
          "ps1+multi",
          "ps1+multi",
          "ps1+multi",
          "ps1+multi",
          "ps1+multi",
          "ps1+multi",
          "ps1+multi",
          "ps1+multi",
          "ps1+multi",
          "ps1+multi",
          "ps1+multi",
          "ps1+multi",
          "ps1+multi",
          "ps1+multi",
          "ps1+multi",
          "ps1+multi",
          "ps1+multi",
          "ps1+multi",
          "ps1+multi",
          "ps1+multi",
          "ps1+multi",
          "ps1+multi",
          "ps1+multi",
          "ps1+multi",
          "ps1+multi",
          "ps1+multi",
          "ps1+multi",
          "ps1+multi",
          "ps1+multi",
          "ps1+multi",
          "ps1+multi",
          "ps1+multi",
          "ps1+multi",
          "ps1+multi",
          "ps1+multi",
          "ps1+multi",
          "ps1+multi",
          "ps1+multi",
          "ps1+multi",
          "ps1+multi",
          "ps1+multi",
          "ps1+multi",
          "ps1+multi",
          "ps1+multi",
          "ps1+multi",
          "ps1+multi",
          "ps1+multi",
          "ps1+multi",
          "ps1+multi",
          "ps1+multi",
          "ps1+multi",
          "ps1+multi",
          "ps1+multi",
          "ps1+multi",
          "ps1+multi",
          "ps1+multi",
          "ps1+multi",
          "ps1+multi",
          "ps1+multi",
          "ps1+multi",
          "ps1+multi",
          "ps1+multi",
          "ps1+multi",
          "ps1+multi",
          "ps1+multi",
          "ps1+multi",
          "ps1+multi",
          "ps1+multi",
          "ps1+multi",
          "ps1+multi",
          "ps1+multi",
          "ps1+multi",
          "ps1+multi",
          "ps1+multi",
          "ps1+multi",
          "ps1+multi",
          "ps1+multi",
          "ps1+multi",
          "ps1+multi",
          "ps1+multi",
          "ps1+multi",
          "ps1+multi",
          "ps1+multi",
          "ps1+multi",
          "ps1+multi",
          "ps1+multi",
          "ps1+multi",
          "ps1+multi",
          "ps1+multi",
          "ps1+multi",
          "ps1+multi",
          "ps1+multi",
          "ps1+multi",
          "ps1+multi",
          "ps1+multi",
          "ps1+multi",
          "ps1+multi",
          "ps1+multi+ice",
          "ps1+multi+ice",
          "ps1+multi+ice",
          "ps1+multi+ice",
          "ps1+multi+ice",
          "ps1+multi+ice",
          "ps1+multi+ice",
          "ps1+multi+ice",
          "ps1+multi+ice",
          "ps1+multi+ice",
          "ps1+multi+ice",
          "ps1+multi+ice",
          "ps1+multi+ice",
          "ps1+multi+ice",
          "ps1+multi+ice",
          "ps1+multi+ice",
          "ps1+multi+ice",
          "ps1+multi+ice",
          "ps1+multi+ice",
          "ps1+multi+ice",
          "ps1+multi+ice",
          "ps1+multi+ice",
          "ps1+multi+ice",
          "ps1+multi+ice",
          "ps1+multi+ice",
          "ps1+multi+ice",
          "ps1+multi+ice",
          "ps1+multi+ice",
          "ps1+multi+ice",
          "ps1+multi+ice",
          "ps1+multi+ice",
          "ps1+multi+ice",
          "ps1+multi+ice",
          "ps1+multi+ice",
          "ps1+multi+ice",
          "ps1+multi+ice",
          "ps1+multi+ice",
          "ps1+multi+ice",
          "ps1+multi+ice",
          "ps1+multi+ice",
          "ps1+multi+ice",
          "ps1+multi+ice",
          "ps1+multi+ice",
          "ps1+multi+ice",
          "ps1+multi+ice",
          "ps1+multi+ice",
          "ps1+multi+ice",
          "ps1+multi+ice",
          "ps1+multi+ice",
          "ps1+multi+ice",
          "ps1+multi+ice",
          "ps1+multi+ice",
          "ps1+multi+ice",
          "ps1+multi+ice",
          "ps1+multi+ice",
          "ps1+multi+ice",
          "ps1+multi+ice",
          "ps1+multi+ice",
          "ps1+multi+ice",
          "ps1+multi+ice",
          "ps1+multi+ice",
          "ps1+multi+ice",
          "ps1+multi+ice",
          "ps1+multi+ice",
          "ps1+multi+ice",
          "ps1+multi+ice",
          "ps1+multi+ice",
          "ps1+multi+ice",
          "ps1+multi+ice",
          "ps1+multi+ice",
          "ps1+multi+ice",
          "ps1+multi+ice",
          "ps1+multi+ice",
          "ps1+multi+ice",
          "ps1+multi+ice",
          "ps1+multi+ice",
          "ps1+multi+ice",
          "ps1+multi+ice",
          "ps1+multi+ice",
          "ps1+multi+ice",
          "ps1+multi+ice",
          "ps1+multi+ice",
          "ps1+multi+ice",
          "ps1+multi+ice",
          "ps1+multi+ice",
          "ps1+multi+ice",
          "ps1+multi+ice",
          "ps1+multi+ice",
          "ps1+multi+ice",
          "ps1+multi+ice",
          "ps1+multi+ice",
          "ps1+multi+ice",
          "ps1+multi+ice",
          "ps1+multi+ice",
          "ps1+multi+ice",
          "ps1+multi+ice",
          "ps1+multi+ice",
          "ps1+multi+ice",
          "ps1+multi+ice",
          "ps1+multi+ice",
          "ps1+multi+ice+badice",
          "ps1+multi+ice+badice",
          "ps1+ps2",
          "ps1+ps2",
          "ps1+ps2",
          "ps1+ps2",
          "ps1+ps2",
          "ps1+ps2",
          "ps1+ps2",
          "ps1+ps2",
          "ps1+ps2",
          "ps1+ps2",
          "ps1+ps2",
          "ps1+ps2",
          "ps1+ps2",
          "ps1+ps2",
          "ps1+ps2",
          "ps1+ps2",
          "ps1+ps2",
          "ps1+ps2",
          "ps1+ps2",
          "ps1+ps2",
          "ps1+ps2",
          "ps1+ps2",
          "ps1+ps2",
          "ps1+ps2",
          "ps1+ps2",
          "ps1+ps2",
          "ps1+ps2",
          "ps1+ps2",
          "ps1+ps2",
          "ps1+ps2",
          "ps1+ps2",
          "ps1+ps2",
          "ps1+ps2",
          "ps1+ps2",
          "ps1+ps2",
          "ps1+ps2",
          "ps1+ps2",
          "ps1+ps2",
          "ps1+ps2",
          "ps1+ps2",
          "ps1+ps2",
          "ps1+ps2",
          "ps1+ps2",
          "ps1+ps2",
          "ps1+ps2",
          "ps1+ps2",
          "ps1+ps2",
          "ps1+ps2",
          "ps1+ps2",
          "ps1+ps2",
          "ps1+ps2",
          "ps1+ps2",
          "ps1+ps2",
          "ps1+ps2",
          "ps1+ps2",
          "ps1+ps2",
          "ps1+ps2",
          "ps1+ps2",
          "ps1+ps2",
          "ps1+ps2",
          "ps1+ps2",
          "ps1+ps2",
          "ps1+ps2",
          "ps1+ps2",
          "ps1+ps2",
          "ps1+ps2",
          "ps1+ps2",
          "ps1+ps2",
          "ps1+ps2",
          "ps1+ps2",
          "ps1+ps2",
          "ps1+ps2",
          "ps1+ps2",
          "ps1+ps2",
          "ps1+ps2",
          "ps1+ps2+ice",
          "ps1+ps2+ice",
          "ps1+ps2+ice",
          "ps1+ps2+ice",
          "ps1+ps2+ice",
          "ps1+ps2+ice",
          "ps1+ps2+ice",
          "ps1+ps2+ice",
          "ps1+ps2+ice",
          "ps1+ps2+ice",
          "ps1+ps2+ice",
          "ps1+ps2+ice",
          "ps1+ps2+ice",
          "ps1+ps2+ice",
          "ps1+ps2+ice",
          "ps1+ps2+ice",
          "ps1+ps2+ice",
          "ps1+ps2+ice",
          "ps1+ps2+ice",
          "ps1+ps2+ice",
          "ps1+ps2+ice",
          "ps1+ps2+ice",
          "ps1+ps2+ice",
          "ps1+ps2+ice",
          "ps1+ps2+ice",
          "ps1+ps2+ice",
          "ps1+ps2+multi",
          "ps1+ps2+multi",
          "ps1+ps2+multi",
          "ps1+ps2+multi",
          "ps1+ps2+multi",
          "ps1+ps2+multi",
          "ps1+ps2+multi",
          "ps1+ps2+multi",
          "ps1+ps2+multi",
          "ps1+ps2+multi",
          "ps1+ps2+multi",
          "ps1+ps2+multi",
          "ps1+ps2+multi",
          "ps1+ps2+multi",
          "ps1+ps2+multi",
          "ps1+ps2+multi",
          "ps1+ps2+multi",
          "ps1+ps2+multi",
          "ps1+ps2+multi",
          "ps1+ps2+multi",
          "ps1+ps2+multi",
          "ps1+ps2+multi",
          "ps1+ps2+multi",
          "ps1+ps2+multi",
          "ps1+ps2+multi",
          "ps1+ps2+multi",
          "ps1+ps2+multi",
          "ps1+ps2+multi",
          "ps1+ps2+multi",
          "ps1+ps2+multi",
          "ps1+ps2+multi",
          "ps1+ps2+multi",
          "ps1+ps2+multi",
          "ps1+ps2+multi",
          "ps1+ps2+multi",
          "ps1+ps2+multi",
          "ps1+ps2+multi",
          "ps1+ps2+multi",
          "ps1+ps2+multi",
          "ps1+ps2+multi",
          "ps1+ps2+multi",
          "ps1+ps2+multi",
          "ps1+ps2+multi",
          "ps1+ps2+multi",
          "ps1+ps2+multi",
          "ps1+ps2+multi",
          "ps1+ps2+multi",
          "ps1+ps2+multi",
          "ps1+ps2+multi",
          "ps1+ps2+multi",
          "ps1+ps2+multi",
          "ps1+ps2+multi",
          "ps1+ps2+multi",
          "ps1+ps2+multi",
          "ps1+ps2+multi",
          "ps1+ps2+multi",
          "ps1+ps2+multi",
          "ps1+ps2+multi",
          "ps1+ps2+multi",
          "ps1+ps2+multi",
          "ps1+ps2+multi",
          "ps1+ps2+multi",
          "ps1+ps2+multi",
          "ps1+ps2+multi",
          "ps1+ps2+multi",
          "ps1+ps2+multi",
          "ps1+ps2+multi",
          "ps1+ps2+multi",
          "ps1+ps2+multi",
          "ps1+ps2+multi",
          "ps1+ps2+multi",
          "ps1+ps2+multi",
          "ps1+ps2+multi",
          "ps1+ps2+multi",
          "ps1+ps2+multi",
          "ps1+ps2+multi",
          "ps1+ps2+multi",
          "ps1+ps2+multi",
          "ps1+ps2+multi",
          "ps1+ps2+multi",
          "ps1+ps2+multi",
          "ps1+ps2+multi",
          "ps1+ps2+multi",
          "ps1+ps2+multi",
          "ps1+ps2+multi",
          "ps1+ps2+multi",
          "ps1+ps2+multi",
          "ps1+ps2+multi",
          "ps1+ps2+multi",
          "ps1+ps2+multi",
          "ps1+ps2+multi",
          "ps1+ps2+multi",
          "ps1+ps2+multi",
          "ps1+ps2+multi",
          "ps1+ps2+multi",
          "ps1+ps2+multi",
          "ps1+ps2+multi",
          "ps1+ps2+multi",
          "ps1+ps2+multi",
          "ps1+ps2+multi",
          "ps1+ps2+multi+ice",
          "ps1+ps2+multi+ice",
          "ps1+ps2+multi+ice",
          "ps1+ps2+multi+ice",
          "ps1+ps2+multi+ice",
          "ps1+ps2+multi+ice",
          "ps1+ps2+multi+ice",
          "ps1+ps2+multi+ice",
          "ps1+ps2+multi+ice",
          "ps1+ps2+multi+ice",
          "ps1+ps2+multi+ice",
          "ps1+ps2+multi+ice",
          "ps1+ps2+multi+ice",
          "ps1+ps2+multi+ice",
          "ps1+ps2+multi+ice",
          "ps1+ps2+multi+ice",
          "ps1+ps2+multi+ice",
          "ps1+ps2+multi+ice",
          "ps1+ps2+multi+ice",
          "ps1+ps2+multi+ice",
          "ps1+ps2+multi+ice",
          "ps1+ps2+multi+ice",
          "ps1+ps2+multi+ice",
          "ps1+ps2+multi+ice",
          "ps1+ps2+multi+ice",
          "ps1+ps2+multi+ice",
          "ps1+ps2+multi+ice",
          "ps1+ps2+multi+ice",
          "ps1+ps2+multi+ice",
          "ps1+ps2+multi+ice",
          "ps1+ps2+multi+ice",
          "ps1+ps2+multi+ice",
          "ps1+ps2+multi+ice",
          "ps1+ps2+multi+ice",
          "ps1+ps2+multi+ice",
          "ps1+ps2+multi+ice",
          "ps1+ps2+multi+ice",
          "ps1+ps2+multi+ice",
          "ps1+ps2+multi+ice",
          "ps1+ps2+multi+ice",
          "ps1+ps2+multi+ice",
          "ps1+ps2+multi+ice",
          "ps1+ps2+multi+ice",
          "ps1+ps2+multi+ice",
          "ps1+ps2+multi+ice",
          "ps1+ps2+multi+ice",
          "ps1+ps2+multi+ice",
          "ps1+ps2+multi+ice",
          "ps1+ps2+multi+ice",
          "ps1+ps2+multi+ice",
          "ps1+ps2+multi+ice",
          "ps1+ps2+multi+ice",
          "ps1+ps2+multi+ice",
          "ps1+ps2+multi+ice",
          "ps1+ps2+multi+ice",
          "ps1+ps2+multi+ice",
          "ps1+ps2+multi+ice",
          "ps1+ps2+multi+ice",
          "ps1+ps2+multi+ice",
          "ps1+ps2+multi+ice",
          "ps1+ps2+multi+ice",
          "ps1+ps2+multi+ice",
          "ps1+ps2+multi+ice",
          "ps1+ps2+multi+ice",
          "ps1+ps2+multi+ice",
          "ps1+ps2+multi+ice",
          "ps1+ps2+multi+ice",
          "ps1+ps2+multi+ice",
          "ps1+ps2+multi+ice",
          "ps1+ps2+multi+ice",
          "ps1+ps2+multi+ice",
          "ps1+ps2+multi+ice",
          "ps1+ps2+multi+ice",
          "ps1+ps2+multi+ice",
          "ps1+ps2+multi+ice",
          "ps1+ps2+multi+ice",
          "ps1+ps2+multi+ice",
          "ps1+ps2+multi+ice",
          "ps1+ps2+multi+ice",
          "ps1+ps2+multi+ice",
          "ps1+ps2+multi+ice",
          "ps1+ps2+multi+ice",
          "ps1+ps2+multi+ice",
          "ps1+ps2+multi+ice",
          "ps1+ps2+multi+ice",
          "ps1+ps2+multi+ice",
          "ps1+ps2+multi+ice",
          "ps1+ps2+multi+ice",
          "ps1+ps2+multi+ice",
          "ps1+ps2+multi+ice",
          "ps1+ps2+multi+ice",
          "ps1+ps2+multi+ice",
          "ps1+ps2+multi+ice",
          "ps1+ps2+multi+ice",
          "ps1+ps2+multi+ice",
          "ps1+ps2+multi+ice",
          "ps1+ps2+multi+ice",
          "ps1+ps2+multi+ice",
          "ps1+ps2+multi+ice",
          "ps1+ps2+multi+ice",
          "ps1+ps2+multi+ice+badice",
          "ps1+ps2+multi+ice+badice",
          "ps2",
          "ps2",
          "ps2",
          "ps2",
          "ps2",
          "ps2",
          "ps2",
          "ps2",
          "ps2",
          "ps2",
          "ps2",
          "ps2",
          "ps2",
          "ps2",
          "ps2",
          "ps2",
          "ps2",
          "ps2",
          "ps2",
          "ps2",
          "ps2",
          "ps2",
          "ps2",
          "ps2",
          "ps2",
          "ps2",
          "ps2",
          "ps2",
          "ps2",
          "ps2",
          "ps2",
          "ps2",
          "ps2",
          "ps2",
          "ps2",
          "ps2",
          "ps2",
          "ps2",
          "ps2",
          "ps2",
          "ps2",
          "ps2",
          "ps2",
          "ps2",
          "ps2",
          "ps2",
          "ps2",
          "ps2",
          "ps2",
          "ps2",
          "ps2",
          "ps2",
          "ps2",
          "ps2",
          "ps2",
          "ps2",
          "ps2",
          "ps2",
          "ps2",
          "ps2",
          "ps2",
          "ps2",
          "ps2",
          "ps2",
          "ps2",
          "ps2",
          "ps2",
          "ps2",
          "ps2",
          "ps2",
          "ps2",
          "ps2",
          "ps2",
          "ps2",
          "ps2",
          "ps2",
          "ps2",
          "ps2",
          "ps2",
          "ps2",
          "ps2",
          "ps2",
          "ps2",
          "ps2",
          "ps2",
          "ps2",
          "ps2",
          "ps2",
          "ps2",
          "ps2",
          "ps2",
          "ps2",
          "ps2",
          "ps2",
          "ps2",
          "ps2",
          "ps2",
          "ps2",
          "ps2",
          "ps2",
          "ps2+ice",
          "ps2+ice",
          "ps2+ice",
          "ps2+ice",
          "ps2+ice",
          "ps2+ice",
          "ps2+ice",
          "ps2+ice",
          "ps2+ice",
          "ps2+ice",
          "ps2+ice",
          "ps2+ice",
          "ps2+ice",
          "ps2+ice",
          "ps2+ice",
          "ps2+ice",
          "ps2+ice",
          "ps2+ice",
          "ps2+ice",
          "ps2+ice",
          "ps2+ice",
          "ps2+ice",
          "ps2+ice",
          "ps2+ice",
          "ps2+ice",
          "ps2+ice",
          "ps2+ice",
          "ps2+ice",
          "ps2+ice",
          "ps2+ice",
          "ps2+ice",
          "ps2+ice",
          "ps2+ice",
          "ps2+ice",
          "ps2+ice",
          "ps2+ice",
          "ps2+ice",
          "ps2+ice",
          "ps2+ice",
          "ps2+ice",
          "ps2+ice",
          "ps2+ice",
          "ps2+ice",
          "ps2+ice",
          "ps2+ice",
          "ps2+ice",
          "ps2+ice",
          "ps2+ice",
          "ps2+ice",
          "ps2+ice",
          "ps2+ice",
          "ps2+ice",
          "ps2+ice",
          "ps2+ice",
          "ps2+ice",
          "ps2+ice",
          "ps2+ice",
          "ps2+ice",
          "ps2+ice",
          "ps2+ice",
          "ps2+ice",
          "ps2+ice",
          "ps2+ice",
          "ps2+ice",
          "ps2+ice",
          "ps2+ice",
          "ps2+ice",
          "ps2+ice",
          "ps2+ice",
          "ps2+ice",
          "ps2+ice",
          "ps2+ice",
          "ps2+ice",
          "ps2+ice",
          "ps2+ice",
          "ps2+ice",
          "ps2+ice",
          "ps2+ice",
          "ps2+ice",
          "ps2+ice",
          "ps2+ice",
          "ps2+ice",
          "ps2+ice",
          "ps2+ice",
          "ps2+ice",
          "ps2+ice",
          "ps2+ice",
          "ps2+ice",
          "ps2+ice",
          "ps2+ice",
          "ps2+ice",
          "ps2+ice",
          "ps2+ice",
          "ps2+ice",
          "ps2+ice",
          "ps2+ice",
          "ps2+ice",
          "ps2+ice",
          "ps2+ice",
          "ps2+ice",
          "ps2+ice+badice",
          "ps2+ice+badice",
          "ps2+ice+badice",
          "ps2+ice+badice",
          "ps2+ice+badice",
          "ps2+ice+badice",
          "ps2+ice+badice",
          "ps2+ice+badice",
          "ps2+ice+badice",
          "ps2+ice+badice",
          "ps2+ice+badice",
          "ps2+ice+badice",
          "ps2+ice+badice",
          "ps2+multi",
          "ps2+multi",
          "ps2+multi",
          "ps2+multi",
          "ps2+multi",
          "ps2+multi",
          "ps2+multi",
          "ps2+multi",
          "ps2+multi",
          "ps2+multi",
          "ps2+multi",
          "ps2+multi",
          "ps2+multi",
          "ps2+multi",
          "ps2+multi",
          "ps2+multi",
          "ps2+multi",
          "ps2+multi",
          "ps2+multi",
          "ps2+multi",
          "ps2+multi",
          "ps2+multi",
          "ps2+multi",
          "ps2+multi",
          "ps2+multi",
          "ps2+multi",
          "ps2+multi",
          "ps2+multi",
          "ps2+multi",
          "ps2+multi",
          "ps2+multi",
          "ps2+multi",
          "ps2+multi",
          "ps2+multi",
          "ps2+multi",
          "ps2+multi",
          "ps2+multi",
          "ps2+multi",
          "ps2+multi",
          "ps2+multi",
          "ps2+multi",
          "ps2+multi",
          "ps2+multi",
          "ps2+multi",
          "ps2+multi",
          "ps2+multi",
          "ps2+multi",
          "ps2+multi",
          "ps2+multi",
          "ps2+multi",
          "ps2+multi",
          "ps2+multi",
          "ps2+multi",
          "ps2+multi",
          "ps2+multi",
          "ps2+multi",
          "ps2+multi",
          "ps2+multi",
          "ps2+multi",
          "ps2+multi",
          "ps2+multi",
          "ps2+multi",
          "ps2+multi",
          "ps2+multi",
          "ps2+multi",
          "ps2+multi",
          "ps2+multi",
          "ps2+multi",
          "ps2+multi",
          "ps2+multi",
          "ps2+multi",
          "ps2+multi",
          "ps2+multi",
          "ps2+multi",
          "ps2+multi",
          "ps2+multi",
          "ps2+multi",
          "ps2+multi",
          "ps2+multi",
          "ps2+multi",
          "ps2+multi",
          "ps2+multi",
          "ps2+multi",
          "ps2+multi",
          "ps2+multi",
          "ps2+multi",
          "ps2+multi",
          "ps2+multi",
          "ps2+multi",
          "ps2+multi",
          "ps2+multi",
          "ps2+multi",
          "ps2+multi",
          "ps2+multi",
          "ps2+multi",
          "ps2+multi",
          "ps2+multi",
          "ps2+multi",
          "ps2+multi",
          "ps2+multi",
          "ps2+multi+ice",
          "ps2+multi+ice",
          "ps2+multi+ice",
          "ps2+multi+ice",
          "ps2+multi+ice",
          "ps2+multi+ice",
          "ps2+multi+ice",
          "ps2+multi+ice",
          "ps2+multi+ice",
          "ps2+multi+ice",
          "ps2+multi+ice",
          "ps2+multi+ice",
          "ps2+multi+ice",
          "ps2+multi+ice",
          "ps2+multi+ice",
          "ps2+multi+ice",
          "ps2+multi+ice",
          "ps2+multi+ice",
          "ps2+multi+ice",
          "ps2+multi+ice",
          "ps2+multi+ice",
          "ps2+multi+ice",
          "ps2+multi+ice",
          "ps2+multi+ice",
          "ps2+multi+ice",
          "ps2+multi+ice",
          "ps2+multi+ice",
          "ps2+multi+ice",
          "ps2+multi+ice",
          "ps2+multi+ice",
          "ps2+multi+ice",
          "ps2+multi+ice",
          "ps2+multi+ice",
          "ps2+multi+ice",
          "ps2+multi+ice",
          "ps2+multi+ice",
          "ps2+multi+ice",
          "ps2+multi+ice",
          "ps2+multi+ice",
          "ps2+multi+ice",
          "ps2+multi+ice",
          "ps2+multi+ice",
          "ps2+multi+ice",
          "ps2+multi+ice",
          "ps2+multi+ice",
          "ps2+multi+ice",
          "ps2+multi+ice",
          "ps2+multi+ice",
          "ps2+multi+ice",
          "ps2+multi+ice",
          "ps2+multi+ice",
          "ps2+multi+ice",
          "ps2+multi+ice",
          "ps2+multi+ice",
          "ps2+multi+ice",
          "ps2+multi+ice",
          "ps2+multi+ice",
          "ps2+multi+ice",
          "ps2+multi+ice",
          "ps2+multi+ice",
          "ps2+multi+ice",
          "ps2+multi+ice",
          "ps2+multi+ice",
          "ps2+multi+ice",
          "ps2+multi+ice",
          "ps2+multi+ice",
          "ps2+multi+ice",
          "ps2+multi+ice",
          "ps2+multi+ice",
          "ps2+multi+ice",
          "ps2+multi+ice",
          "ps2+multi+ice",
          "ps2+multi+ice",
          "ps2+multi+ice",
          "ps2+multi+ice",
          "ps2+multi+ice",
          "ps2+multi+ice",
          "ps2+multi+ice",
          "ps2+multi+ice",
          "ps2+multi+ice",
          "ps2+multi+ice",
          "ps2+multi+ice",
          "ps2+multi+ice",
          "ps2+multi+ice",
          "ps2+multi+ice",
          "ps2+multi+ice",
          "ps2+multi+ice",
          "ps2+multi+ice",
          "ps2+multi+ice",
          "ps2+multi+ice",
          "ps2+multi+ice",
          "ps2+multi+ice",
          "ps2+multi+ice",
          "ps2+multi+ice",
          "ps2+multi+ice",
          "ps2+multi+ice",
          "ps2+multi+ice",
          "ps2+multi+ice",
          "ps2+multi+ice",
          "ps2+multi+ice",
          "ps2+multi+ice+badice",
          "ps2+multi+ice+badice",
          "ps2+multi+ice+badice",
          "ps2+multi+ice+badice"
         ],
         "xaxis": "x",
         "yaxis": "y"
        }
       ],
       "layout": {
        "autosize": true,
        "barmode": "relative",
        "legend": {
         "tracegroupgap": 0
        },
        "margin": {
         "t": 60
        },
        "template": {
         "data": {
          "bar": [
           {
            "error_x": {
             "color": "#2a3f5f"
            },
            "error_y": {
             "color": "#2a3f5f"
            },
            "marker": {
             "line": {
              "color": "#E5ECF6",
              "width": 0.5
             }
            },
            "type": "bar"
           }
          ],
          "barpolar": [
           {
            "marker": {
             "line": {
              "color": "#E5ECF6",
              "width": 0.5
             }
            },
            "type": "barpolar"
           }
          ],
          "carpet": [
           {
            "aaxis": {
             "endlinecolor": "#2a3f5f",
             "gridcolor": "white",
             "linecolor": "white",
             "minorgridcolor": "white",
             "startlinecolor": "#2a3f5f"
            },
            "baxis": {
             "endlinecolor": "#2a3f5f",
             "gridcolor": "white",
             "linecolor": "white",
             "minorgridcolor": "white",
             "startlinecolor": "#2a3f5f"
            },
            "type": "carpet"
           }
          ],
          "choropleth": [
           {
            "colorbar": {
             "outlinewidth": 0,
             "ticks": ""
            },
            "type": "choropleth"
           }
          ],
          "contour": [
           {
            "colorbar": {
             "outlinewidth": 0,
             "ticks": ""
            },
            "colorscale": [
             [
              0,
              "#0d0887"
             ],
             [
              0.1111111111111111,
              "#46039f"
             ],
             [
              0.2222222222222222,
              "#7201a8"
             ],
             [
              0.3333333333333333,
              "#9c179e"
             ],
             [
              0.4444444444444444,
              "#bd3786"
             ],
             [
              0.5555555555555556,
              "#d8576b"
             ],
             [
              0.6666666666666666,
              "#ed7953"
             ],
             [
              0.7777777777777778,
              "#fb9f3a"
             ],
             [
              0.8888888888888888,
              "#fdca26"
             ],
             [
              1,
              "#f0f921"
             ]
            ],
            "type": "contour"
           }
          ],
          "contourcarpet": [
           {
            "colorbar": {
             "outlinewidth": 0,
             "ticks": ""
            },
            "type": "contourcarpet"
           }
          ],
          "heatmap": [
           {
            "colorbar": {
             "outlinewidth": 0,
             "ticks": ""
            },
            "colorscale": [
             [
              0,
              "#0d0887"
             ],
             [
              0.1111111111111111,
              "#46039f"
             ],
             [
              0.2222222222222222,
              "#7201a8"
             ],
             [
              0.3333333333333333,
              "#9c179e"
             ],
             [
              0.4444444444444444,
              "#bd3786"
             ],
             [
              0.5555555555555556,
              "#d8576b"
             ],
             [
              0.6666666666666666,
              "#ed7953"
             ],
             [
              0.7777777777777778,
              "#fb9f3a"
             ],
             [
              0.8888888888888888,
              "#fdca26"
             ],
             [
              1,
              "#f0f921"
             ]
            ],
            "type": "heatmap"
           }
          ],
          "heatmapgl": [
           {
            "colorbar": {
             "outlinewidth": 0,
             "ticks": ""
            },
            "colorscale": [
             [
              0,
              "#0d0887"
             ],
             [
              0.1111111111111111,
              "#46039f"
             ],
             [
              0.2222222222222222,
              "#7201a8"
             ],
             [
              0.3333333333333333,
              "#9c179e"
             ],
             [
              0.4444444444444444,
              "#bd3786"
             ],
             [
              0.5555555555555556,
              "#d8576b"
             ],
             [
              0.6666666666666666,
              "#ed7953"
             ],
             [
              0.7777777777777778,
              "#fb9f3a"
             ],
             [
              0.8888888888888888,
              "#fdca26"
             ],
             [
              1,
              "#f0f921"
             ]
            ],
            "type": "heatmapgl"
           }
          ],
          "histogram": [
           {
            "marker": {
             "colorbar": {
              "outlinewidth": 0,
              "ticks": ""
             }
            },
            "type": "histogram"
           }
          ],
          "histogram2d": [
           {
            "colorbar": {
             "outlinewidth": 0,
             "ticks": ""
            },
            "colorscale": [
             [
              0,
              "#0d0887"
             ],
             [
              0.1111111111111111,
              "#46039f"
             ],
             [
              0.2222222222222222,
              "#7201a8"
             ],
             [
              0.3333333333333333,
              "#9c179e"
             ],
             [
              0.4444444444444444,
              "#bd3786"
             ],
             [
              0.5555555555555556,
              "#d8576b"
             ],
             [
              0.6666666666666666,
              "#ed7953"
             ],
             [
              0.7777777777777778,
              "#fb9f3a"
             ],
             [
              0.8888888888888888,
              "#fdca26"
             ],
             [
              1,
              "#f0f921"
             ]
            ],
            "type": "histogram2d"
           }
          ],
          "histogram2dcontour": [
           {
            "colorbar": {
             "outlinewidth": 0,
             "ticks": ""
            },
            "colorscale": [
             [
              0,
              "#0d0887"
             ],
             [
              0.1111111111111111,
              "#46039f"
             ],
             [
              0.2222222222222222,
              "#7201a8"
             ],
             [
              0.3333333333333333,
              "#9c179e"
             ],
             [
              0.4444444444444444,
              "#bd3786"
             ],
             [
              0.5555555555555556,
              "#d8576b"
             ],
             [
              0.6666666666666666,
              "#ed7953"
             ],
             [
              0.7777777777777778,
              "#fb9f3a"
             ],
             [
              0.8888888888888888,
              "#fdca26"
             ],
             [
              1,
              "#f0f921"
             ]
            ],
            "type": "histogram2dcontour"
           }
          ],
          "mesh3d": [
           {
            "colorbar": {
             "outlinewidth": 0,
             "ticks": ""
            },
            "type": "mesh3d"
           }
          ],
          "parcoords": [
           {
            "line": {
             "colorbar": {
              "outlinewidth": 0,
              "ticks": ""
             }
            },
            "type": "parcoords"
           }
          ],
          "pie": [
           {
            "automargin": true,
            "type": "pie"
           }
          ],
          "scatter": [
           {
            "marker": {
             "colorbar": {
              "outlinewidth": 0,
              "ticks": ""
             }
            },
            "type": "scatter"
           }
          ],
          "scatter3d": [
           {
            "line": {
             "colorbar": {
              "outlinewidth": 0,
              "ticks": ""
             }
            },
            "marker": {
             "colorbar": {
              "outlinewidth": 0,
              "ticks": ""
             }
            },
            "type": "scatter3d"
           }
          ],
          "scattercarpet": [
           {
            "marker": {
             "colorbar": {
              "outlinewidth": 0,
              "ticks": ""
             }
            },
            "type": "scattercarpet"
           }
          ],
          "scattergeo": [
           {
            "marker": {
             "colorbar": {
              "outlinewidth": 0,
              "ticks": ""
             }
            },
            "type": "scattergeo"
           }
          ],
          "scattergl": [
           {
            "marker": {
             "colorbar": {
              "outlinewidth": 0,
              "ticks": ""
             }
            },
            "type": "scattergl"
           }
          ],
          "scattermapbox": [
           {
            "marker": {
             "colorbar": {
              "outlinewidth": 0,
              "ticks": ""
             }
            },
            "type": "scattermapbox"
           }
          ],
          "scatterpolar": [
           {
            "marker": {
             "colorbar": {
              "outlinewidth": 0,
              "ticks": ""
             }
            },
            "type": "scatterpolar"
           }
          ],
          "scatterpolargl": [
           {
            "marker": {
             "colorbar": {
              "outlinewidth": 0,
              "ticks": ""
             }
            },
            "type": "scatterpolargl"
           }
          ],
          "scatterternary": [
           {
            "marker": {
             "colorbar": {
              "outlinewidth": 0,
              "ticks": ""
             }
            },
            "type": "scatterternary"
           }
          ],
          "surface": [
           {
            "colorbar": {
             "outlinewidth": 0,
             "ticks": ""
            },
            "colorscale": [
             [
              0,
              "#0d0887"
             ],
             [
              0.1111111111111111,
              "#46039f"
             ],
             [
              0.2222222222222222,
              "#7201a8"
             ],
             [
              0.3333333333333333,
              "#9c179e"
             ],
             [
              0.4444444444444444,
              "#bd3786"
             ],
             [
              0.5555555555555556,
              "#d8576b"
             ],
             [
              0.6666666666666666,
              "#ed7953"
             ],
             [
              0.7777777777777778,
              "#fb9f3a"
             ],
             [
              0.8888888888888888,
              "#fdca26"
             ],
             [
              1,
              "#f0f921"
             ]
            ],
            "type": "surface"
           }
          ],
          "table": [
           {
            "cells": {
             "fill": {
              "color": "#EBF0F8"
             },
             "line": {
              "color": "white"
             }
            },
            "header": {
             "fill": {
              "color": "#C8D4E3"
             },
             "line": {
              "color": "white"
             }
            },
            "type": "table"
           }
          ]
         },
         "layout": {
          "annotationdefaults": {
           "arrowcolor": "#2a3f5f",
           "arrowhead": 0,
           "arrowwidth": 1
          },
          "autotypenumbers": "strict",
          "coloraxis": {
           "colorbar": {
            "outlinewidth": 0,
            "ticks": ""
           }
          },
          "colorscale": {
           "diverging": [
            [
             0,
             "#8e0152"
            ],
            [
             0.1,
             "#c51b7d"
            ],
            [
             0.2,
             "#de77ae"
            ],
            [
             0.3,
             "#f1b6da"
            ],
            [
             0.4,
             "#fde0ef"
            ],
            [
             0.5,
             "#f7f7f7"
            ],
            [
             0.6,
             "#e6f5d0"
            ],
            [
             0.7,
             "#b8e186"
            ],
            [
             0.8,
             "#7fbc41"
            ],
            [
             0.9,
             "#4d9221"
            ],
            [
             1,
             "#276419"
            ]
           ],
           "sequential": [
            [
             0,
             "#0d0887"
            ],
            [
             0.1111111111111111,
             "#46039f"
            ],
            [
             0.2222222222222222,
             "#7201a8"
            ],
            [
             0.3333333333333333,
             "#9c179e"
            ],
            [
             0.4444444444444444,
             "#bd3786"
            ],
            [
             0.5555555555555556,
             "#d8576b"
            ],
            [
             0.6666666666666666,
             "#ed7953"
            ],
            [
             0.7777777777777778,
             "#fb9f3a"
            ],
            [
             0.8888888888888888,
             "#fdca26"
            ],
            [
             1,
             "#f0f921"
            ]
           ],
           "sequentialminus": [
            [
             0,
             "#0d0887"
            ],
            [
             0.1111111111111111,
             "#46039f"
            ],
            [
             0.2222222222222222,
             "#7201a8"
            ],
            [
             0.3333333333333333,
             "#9c179e"
            ],
            [
             0.4444444444444444,
             "#bd3786"
            ],
            [
             0.5555555555555556,
             "#d8576b"
            ],
            [
             0.6666666666666666,
             "#ed7953"
            ],
            [
             0.7777777777777778,
             "#fb9f3a"
            ],
            [
             0.8888888888888888,
             "#fdca26"
            ],
            [
             1,
             "#f0f921"
            ]
           ]
          },
          "colorway": [
           "#636efa",
           "#EF553B",
           "#00cc96",
           "#ab63fa",
           "#FFA15A",
           "#19d3f3",
           "#FF6692",
           "#B6E880",
           "#FF97FF",
           "#FECB52"
          ],
          "font": {
           "color": "#2a3f5f"
          },
          "geo": {
           "bgcolor": "white",
           "lakecolor": "white",
           "landcolor": "#E5ECF6",
           "showlakes": true,
           "showland": true,
           "subunitcolor": "white"
          },
          "hoverlabel": {
           "align": "left"
          },
          "hovermode": "closest",
          "mapbox": {
           "style": "light"
          },
          "paper_bgcolor": "white",
          "plot_bgcolor": "#E5ECF6",
          "polar": {
           "angularaxis": {
            "gridcolor": "white",
            "linecolor": "white",
            "ticks": ""
           },
           "bgcolor": "#E5ECF6",
           "radialaxis": {
            "gridcolor": "white",
            "linecolor": "white",
            "ticks": ""
           }
          },
          "scene": {
           "xaxis": {
            "backgroundcolor": "#E5ECF6",
            "gridcolor": "white",
            "gridwidth": 2,
            "linecolor": "white",
            "showbackground": true,
            "ticks": "",
            "zerolinecolor": "white"
           },
           "yaxis": {
            "backgroundcolor": "#E5ECF6",
            "gridcolor": "white",
            "gridwidth": 2,
            "linecolor": "white",
            "showbackground": true,
            "ticks": "",
            "zerolinecolor": "white"
           },
           "zaxis": {
            "backgroundcolor": "#E5ECF6",
            "gridcolor": "white",
            "gridwidth": 2,
            "linecolor": "white",
            "showbackground": true,
            "ticks": "",
            "zerolinecolor": "white"
           }
          },
          "shapedefaults": {
           "line": {
            "color": "#2a3f5f"
           }
          },
          "ternary": {
           "aaxis": {
            "gridcolor": "white",
            "linecolor": "white",
            "ticks": ""
           },
           "baxis": {
            "gridcolor": "white",
            "linecolor": "white",
            "ticks": ""
           },
           "bgcolor": "#E5ECF6",
           "caxis": {
            "gridcolor": "white",
            "linecolor": "white",
            "ticks": ""
           }
          },
          "title": {
           "x": 0.05
          },
          "xaxis": {
           "automargin": true,
           "gridcolor": "white",
           "linecolor": "white",
           "ticks": "",
           "title": {
            "standoff": 15
           },
           "zerolinecolor": "white",
           "zerolinewidth": 2
          },
          "yaxis": {
           "automargin": true,
           "gridcolor": "white",
           "linecolor": "white",
           "ticks": "",
           "title": {
            "standoff": 15
           },
           "zerolinecolor": "white",
           "zerolinewidth": 2
          }
         }
        },
        "xaxis": {
         "anchor": "y",
         "autorange": true,
         "domain": [
          0,
          1
         ],
         "range": [
          -0.5,
          17.5
         ],
         "title": {
          "text": "label"
         },
         "type": "category"
        },
        "yaxis": {
         "anchor": "x",
         "autorange": true,
         "domain": [
          0,
          1
         ],
         "range": [
          0,
          105.26315789473685
         ],
         "title": {
          "text": "count"
         }
        }
       }
      },
      "image/png": "[encoded data removed]",
      "text/html": [
       "<div>                            <div id=\"f0071f55-c92a-42be-a5d7-8ca8b0a4bb01\" class=\"plotly-graph-div\" style=\"height:525px; width:100%;\"></div>            <script type=\"text/javascript\">                require([\"plotly\"], function(Plotly) {                    window.PLOTLYENV=window.PLOTLYENV || {};                                    if (document.getElementById(\"f0071f55-c92a-42be-a5d7-8ca8b0a4bb01\")) {                    Plotly.newPlot(                        \"f0071f55-c92a-42be-a5d7-8ca8b0a4bb01\",                        [{\"alignmentgroup\": \"True\", \"bingroup\": \"x\", \"hovertemplate\": \"label=%{x}<br>count=%{y}<extra></extra>\", \"legendgroup\": \"\", \"marker\": {\"color\": \"#636efa\"}, \"name\": \"\", \"nbinsx\": 10, \"offsetgroup\": \"\", \"orientation\": \"v\", \"showlegend\": false, \"type\": \"histogram\", \"x\": [\"blank\", \"blank\", \"blank\", \"blank\", \"blank\", \"blank\", \"blank\", \"blank\", \"blank\", \"blank\", \"blank\", \"blank\", \"blank\", \"blank\", \"blank\", \"blank\", \"blank\", \"blank\", \"blank\", \"blank\", \"blank\", \"blank\", \"blank\", \"blank\", \"blank\", \"blank\", \"blank\", \"blank\", \"blank\", \"blank\", \"blank\", \"blank\", \"blank\", \"blank\", \"blank\", \"blank\", \"blank\", \"blank\", \"blank\", \"blank\", \"blank\", \"blank\", \"blank\", \"blank\", \"blank\", \"blank\", \"blank\", \"blank\", \"blank\", \"blank\", \"blank\", \"blank\", \"blank\", \"blank\", \"blank\", \"blank\", \"blank\", \"blank\", \"blank\", \"blank\", \"blank\", \"blank\", \"blank\", \"blank\", \"blank\", \"blank\", \"blank\", \"blank\", \"blank\", \"blank\", \"blank\", \"blank\", \"blank\", \"blank\", \"blank\", \"blank\", \"blank\", \"ps1\", \"ps1\", \"ps1\", \"ps1\", \"ps1\", \"ps1\", \"ps1\", \"ps1\", \"ps1\", \"ps1\", \"ps1\", \"ps1\", \"ps1\", \"ps1\", \"ps1\", \"ps1\", \"ps1\", \"ps1\", \"ps1\", \"ps1\", \"ps1\", \"ps1\", \"ps1\", \"ps1\", \"ps1\", \"ps1\", \"ps1\", \"ps1\", \"ps1\", \"ps1\", \"ps1\", \"ps1\", \"ps1\", \"ps1\", \"ps1\", \"ps1\", \"ps1\", \"ps1\", \"ps1\", \"ps1\", \"ps1\", \"ps1\", \"ps1\", \"ps1\", \"ps1\", \"ps1\", \"ps1\", \"ps1\", \"ps1\", \"ps1\", \"ps1\", \"ps1\", \"ps1\", \"ps1\", \"ps1\", \"ps1\", \"ps1\", \"ps1\", \"ps1\", \"ps1\", \"ps1\", \"ps1\", \"ps1\", \"ps1\", \"ps1\", \"ps1\", \"ps1\", \"ps1\", \"ps1\", \"ps1\", \"ps1\", \"ps1\", \"ps1\", \"ps1\", \"ps1\", \"ps1\", \"ps1\", \"ps1\", \"ps1\", \"ps1\", \"ps1\", \"ps1\", \"ps1\", \"ps1\", \"ps1\", \"ps1\", \"ps1\", \"ps1\", \"ps1\", \"ps1\", \"ps1\", \"ps1\", \"ps1\", \"ps1\", \"ps1\", \"ps1\", \"ps1\", \"ps1\", \"ps1\", \"ps1\", \"ps1+ice\", \"ps1+ice\", \"ps1+ice\", \"ps1+ice\", \"ps1+ice\", \"ps1+ice\", \"ps1+ice\", \"ps1+ice\", \"ps1+ice\", \"ps1+ice\", \"ps1+ice\", \"ps1+ice\", \"ps1+ice\", \"ps1+ice\", \"ps1+ice\", \"ps1+ice\", \"ps1+ice\", \"ps1+ice\", \"ps1+ice\", \"ps1+ice\", \"ps1+ice\", \"ps1+ice\", \"ps1+ice\", \"ps1+ice\", \"ps1+ice\", \"ps1+ice\", \"ps1+ice\", \"ps1+ice\", \"ps1+ice\", \"ps1+ice\", \"ps1+ice\", \"ps1+ice\", \"ps1+ice\", \"ps1+ice\", \"ps1+ice\", \"ps1+ice\", \"ps1+ice\", \"ps1+ice\", \"ps1+ice\", \"ps1+ice\", \"ps1+ice\", \"ps1+ice\", \"ps1+ice\", \"ps1+ice\", \"ps1+ice\", \"ps1+ice\", \"ps1+ice\", \"ps1+ice\", \"ps1+ice\", \"ps1+ice\", \"ps1+ice\", \"ps1+ice\", \"ps1+ice\", \"ps1+ice\", \"ps1+ice\", \"ps1+ice\", \"ps1+ice\", \"ps1+ice\", \"ps1+ice\", \"ps1+ice\", \"ps1+ice\", \"ps1+ice\", \"ps1+ice\", \"ps1+ice\", \"ps1+ice\", \"ps1+ice\", \"ps1+ice\", \"ps1+ice\", \"ps1+ice\", \"ps1+ice\", \"ps1+ice\", \"ps1+ice\", \"ps1+ice\", \"ps1+ice\", \"ps1+ice\", \"ps1+ice\", \"ps1+ice\", \"ps1+ice\", \"ps1+ice\", \"ps1+ice\", \"ps1+ice\", \"ps1+ice\", \"ps1+ice\", \"ps1+ice\", \"ps1+ice\", \"ps1+ice\", \"ps1+ice\", \"ps1+ice\", \"ps1+ice\", \"ps1+ice\", \"ps1+ice\", \"ps1+ice\", \"ps1+ice\", \"ps1+ice\", \"ps1+ice\", \"ps1+ice\", \"ps1+ice\", \"ps1+ice\", \"ps1+ice\", \"ps1+ice\", \"ps1+ice+badice\", \"ps1+ice+badice\", \"ps1+ice+badice\", \"ps1+ice+badice\", \"ps1+ice+badice\", \"ps1+ice+badice\", \"ps1+ice+badice\", \"ps1+multi\", \"ps1+multi\", \"ps1+multi\", \"ps1+multi\", \"ps1+multi\", \"ps1+multi\", \"ps1+multi\", \"ps1+multi\", \"ps1+multi\", \"ps1+multi\", \"ps1+multi\", \"ps1+multi\", \"ps1+multi\", \"ps1+multi\", \"ps1+multi\", \"ps1+multi\", \"ps1+multi\", \"ps1+multi\", \"ps1+multi\", \"ps1+multi\", \"ps1+multi\", \"ps1+multi\", \"ps1+multi\", \"ps1+multi\", \"ps1+multi\", \"ps1+multi\", \"ps1+multi\", \"ps1+multi\", \"ps1+multi\", \"ps1+multi\", \"ps1+multi\", \"ps1+multi\", \"ps1+multi\", \"ps1+multi\", \"ps1+multi\", \"ps1+multi\", \"ps1+multi\", \"ps1+multi\", \"ps1+multi\", \"ps1+multi\", \"ps1+multi\", \"ps1+multi\", \"ps1+multi\", \"ps1+multi\", \"ps1+multi\", \"ps1+multi\", \"ps1+multi\", \"ps1+multi\", \"ps1+multi\", \"ps1+multi\", \"ps1+multi\", \"ps1+multi\", \"ps1+multi\", \"ps1+multi\", \"ps1+multi\", \"ps1+multi\", \"ps1+multi\", \"ps1+multi\", \"ps1+multi\", \"ps1+multi\", \"ps1+multi\", \"ps1+multi\", \"ps1+multi\", \"ps1+multi\", \"ps1+multi\", \"ps1+multi\", \"ps1+multi\", \"ps1+multi\", \"ps1+multi\", \"ps1+multi\", \"ps1+multi\", \"ps1+multi\", \"ps1+multi\", \"ps1+multi\", \"ps1+multi\", \"ps1+multi\", \"ps1+multi\", \"ps1+multi\", \"ps1+multi\", \"ps1+multi\", \"ps1+multi\", \"ps1+multi\", \"ps1+multi\", \"ps1+multi\", \"ps1+multi\", \"ps1+multi\", \"ps1+multi\", \"ps1+multi\", \"ps1+multi\", \"ps1+multi\", \"ps1+multi\", \"ps1+multi\", \"ps1+multi\", \"ps1+multi\", \"ps1+multi\", \"ps1+multi\", \"ps1+multi\", \"ps1+multi\", \"ps1+multi\", \"ps1+multi\", \"ps1+multi+ice\", \"ps1+multi+ice\", \"ps1+multi+ice\", \"ps1+multi+ice\", \"ps1+multi+ice\", \"ps1+multi+ice\", \"ps1+multi+ice\", \"ps1+multi+ice\", \"ps1+multi+ice\", \"ps1+multi+ice\", \"ps1+multi+ice\", \"ps1+multi+ice\", \"ps1+multi+ice\", \"ps1+multi+ice\", \"ps1+multi+ice\", \"ps1+multi+ice\", \"ps1+multi+ice\", \"ps1+multi+ice\", \"ps1+multi+ice\", \"ps1+multi+ice\", \"ps1+multi+ice\", \"ps1+multi+ice\", \"ps1+multi+ice\", \"ps1+multi+ice\", \"ps1+multi+ice\", \"ps1+multi+ice\", \"ps1+multi+ice\", \"ps1+multi+ice\", \"ps1+multi+ice\", \"ps1+multi+ice\", \"ps1+multi+ice\", \"ps1+multi+ice\", \"ps1+multi+ice\", \"ps1+multi+ice\", \"ps1+multi+ice\", \"ps1+multi+ice\", \"ps1+multi+ice\", \"ps1+multi+ice\", \"ps1+multi+ice\", \"ps1+multi+ice\", \"ps1+multi+ice\", \"ps1+multi+ice\", \"ps1+multi+ice\", \"ps1+multi+ice\", \"ps1+multi+ice\", \"ps1+multi+ice\", \"ps1+multi+ice\", \"ps1+multi+ice\", \"ps1+multi+ice\", \"ps1+multi+ice\", \"ps1+multi+ice\", \"ps1+multi+ice\", \"ps1+multi+ice\", \"ps1+multi+ice\", \"ps1+multi+ice\", \"ps1+multi+ice\", \"ps1+multi+ice\", \"ps1+multi+ice\", \"ps1+multi+ice\", \"ps1+multi+ice\", \"ps1+multi+ice\", \"ps1+multi+ice\", \"ps1+multi+ice\", \"ps1+multi+ice\", \"ps1+multi+ice\", \"ps1+multi+ice\", \"ps1+multi+ice\", \"ps1+multi+ice\", \"ps1+multi+ice\", \"ps1+multi+ice\", \"ps1+multi+ice\", \"ps1+multi+ice\", \"ps1+multi+ice\", \"ps1+multi+ice\", \"ps1+multi+ice\", \"ps1+multi+ice\", \"ps1+multi+ice\", \"ps1+multi+ice\", \"ps1+multi+ice\", \"ps1+multi+ice\", \"ps1+multi+ice\", \"ps1+multi+ice\", \"ps1+multi+ice\", \"ps1+multi+ice\", \"ps1+multi+ice\", \"ps1+multi+ice\", \"ps1+multi+ice\", \"ps1+multi+ice\", \"ps1+multi+ice\", \"ps1+multi+ice\", \"ps1+multi+ice\", \"ps1+multi+ice\", \"ps1+multi+ice\", \"ps1+multi+ice\", \"ps1+multi+ice\", \"ps1+multi+ice\", \"ps1+multi+ice\", \"ps1+multi+ice\", \"ps1+multi+ice\", \"ps1+multi+ice\", \"ps1+multi+ice+badice\", \"ps1+multi+ice+badice\", \"ps1+ps2\", \"ps1+ps2\", \"ps1+ps2\", \"ps1+ps2\", \"ps1+ps2\", \"ps1+ps2\", \"ps1+ps2\", \"ps1+ps2\", \"ps1+ps2\", \"ps1+ps2\", \"ps1+ps2\", \"ps1+ps2\", \"ps1+ps2\", \"ps1+ps2\", \"ps1+ps2\", \"ps1+ps2\", \"ps1+ps2\", \"ps1+ps2\", \"ps1+ps2\", \"ps1+ps2\", \"ps1+ps2\", \"ps1+ps2\", \"ps1+ps2\", \"ps1+ps2\", \"ps1+ps2\", \"ps1+ps2\", \"ps1+ps2\", \"ps1+ps2\", \"ps1+ps2\", \"ps1+ps2\", \"ps1+ps2\", \"ps1+ps2\", \"ps1+ps2\", \"ps1+ps2\", \"ps1+ps2\", \"ps1+ps2\", \"ps1+ps2\", \"ps1+ps2\", \"ps1+ps2\", \"ps1+ps2\", \"ps1+ps2\", \"ps1+ps2\", \"ps1+ps2\", \"ps1+ps2\", \"ps1+ps2\", \"ps1+ps2\", \"ps1+ps2\", \"ps1+ps2\", \"ps1+ps2\", \"ps1+ps2\", \"ps1+ps2\", \"ps1+ps2\", \"ps1+ps2\", \"ps1+ps2\", \"ps1+ps2\", \"ps1+ps2\", \"ps1+ps2\", \"ps1+ps2\", \"ps1+ps2\", \"ps1+ps2\", \"ps1+ps2\", \"ps1+ps2\", \"ps1+ps2\", \"ps1+ps2\", \"ps1+ps2\", \"ps1+ps2\", \"ps1+ps2\", \"ps1+ps2\", \"ps1+ps2\", \"ps1+ps2\", \"ps1+ps2\", \"ps1+ps2\", \"ps1+ps2\", \"ps1+ps2\", \"ps1+ps2\", \"ps1+ps2+ice\", \"ps1+ps2+ice\", \"ps1+ps2+ice\", \"ps1+ps2+ice\", \"ps1+ps2+ice\", \"ps1+ps2+ice\", \"ps1+ps2+ice\", \"ps1+ps2+ice\", \"ps1+ps2+ice\", \"ps1+ps2+ice\", \"ps1+ps2+ice\", \"ps1+ps2+ice\", \"ps1+ps2+ice\", \"ps1+ps2+ice\", \"ps1+ps2+ice\", \"ps1+ps2+ice\", \"ps1+ps2+ice\", \"ps1+ps2+ice\", \"ps1+ps2+ice\", \"ps1+ps2+ice\", \"ps1+ps2+ice\", \"ps1+ps2+ice\", \"ps1+ps2+ice\", \"ps1+ps2+ice\", \"ps1+ps2+ice\", \"ps1+ps2+ice\", \"ps1+ps2+multi\", \"ps1+ps2+multi\", \"ps1+ps2+multi\", \"ps1+ps2+multi\", \"ps1+ps2+multi\", \"ps1+ps2+multi\", \"ps1+ps2+multi\", \"ps1+ps2+multi\", \"ps1+ps2+multi\", \"ps1+ps2+multi\", \"ps1+ps2+multi\", \"ps1+ps2+multi\", \"ps1+ps2+multi\", \"ps1+ps2+multi\", \"ps1+ps2+multi\", \"ps1+ps2+multi\", \"ps1+ps2+multi\", \"ps1+ps2+multi\", \"ps1+ps2+multi\", \"ps1+ps2+multi\", \"ps1+ps2+multi\", \"ps1+ps2+multi\", \"ps1+ps2+multi\", \"ps1+ps2+multi\", \"ps1+ps2+multi\", \"ps1+ps2+multi\", \"ps1+ps2+multi\", \"ps1+ps2+multi\", \"ps1+ps2+multi\", \"ps1+ps2+multi\", \"ps1+ps2+multi\", \"ps1+ps2+multi\", \"ps1+ps2+multi\", \"ps1+ps2+multi\", \"ps1+ps2+multi\", \"ps1+ps2+multi\", \"ps1+ps2+multi\", \"ps1+ps2+multi\", \"ps1+ps2+multi\", \"ps1+ps2+multi\", \"ps1+ps2+multi\", \"ps1+ps2+multi\", \"ps1+ps2+multi\", \"ps1+ps2+multi\", \"ps1+ps2+multi\", \"ps1+ps2+multi\", \"ps1+ps2+multi\", \"ps1+ps2+multi\", \"ps1+ps2+multi\", \"ps1+ps2+multi\", \"ps1+ps2+multi\", \"ps1+ps2+multi\", \"ps1+ps2+multi\", \"ps1+ps2+multi\", \"ps1+ps2+multi\", \"ps1+ps2+multi\", \"ps1+ps2+multi\", \"ps1+ps2+multi\", \"ps1+ps2+multi\", \"ps1+ps2+multi\", \"ps1+ps2+multi\", \"ps1+ps2+multi\", \"ps1+ps2+multi\", \"ps1+ps2+multi\", \"ps1+ps2+multi\", \"ps1+ps2+multi\", \"ps1+ps2+multi\", \"ps1+ps2+multi\", \"ps1+ps2+multi\", \"ps1+ps2+multi\", \"ps1+ps2+multi\", \"ps1+ps2+multi\", \"ps1+ps2+multi\", \"ps1+ps2+multi\", \"ps1+ps2+multi\", \"ps1+ps2+multi\", \"ps1+ps2+multi\", \"ps1+ps2+multi\", \"ps1+ps2+multi\", \"ps1+ps2+multi\", \"ps1+ps2+multi\", \"ps1+ps2+multi\", \"ps1+ps2+multi\", \"ps1+ps2+multi\", \"ps1+ps2+multi\", \"ps1+ps2+multi\", \"ps1+ps2+multi\", \"ps1+ps2+multi\", \"ps1+ps2+multi\", \"ps1+ps2+multi\", \"ps1+ps2+multi\", \"ps1+ps2+multi\", \"ps1+ps2+multi\", \"ps1+ps2+multi\", \"ps1+ps2+multi\", \"ps1+ps2+multi\", \"ps1+ps2+multi\", \"ps1+ps2+multi\", \"ps1+ps2+multi\", \"ps1+ps2+multi\", \"ps1+ps2+multi+ice\", \"ps1+ps2+multi+ice\", \"ps1+ps2+multi+ice\", \"ps1+ps2+multi+ice\", \"ps1+ps2+multi+ice\", \"ps1+ps2+multi+ice\", \"ps1+ps2+multi+ice\", \"ps1+ps2+multi+ice\", \"ps1+ps2+multi+ice\", \"ps1+ps2+multi+ice\", \"ps1+ps2+multi+ice\", \"ps1+ps2+multi+ice\", \"ps1+ps2+multi+ice\", \"ps1+ps2+multi+ice\", \"ps1+ps2+multi+ice\", \"ps1+ps2+multi+ice\", \"ps1+ps2+multi+ice\", \"ps1+ps2+multi+ice\", \"ps1+ps2+multi+ice\", \"ps1+ps2+multi+ice\", \"ps1+ps2+multi+ice\", \"ps1+ps2+multi+ice\", \"ps1+ps2+multi+ice\", \"ps1+ps2+multi+ice\", \"ps1+ps2+multi+ice\", \"ps1+ps2+multi+ice\", \"ps1+ps2+multi+ice\", \"ps1+ps2+multi+ice\", \"ps1+ps2+multi+ice\", \"ps1+ps2+multi+ice\", \"ps1+ps2+multi+ice\", \"ps1+ps2+multi+ice\", \"ps1+ps2+multi+ice\", \"ps1+ps2+multi+ice\", \"ps1+ps2+multi+ice\", \"ps1+ps2+multi+ice\", \"ps1+ps2+multi+ice\", \"ps1+ps2+multi+ice\", \"ps1+ps2+multi+ice\", \"ps1+ps2+multi+ice\", \"ps1+ps2+multi+ice\", \"ps1+ps2+multi+ice\", \"ps1+ps2+multi+ice\", \"ps1+ps2+multi+ice\", \"ps1+ps2+multi+ice\", \"ps1+ps2+multi+ice\", \"ps1+ps2+multi+ice\", \"ps1+ps2+multi+ice\", \"ps1+ps2+multi+ice\", \"ps1+ps2+multi+ice\", \"ps1+ps2+multi+ice\", \"ps1+ps2+multi+ice\", \"ps1+ps2+multi+ice\", \"ps1+ps2+multi+ice\", \"ps1+ps2+multi+ice\", \"ps1+ps2+multi+ice\", \"ps1+ps2+multi+ice\", \"ps1+ps2+multi+ice\", \"ps1+ps2+multi+ice\", \"ps1+ps2+multi+ice\", \"ps1+ps2+multi+ice\", \"ps1+ps2+multi+ice\", \"ps1+ps2+multi+ice\", \"ps1+ps2+multi+ice\", \"ps1+ps2+multi+ice\", \"ps1+ps2+multi+ice\", \"ps1+ps2+multi+ice\", \"ps1+ps2+multi+ice\", \"ps1+ps2+multi+ice\", \"ps1+ps2+multi+ice\", \"ps1+ps2+multi+ice\", \"ps1+ps2+multi+ice\", \"ps1+ps2+multi+ice\", \"ps1+ps2+multi+ice\", \"ps1+ps2+multi+ice\", \"ps1+ps2+multi+ice\", \"ps1+ps2+multi+ice\", \"ps1+ps2+multi+ice\", \"ps1+ps2+multi+ice\", \"ps1+ps2+multi+ice\", \"ps1+ps2+multi+ice\", \"ps1+ps2+multi+ice\", \"ps1+ps2+multi+ice\", \"ps1+ps2+multi+ice\", \"ps1+ps2+multi+ice\", \"ps1+ps2+multi+ice\", \"ps1+ps2+multi+ice\", \"ps1+ps2+multi+ice\", \"ps1+ps2+multi+ice\", \"ps1+ps2+multi+ice\", \"ps1+ps2+multi+ice\", \"ps1+ps2+multi+ice\", \"ps1+ps2+multi+ice\", \"ps1+ps2+multi+ice\", \"ps1+ps2+multi+ice\", \"ps1+ps2+multi+ice\", \"ps1+ps2+multi+ice\", \"ps1+ps2+multi+ice\", \"ps1+ps2+multi+ice\", \"ps1+ps2+multi+ice\", \"ps1+ps2+multi+ice+badice\", \"ps1+ps2+multi+ice+badice\", \"ps2\", \"ps2\", \"ps2\", \"ps2\", \"ps2\", \"ps2\", \"ps2\", \"ps2\", \"ps2\", \"ps2\", \"ps2\", \"ps2\", \"ps2\", \"ps2\", \"ps2\", \"ps2\", \"ps2\", \"ps2\", \"ps2\", \"ps2\", \"ps2\", \"ps2\", \"ps2\", \"ps2\", \"ps2\", \"ps2\", \"ps2\", \"ps2\", \"ps2\", \"ps2\", \"ps2\", \"ps2\", \"ps2\", \"ps2\", \"ps2\", \"ps2\", \"ps2\", \"ps2\", \"ps2\", \"ps2\", \"ps2\", \"ps2\", \"ps2\", \"ps2\", \"ps2\", \"ps2\", \"ps2\", \"ps2\", \"ps2\", \"ps2\", \"ps2\", \"ps2\", \"ps2\", \"ps2\", \"ps2\", \"ps2\", \"ps2\", \"ps2\", \"ps2\", \"ps2\", \"ps2\", \"ps2\", \"ps2\", \"ps2\", \"ps2\", \"ps2\", \"ps2\", \"ps2\", \"ps2\", \"ps2\", \"ps2\", \"ps2\", \"ps2\", \"ps2\", \"ps2\", \"ps2\", \"ps2\", \"ps2\", \"ps2\", \"ps2\", \"ps2\", \"ps2\", \"ps2\", \"ps2\", \"ps2\", \"ps2\", \"ps2\", \"ps2\", \"ps2\", \"ps2\", \"ps2\", \"ps2\", \"ps2\", \"ps2\", \"ps2\", \"ps2\", \"ps2\", \"ps2\", \"ps2\", \"ps2\", \"ps2+ice\", \"ps2+ice\", \"ps2+ice\", \"ps2+ice\", \"ps2+ice\", \"ps2+ice\", \"ps2+ice\", \"ps2+ice\", \"ps2+ice\", \"ps2+ice\", \"ps2+ice\", \"ps2+ice\", \"ps2+ice\", \"ps2+ice\", \"ps2+ice\", \"ps2+ice\", \"ps2+ice\", \"ps2+ice\", \"ps2+ice\", \"ps2+ice\", \"ps2+ice\", \"ps2+ice\", \"ps2+ice\", \"ps2+ice\", \"ps2+ice\", \"ps2+ice\", \"ps2+ice\", \"ps2+ice\", \"ps2+ice\", \"ps2+ice\", \"ps2+ice\", \"ps2+ice\", \"ps2+ice\", \"ps2+ice\", \"ps2+ice\", \"ps2+ice\", \"ps2+ice\", \"ps2+ice\", \"ps2+ice\", \"ps2+ice\", \"ps2+ice\", \"ps2+ice\", \"ps2+ice\", \"ps2+ice\", \"ps2+ice\", \"ps2+ice\", \"ps2+ice\", \"ps2+ice\", \"ps2+ice\", \"ps2+ice\", \"ps2+ice\", \"ps2+ice\", \"ps2+ice\", \"ps2+ice\", \"ps2+ice\", \"ps2+ice\", \"ps2+ice\", \"ps2+ice\", \"ps2+ice\", \"ps2+ice\", \"ps2+ice\", \"ps2+ice\", \"ps2+ice\", \"ps2+ice\", \"ps2+ice\", \"ps2+ice\", \"ps2+ice\", \"ps2+ice\", \"ps2+ice\", \"ps2+ice\", \"ps2+ice\", \"ps2+ice\", \"ps2+ice\", \"ps2+ice\", \"ps2+ice\", \"ps2+ice\", \"ps2+ice\", \"ps2+ice\", \"ps2+ice\", \"ps2+ice\", \"ps2+ice\", \"ps2+ice\", \"ps2+ice\", \"ps2+ice\", \"ps2+ice\", \"ps2+ice\", \"ps2+ice\", \"ps2+ice\", \"ps2+ice\", \"ps2+ice\", \"ps2+ice\", \"ps2+ice\", \"ps2+ice\", \"ps2+ice\", \"ps2+ice\", \"ps2+ice\", \"ps2+ice\", \"ps2+ice\", \"ps2+ice\", \"ps2+ice\", \"ps2+ice+badice\", \"ps2+ice+badice\", \"ps2+ice+badice\", \"ps2+ice+badice\", \"ps2+ice+badice\", \"ps2+ice+badice\", \"ps2+ice+badice\", \"ps2+ice+badice\", \"ps2+ice+badice\", \"ps2+ice+badice\", \"ps2+ice+badice\", \"ps2+ice+badice\", \"ps2+ice+badice\", \"ps2+multi\", \"ps2+multi\", \"ps2+multi\", \"ps2+multi\", \"ps2+multi\", \"ps2+multi\", \"ps2+multi\", \"ps2+multi\", \"ps2+multi\", \"ps2+multi\", \"ps2+multi\", \"ps2+multi\", \"ps2+multi\", \"ps2+multi\", \"ps2+multi\", \"ps2+multi\", \"ps2+multi\", \"ps2+multi\", \"ps2+multi\", \"ps2+multi\", \"ps2+multi\", \"ps2+multi\", \"ps2+multi\", \"ps2+multi\", \"ps2+multi\", \"ps2+multi\", \"ps2+multi\", \"ps2+multi\", \"ps2+multi\", \"ps2+multi\", \"ps2+multi\", \"ps2+multi\", \"ps2+multi\", \"ps2+multi\", \"ps2+multi\", \"ps2+multi\", \"ps2+multi\", \"ps2+multi\", \"ps2+multi\", \"ps2+multi\", \"ps2+multi\", \"ps2+multi\", \"ps2+multi\", \"ps2+multi\", \"ps2+multi\", \"ps2+multi\", \"ps2+multi\", \"ps2+multi\", \"ps2+multi\", \"ps2+multi\", \"ps2+multi\", \"ps2+multi\", \"ps2+multi\", \"ps2+multi\", \"ps2+multi\", \"ps2+multi\", \"ps2+multi\", \"ps2+multi\", \"ps2+multi\", \"ps2+multi\", \"ps2+multi\", \"ps2+multi\", \"ps2+multi\", \"ps2+multi\", \"ps2+multi\", \"ps2+multi\", \"ps2+multi\", \"ps2+multi\", \"ps2+multi\", \"ps2+multi\", \"ps2+multi\", \"ps2+multi\", \"ps2+multi\", \"ps2+multi\", \"ps2+multi\", \"ps2+multi\", \"ps2+multi\", \"ps2+multi\", \"ps2+multi\", \"ps2+multi\", \"ps2+multi\", \"ps2+multi\", \"ps2+multi\", \"ps2+multi\", \"ps2+multi\", \"ps2+multi\", \"ps2+multi\", \"ps2+multi\", \"ps2+multi\", \"ps2+multi\", \"ps2+multi\", \"ps2+multi\", \"ps2+multi\", \"ps2+multi\", \"ps2+multi\", \"ps2+multi\", \"ps2+multi\", \"ps2+multi\", \"ps2+multi\", \"ps2+multi\", \"ps2+multi+ice\", \"ps2+multi+ice\", \"ps2+multi+ice\", \"ps2+multi+ice\", \"ps2+multi+ice\", \"ps2+multi+ice\", \"ps2+multi+ice\", \"ps2+multi+ice\", \"ps2+multi+ice\", \"ps2+multi+ice\", \"ps2+multi+ice\", \"ps2+multi+ice\", \"ps2+multi+ice\", \"ps2+multi+ice\", \"ps2+multi+ice\", \"ps2+multi+ice\", \"ps2+multi+ice\", \"ps2+multi+ice\", \"ps2+multi+ice\", \"ps2+multi+ice\", \"ps2+multi+ice\", \"ps2+multi+ice\", \"ps2+multi+ice\", \"ps2+multi+ice\", \"ps2+multi+ice\", \"ps2+multi+ice\", \"ps2+multi+ice\", \"ps2+multi+ice\", \"ps2+multi+ice\", \"ps2+multi+ice\", \"ps2+multi+ice\", \"ps2+multi+ice\", \"ps2+multi+ice\", \"ps2+multi+ice\", \"ps2+multi+ice\", \"ps2+multi+ice\", \"ps2+multi+ice\", \"ps2+multi+ice\", \"ps2+multi+ice\", \"ps2+multi+ice\", \"ps2+multi+ice\", \"ps2+multi+ice\", \"ps2+multi+ice\", \"ps2+multi+ice\", \"ps2+multi+ice\", \"ps2+multi+ice\", \"ps2+multi+ice\", \"ps2+multi+ice\", \"ps2+multi+ice\", \"ps2+multi+ice\", \"ps2+multi+ice\", \"ps2+multi+ice\", \"ps2+multi+ice\", \"ps2+multi+ice\", \"ps2+multi+ice\", \"ps2+multi+ice\", \"ps2+multi+ice\", \"ps2+multi+ice\", \"ps2+multi+ice\", \"ps2+multi+ice\", \"ps2+multi+ice\", \"ps2+multi+ice\", \"ps2+multi+ice\", \"ps2+multi+ice\", \"ps2+multi+ice\", \"ps2+multi+ice\", \"ps2+multi+ice\", \"ps2+multi+ice\", \"ps2+multi+ice\", \"ps2+multi+ice\", \"ps2+multi+ice\", \"ps2+multi+ice\", \"ps2+multi+ice\", \"ps2+multi+ice\", \"ps2+multi+ice\", \"ps2+multi+ice\", \"ps2+multi+ice\", \"ps2+multi+ice\", \"ps2+multi+ice\", \"ps2+multi+ice\", \"ps2+multi+ice\", \"ps2+multi+ice\", \"ps2+multi+ice\", \"ps2+multi+ice\", \"ps2+multi+ice\", \"ps2+multi+ice\", \"ps2+multi+ice\", \"ps2+multi+ice\", \"ps2+multi+ice\", \"ps2+multi+ice\", \"ps2+multi+ice\", \"ps2+multi+ice\", \"ps2+multi+ice\", \"ps2+multi+ice\", \"ps2+multi+ice\", \"ps2+multi+ice\", \"ps2+multi+ice\", \"ps2+multi+ice\", \"ps2+multi+ice\", \"ps2+multi+ice\", \"ps2+multi+ice+badice\", \"ps2+multi+ice+badice\", \"ps2+multi+ice+badice\", \"ps2+multi+ice+badice\"], \"xaxis\": \"x\", \"yaxis\": \"y\"}],                        {\"barmode\": \"relative\", \"legend\": {\"tracegroupgap\": 0}, \"margin\": {\"t\": 60}, \"template\": {\"data\": {\"bar\": [{\"error_x\": {\"color\": \"#2a3f5f\"}, \"error_y\": {\"color\": \"#2a3f5f\"}, \"marker\": {\"line\": {\"color\": \"#E5ECF6\", \"width\": 0.5}}, \"type\": \"bar\"}], \"barpolar\": [{\"marker\": {\"line\": {\"color\": \"#E5ECF6\", \"width\": 0.5}}, \"type\": \"barpolar\"}], \"carpet\": [{\"aaxis\": {\"endlinecolor\": \"#2a3f5f\", \"gridcolor\": \"white\", \"linecolor\": \"white\", \"minorgridcolor\": \"white\", \"startlinecolor\": \"#2a3f5f\"}, \"baxis\": {\"endlinecolor\": \"#2a3f5f\", \"gridcolor\": \"white\", \"linecolor\": \"white\", \"minorgridcolor\": \"white\", \"startlinecolor\": \"#2a3f5f\"}, \"type\": \"carpet\"}], \"choropleth\": [{\"colorbar\": {\"outlinewidth\": 0, \"ticks\": \"\"}, \"type\": \"choropleth\"}], \"contour\": [{\"colorbar\": {\"outlinewidth\": 0, \"ticks\": \"\"}, \"colorscale\": [[0.0, \"#0d0887\"], [0.1111111111111111, \"#46039f\"], [0.2222222222222222, \"#7201a8\"], [0.3333333333333333, \"#9c179e\"], [0.4444444444444444, \"#bd3786\"], [0.5555555555555556, \"#d8576b\"], [0.6666666666666666, \"#ed7953\"], [0.7777777777777778, \"#fb9f3a\"], [0.8888888888888888, \"#fdca26\"], [1.0, \"#f0f921\"]], \"type\": \"contour\"}], \"contourcarpet\": [{\"colorbar\": {\"outlinewidth\": 0, \"ticks\": \"\"}, \"type\": \"contourcarpet\"}], \"heatmap\": [{\"colorbar\": {\"outlinewidth\": 0, \"ticks\": \"\"}, \"colorscale\": [[0.0, \"#0d0887\"], [0.1111111111111111, \"#46039f\"], [0.2222222222222222, \"#7201a8\"], [0.3333333333333333, \"#9c179e\"], [0.4444444444444444, \"#bd3786\"], [0.5555555555555556, \"#d8576b\"], [0.6666666666666666, \"#ed7953\"], [0.7777777777777778, \"#fb9f3a\"], [0.8888888888888888, \"#fdca26\"], [1.0, \"#f0f921\"]], \"type\": \"heatmap\"}], \"heatmapgl\": [{\"colorbar\": {\"outlinewidth\": 0, \"ticks\": \"\"}, \"colorscale\": [[0.0, \"#0d0887\"], [0.1111111111111111, \"#46039f\"], [0.2222222222222222, \"#7201a8\"], [0.3333333333333333, \"#9c179e\"], [0.4444444444444444, \"#bd3786\"], [0.5555555555555556, \"#d8576b\"], [0.6666666666666666, \"#ed7953\"], [0.7777777777777778, \"#fb9f3a\"], [0.8888888888888888, \"#fdca26\"], [1.0, \"#f0f921\"]], \"type\": \"heatmapgl\"}], \"histogram\": [{\"marker\": {\"colorbar\": {\"outlinewidth\": 0, \"ticks\": \"\"}}, \"type\": \"histogram\"}], \"histogram2d\": [{\"colorbar\": {\"outlinewidth\": 0, \"ticks\": \"\"}, \"colorscale\": [[0.0, \"#0d0887\"], [0.1111111111111111, \"#46039f\"], [0.2222222222222222, \"#7201a8\"], [0.3333333333333333, \"#9c179e\"], [0.4444444444444444, \"#bd3786\"], [0.5555555555555556, \"#d8576b\"], [0.6666666666666666, \"#ed7953\"], [0.7777777777777778, \"#fb9f3a\"], [0.8888888888888888, \"#fdca26\"], [1.0, \"#f0f921\"]], \"type\": \"histogram2d\"}], \"histogram2dcontour\": [{\"colorbar\": {\"outlinewidth\": 0, \"ticks\": \"\"}, \"colorscale\": [[0.0, \"#0d0887\"], [0.1111111111111111, \"#46039f\"], [0.2222222222222222, \"#7201a8\"], [0.3333333333333333, \"#9c179e\"], [0.4444444444444444, \"#bd3786\"], [0.5555555555555556, \"#d8576b\"], [0.6666666666666666, \"#ed7953\"], [0.7777777777777778, \"#fb9f3a\"], [0.8888888888888888, \"#fdca26\"], [1.0, \"#f0f921\"]], \"type\": \"histogram2dcontour\"}], \"mesh3d\": [{\"colorbar\": {\"outlinewidth\": 0, \"ticks\": \"\"}, \"type\": \"mesh3d\"}], \"parcoords\": [{\"line\": {\"colorbar\": {\"outlinewidth\": 0, \"ticks\": \"\"}}, \"type\": \"parcoords\"}], \"pie\": [{\"automargin\": true, \"type\": \"pie\"}], \"scatter\": [{\"marker\": {\"colorbar\": {\"outlinewidth\": 0, \"ticks\": \"\"}}, \"type\": \"scatter\"}], \"scatter3d\": [{\"line\": {\"colorbar\": {\"outlinewidth\": 0, \"ticks\": \"\"}}, \"marker\": {\"colorbar\": {\"outlinewidth\": 0, \"ticks\": \"\"}}, \"type\": \"scatter3d\"}], \"scattercarpet\": [{\"marker\": {\"colorbar\": {\"outlinewidth\": 0, \"ticks\": \"\"}}, \"type\": \"scattercarpet\"}], \"scattergeo\": [{\"marker\": {\"colorbar\": {\"outlinewidth\": 0, \"ticks\": \"\"}}, \"type\": \"scattergeo\"}], \"scattergl\": [{\"marker\": {\"colorbar\": {\"outlinewidth\": 0, \"ticks\": \"\"}}, \"type\": \"scattergl\"}], \"scattermapbox\": [{\"marker\": {\"colorbar\": {\"outlinewidth\": 0, \"ticks\": \"\"}}, \"type\": \"scattermapbox\"}], \"scatterpolar\": [{\"marker\": {\"colorbar\": {\"outlinewidth\": 0, \"ticks\": \"\"}}, \"type\": \"scatterpolar\"}], \"scatterpolargl\": [{\"marker\": {\"colorbar\": {\"outlinewidth\": 0, \"ticks\": \"\"}}, \"type\": \"scatterpolargl\"}], \"scatterternary\": [{\"marker\": {\"colorbar\": {\"outlinewidth\": 0, \"ticks\": \"\"}}, \"type\": \"scatterternary\"}], \"surface\": [{\"colorbar\": {\"outlinewidth\": 0, \"ticks\": \"\"}, \"colorscale\": [[0.0, \"#0d0887\"], [0.1111111111111111, \"#46039f\"], [0.2222222222222222, \"#7201a8\"], [0.3333333333333333, \"#9c179e\"], [0.4444444444444444, \"#bd3786\"], [0.5555555555555556, \"#d8576b\"], [0.6666666666666666, \"#ed7953\"], [0.7777777777777778, \"#fb9f3a\"], [0.8888888888888888, \"#fdca26\"], [1.0, \"#f0f921\"]], \"type\": \"surface\"}], \"table\": [{\"cells\": {\"fill\": {\"color\": \"#EBF0F8\"}, \"line\": {\"color\": \"white\"}}, \"header\": {\"fill\": {\"color\": \"#C8D4E3\"}, \"line\": {\"color\": \"white\"}}, \"type\": \"table\"}]}, \"layout\": {\"annotationdefaults\": {\"arrowcolor\": \"#2a3f5f\", \"arrowhead\": 0, \"arrowwidth\": 1}, \"autotypenumbers\": \"strict\", \"coloraxis\": {\"colorbar\": {\"outlinewidth\": 0, \"ticks\": \"\"}}, \"colorscale\": {\"diverging\": [[0, \"#8e0152\"], [0.1, \"#c51b7d\"], [0.2, \"#de77ae\"], [0.3, \"#f1b6da\"], [0.4, \"#fde0ef\"], [0.5, \"#f7f7f7\"], [0.6, \"#e6f5d0\"], [0.7, \"#b8e186\"], [0.8, \"#7fbc41\"], [0.9, \"#4d9221\"], [1, \"#276419\"]], \"sequential\": [[0.0, \"#0d0887\"], [0.1111111111111111, \"#46039f\"], [0.2222222222222222, \"#7201a8\"], [0.3333333333333333, \"#9c179e\"], [0.4444444444444444, \"#bd3786\"], [0.5555555555555556, \"#d8576b\"], [0.6666666666666666, \"#ed7953\"], [0.7777777777777778, \"#fb9f3a\"], [0.8888888888888888, \"#fdca26\"], [1.0, \"#f0f921\"]], \"sequentialminus\": [[0.0, \"#0d0887\"], [0.1111111111111111, \"#46039f\"], [0.2222222222222222, \"#7201a8\"], [0.3333333333333333, \"#9c179e\"], [0.4444444444444444, \"#bd3786\"], [0.5555555555555556, \"#d8576b\"], [0.6666666666666666, \"#ed7953\"], [0.7777777777777778, \"#fb9f3a\"], [0.8888888888888888, \"#fdca26\"], [1.0, \"#f0f921\"]]}, \"colorway\": [\"#636efa\", \"#EF553B\", \"#00cc96\", \"#ab63fa\", \"#FFA15A\", \"#19d3f3\", \"#FF6692\", \"#B6E880\", \"#FF97FF\", \"#FECB52\"], \"font\": {\"color\": \"#2a3f5f\"}, \"geo\": {\"bgcolor\": \"white\", \"lakecolor\": \"white\", \"landcolor\": \"#E5ECF6\", \"showlakes\": true, \"showland\": true, \"subunitcolor\": \"white\"}, \"hoverlabel\": {\"align\": \"left\"}, \"hovermode\": \"closest\", \"mapbox\": {\"style\": \"light\"}, \"paper_bgcolor\": \"white\", \"plot_bgcolor\": \"#E5ECF6\", \"polar\": {\"angularaxis\": {\"gridcolor\": \"white\", \"linecolor\": \"white\", \"ticks\": \"\"}, \"bgcolor\": \"#E5ECF6\", \"radialaxis\": {\"gridcolor\": \"white\", \"linecolor\": \"white\", \"ticks\": \"\"}}, \"scene\": {\"xaxis\": {\"backgroundcolor\": \"#E5ECF6\", \"gridcolor\": \"white\", \"gridwidth\": 2, \"linecolor\": \"white\", \"showbackground\": true, \"ticks\": \"\", \"zerolinecolor\": \"white\"}, \"yaxis\": {\"backgroundcolor\": \"#E5ECF6\", \"gridcolor\": \"white\", \"gridwidth\": 2, \"linecolor\": \"white\", \"showbackground\": true, \"ticks\": \"\", \"zerolinecolor\": \"white\"}, \"zaxis\": {\"backgroundcolor\": \"#E5ECF6\", \"gridcolor\": \"white\", \"gridwidth\": 2, \"linecolor\": \"white\", \"showbackground\": true, \"ticks\": \"\", \"zerolinecolor\": \"white\"}}, \"shapedefaults\": {\"line\": {\"color\": \"#2a3f5f\"}}, \"ternary\": {\"aaxis\": {\"gridcolor\": \"white\", \"linecolor\": \"white\", \"ticks\": \"\"}, \"baxis\": {\"gridcolor\": \"white\", \"linecolor\": \"white\", \"ticks\": \"\"}, \"bgcolor\": \"#E5ECF6\", \"caxis\": {\"gridcolor\": \"white\", \"linecolor\": \"white\", \"ticks\": \"\"}}, \"title\": {\"x\": 0.05}, \"xaxis\": {\"automargin\": true, \"gridcolor\": \"white\", \"linecolor\": \"white\", \"ticks\": \"\", \"title\": {\"standoff\": 15}, \"zerolinecolor\": \"white\", \"zerolinewidth\": 2}, \"yaxis\": {\"automargin\": true, \"gridcolor\": \"white\", \"linecolor\": \"white\", \"ticks\": \"\", \"title\": {\"standoff\": 15}, \"zerolinecolor\": \"white\", \"zerolinewidth\": 2}}}, \"xaxis\": {\"anchor\": \"y\", \"domain\": [0.0, 1.0], \"title\": {\"text\": \"label\"}}, \"yaxis\": {\"anchor\": \"x\", \"domain\": [0.0, 1.0], \"title\": {\"text\": \"count\"}}},                        {\"responsive\": true}                    ).then(function(){\n",
       "                            \n",
       "var gd = document.getElementById('f0071f55-c92a-42be-a5d7-8ca8b0a4bb01');\n",
       "var x = new MutationObserver(function (mutations, observer) {{\n",
       "        var display = window.getComputedStyle(gd).display;\n",
       "        if (!display || display === 'none') {{\n",
       "            console.log([gd, 'removed!']);\n",
       "            Plotly.purge(gd);\n",
       "            observer.disconnect();\n",
       "        }}\n",
       "}});\n",
       "\n",
       "// Listen for the removal of the full notebook cells\n",
       "var notebookContainer = gd.closest('#notebook-container');\n",
       "if (notebookContainer) {{\n",
       "    x.observe(notebookContainer, {childList: true});\n",
       "}}\n",
       "\n",
       "// Listen for the clearing of the current output cell\n",
       "var outputEl = gd.closest('.output');\n",
       "if (outputEl) {{\n",
       "    x.observe(outputEl, {childList: true});\n",
       "}}\n",
       "\n",
       "                        })                };                });            </script>        </div>"
      ]
     },
     "metadata": {},
     "output_type": "display_data"
    }
   ],
   "source": [
    "import matplotlib.pyplot as plt\n",
    "num = 20\n",
    "k=np.random.randint(len(y_train))\n",
    "images = x_train[k:(k+num)]\n",
    "labels = y_train[k:(k+num)]\n",
    "num_row = 2\n",
    "num_col = 10\n",
    "# plot images\n",
    "fig, axes = plt.subplots(num_row, num_col, figsize=(1.5*num_col,2*num_row))\n",
    "for i in range(num):\n",
    "    ax = axes[i//num_col, i%num_col]\n",
    "    ax.imshow(images[i], cmap='gray')\n",
    "    ax.set_title('Label: {}'.format(labels[i]))\n",
    "plt.tight_layout()\n",
    "plt.show()\n",
    "\n",
    "import plotly.express as px\n",
    "df = pd.DataFrame(np.array(new_data['Y']), columns=['label'])\n",
    "fig = px.histogram(df, x='label', nbins=10)\n",
    "fig.show()"
   ]
  },
  {
   "cell_type": "code",
   "execution_count": 16,
   "metadata": {
    "colab_type": "code"
   },
   "outputs": [],
   "source": [
    "from sklearn.model_selection import train_test_split\n",
    "\n",
    "x_train, x_test, y_train, y_test = train_test_split(X, Y, test_size=0.2, random_state=42)"
   ]
  },
  {
   "cell_type": "code",
   "execution_count": null,
   "metadata": {
    "colab_type": "code"
   },
   "outputs": [
    {
     "name": "stdout",
     "output_type": "stream",
     "text": [
      "\n",
      "Search: Running Trial #1\n",
      "\n",
      "Hyperparameter    |Value             |Best Value So Far \n",
      "image_block_1/b...|vanilla           |?                 \n",
      "image_block_1/n...|True              |?                 \n",
      "image_block_1/a...|False             |?                 \n",
      "image_block_1/c...|3                 |?                 \n",
      "image_block_1/c...|1                 |?                 \n",
      "image_block_1/c...|2                 |?                 \n",
      "image_block_1/c...|True              |?                 \n",
      "image_block_1/c...|False             |?                 \n",
      "image_block_1/c...|0.25              |?                 \n",
      "image_block_1/c...|32                |?                 \n",
      "image_block_1/c...|64                |?                 \n",
      "classification_...|flatten           |?                 \n",
      "classification_...|0.5               |?                 \n",
      "optimizer         |adam              |?                 \n",
      "learning_rate     |0.001             |?                 \n",
      "\n",
      "Epoch 1/1000\n",
      "25/25 [==============================] - 224s 9s/step - loss: 422.6234 - accuracy: 0.2197 - val_loss: 2512.6062 - val_accuracy: 0.0000e+00\n",
      "Epoch 2/1000\n",
      "25/25 [==============================] - 205s 8s/step - loss: 5495.5069 - accuracy: 0.1914 - val_loss: 11795.9766 - val_accuracy: 0.5610\n",
      "Epoch 3/1000\n",
      "25/25 [==============================] - 204s 8s/step - loss: 23960.4957 - accuracy: 0.3128 - val_loss: 88561.0391 - val_accuracy: 0.1890\n",
      "Epoch 4/1000\n",
      "25/25 [==============================] - 203s 8s/step - loss: 102638.6785 - accuracy: 0.1758 - val_loss: 171488.1406 - val_accuracy: 0.1829\n",
      "Epoch 5/1000\n",
      "25/25 [==============================] - 203s 8s/step - loss: 256754.5499 - accuracy: 0.2397 - val_loss: 224633.4844 - val_accuracy: 0.3720\n",
      "Epoch 6/1000\n",
      "25/25 [==============================] - 204s 8s/step - loss: 270015.6737 - accuracy: 0.2593 - val_loss: 245318.2969 - val_accuracy: 0.2744\n",
      "Epoch 7/1000\n",
      "25/25 [==============================] - 203s 8s/step - loss: 366289.2626 - accuracy: 0.2955 - val_loss: 501776.6875 - val_accuracy: 0.3720\n",
      "Epoch 8/1000\n",
      "25/25 [==============================] - 203s 8s/step - loss: 647105.3930 - accuracy: 0.3000 - val_loss: 655006.1875 - val_accuracy: 0.4451\n",
      "Epoch 9/1000\n",
      "12/25 [=============>................] - ETA: 1:40 - loss: 639782.3203 - accuracy: 0.2927"
     ]
    }
   ],
   "source": [
    "# Initialize the image classifier.\n",
    "clf = ak.ImageClassifier(overwrite=True, directory='image_classifier2', max_trials=2)\n",
    "\n",
    "# Feed the image classifier with training data. That's it!\n",
    "clf.fit(x_train, y_train)\n",
    "\n",
    "\n",
    "# Predict with the best model.\n",
    "predicted_y = clf.predict(x_test)\n",
    "print(predicted_y)\n",
    "\n",
    "\n",
    "# Evaluate the best model with testing data.\n",
    "print(clf.evaluate(x_test, y_test))"
   ]
  },
  {
   "cell_type": "code",
   "execution_count": null,
   "metadata": {
    "colab_type": "text"
   },
   "outputs": [],
   "source": [
    "# performance of the model\n",
    "display(hyper_table(path='image_classifier'))\n",
    "\n",
    "model = clf.export_model()\n",
    "model.summary()\n",
    "\n",
    "y_score_test = model.predict(x_test)\n",
    "y_score_train = model.predict(x_train)"
   ]
  },
  {
   "cell_type": "code",
   "execution_count": null,
   "metadata": {
    "colab_type": "text"
   },
   "outputs": [],
   "source": [
    "plot_pr_multi_class(y_train, y_score_train, y_test, y_score_test)"
   ]
  }
 ],
 "metadata": {
  "colab": {
   "collapsed_sections": [],
   "name": "image_classification",
   "private_outputs": false,
   "provenance": [],
   "toc_visible": true
  },
  "kernelspec": {
   "display_name": "Python 3",
   "language": "python",
   "name": "python3"
  },
  "language_info": {
   "codemirror_mode": {
    "name": "ipython",
    "version": 3
   },
   "file_extension": ".py",
   "mimetype": "text/x-python",
   "name": "python",
   "nbconvert_exporter": "python",
   "pygments_lexer": "ipython3",
   "version": "3.6.9"
  }
 },
 "nbformat": 4,
 "nbformat_minor": 4
}
