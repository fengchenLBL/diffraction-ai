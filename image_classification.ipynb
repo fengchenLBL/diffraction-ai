{
 "cells": [
  {
   "cell_type": "code",
   "execution_count": 1,
   "metadata": {
    "colab_type": "code"
   },
   "outputs": [],
   "source": [
    "#!pip3 install autokeras\n",
    "#!pip3 install matplotlib"
   ]
  },
  {
   "cell_type": "code",
   "execution_count": 2,
   "metadata": {
    "colab_type": "code"
   },
   "outputs": [],
   "source": [
    "import numpy as np\n",
    "import pandas as pd\n",
    "import tensorflow as tf\n",
    "\n",
    "import logging\n",
    "logging.getLogger('tensorflow').disabled = True\n",
    "\n",
    "from sklearn.datasets import load_files\n",
    "from tensorflow.keras.datasets import mnist\n",
    "import autokeras as ak\n",
    "\n",
    "import plotly.express as px\n",
    "import copy \n",
    "import os\n",
    "import json\n",
    "\n",
    "from mylib import plot_roc, plot_pr_curve, plot_roc_train_test, plot_pr_train_test, hyper_table, predic_error_analysis, plot_pr_multi_class"
   ]
  },
  {
   "cell_type": "code",
   "execution_count": 3,
   "metadata": {
    "colab_type": "code"
   },
   "outputs": [
    {
     "name": "stdout",
     "output_type": "stream",
     "text": [
      "Num GPUs Available:  0\n"
     ]
    }
   ],
   "source": [
    "print(\"Num GPUs Available: \", len(tf.config.list_physical_devices('GPU')))"
   ]
  },
  {
   "cell_type": "markdown",
   "metadata": {
    "colab_type": "text"
   },
   "source": [
    "## A Simple Example\n",
    "The first step is to prepare your data. Here we use the MNIST dataset as an example\n"
   ]
  },
  {
   "cell_type": "markdown",
   "metadata": {
    "colab_type": "text"
   },
   "source": [
    "The second step is to run the ImageClassifier.\n",
    "It is recommended have more trials for more complicated datasets.\n",
    "This is just a quick demo of MNIST, so we set max_trials to 1.\n",
    "For the same reason, we set epochs to 10.\n",
    "You can also leave the epochs unspecified for an adaptive number of epochs.\n"
   ]
  },
  {
   "cell_type": "code",
   "execution_count": 4,
   "metadata": {
    "colab_type": "code"
   },
   "outputs": [
    {
     "data": {
      "text/html": [
       "<div>\n",
       "<style scoped>\n",
       "    .dataframe tbody tr th:only-of-type {\n",
       "        vertical-align: middle;\n",
       "    }\n",
       "\n",
       "    .dataframe tbody tr th {\n",
       "        vertical-align: top;\n",
       "    }\n",
       "\n",
       "    .dataframe thead th {\n",
       "        text-align: right;\n",
       "    }\n",
       "</style>\n",
       "<table border=\"1\" class=\"dataframe\">\n",
       "  <thead>\n",
       "    <tr style=\"text-align: right;\">\n",
       "      <th></th>\n",
       "      <th>file</th>\n",
       "      <th>blank</th>\n",
       "      <th>ps1</th>\n",
       "      <th>ps2</th>\n",
       "      <th>multi</th>\n",
       "      <th>ice</th>\n",
       "      <th>badice</th>\n",
       "      <th>mos1</th>\n",
       "      <th>mos2</th>\n",
       "      <th>Y</th>\n",
       "    </tr>\n",
       "  </thead>\n",
       "  <tbody>\n",
       "    <tr>\n",
       "      <th>0</th>\n",
       "      <td>fake_00001.pgm</td>\n",
       "      <td>0</td>\n",
       "      <td>1</td>\n",
       "      <td>0</td>\n",
       "      <td>0</td>\n",
       "      <td>1</td>\n",
       "      <td>0</td>\n",
       "      <td>0.892528</td>\n",
       "      <td>0.000000</td>\n",
       "      <td>ps1+ice</td>\n",
       "    </tr>\n",
       "    <tr>\n",
       "      <th>1</th>\n",
       "      <td>fake_00002.pgm</td>\n",
       "      <td>0</td>\n",
       "      <td>0</td>\n",
       "      <td>1</td>\n",
       "      <td>1</td>\n",
       "      <td>0</td>\n",
       "      <td>0</td>\n",
       "      <td>0.581729</td>\n",
       "      <td>0.568217</td>\n",
       "      <td>ps2+multi</td>\n",
       "    </tr>\n",
       "    <tr>\n",
       "      <th>2</th>\n",
       "      <td>fake_00003.pgm</td>\n",
       "      <td>0</td>\n",
       "      <td>1</td>\n",
       "      <td>0</td>\n",
       "      <td>0</td>\n",
       "      <td>0</td>\n",
       "      <td>0</td>\n",
       "      <td>0.508285</td>\n",
       "      <td>0.000000</td>\n",
       "      <td>ps1</td>\n",
       "    </tr>\n",
       "    <tr>\n",
       "      <th>3</th>\n",
       "      <td>fake_00004.pgm</td>\n",
       "      <td>0</td>\n",
       "      <td>1</td>\n",
       "      <td>0</td>\n",
       "      <td>0</td>\n",
       "      <td>0</td>\n",
       "      <td>0</td>\n",
       "      <td>0.852589</td>\n",
       "      <td>0.000000</td>\n",
       "      <td>ps1</td>\n",
       "    </tr>\n",
       "    <tr>\n",
       "      <th>4</th>\n",
       "      <td>fake_00005.pgm</td>\n",
       "      <td>0</td>\n",
       "      <td>0</td>\n",
       "      <td>1</td>\n",
       "      <td>0</td>\n",
       "      <td>0</td>\n",
       "      <td>0</td>\n",
       "      <td>0.762097</td>\n",
       "      <td>0.000000</td>\n",
       "      <td>ps2</td>\n",
       "    </tr>\n",
       "    <tr>\n",
       "      <th>...</th>\n",
       "      <td>...</td>\n",
       "      <td>...</td>\n",
       "      <td>...</td>\n",
       "      <td>...</td>\n",
       "      <td>...</td>\n",
       "      <td>...</td>\n",
       "      <td>...</td>\n",
       "      <td>...</td>\n",
       "      <td>...</td>\n",
       "      <td>...</td>\n",
       "    </tr>\n",
       "    <tr>\n",
       "      <th>26573</th>\n",
       "      <td>fake_38737.pgm</td>\n",
       "      <td>0</td>\n",
       "      <td>1</td>\n",
       "      <td>0</td>\n",
       "      <td>0</td>\n",
       "      <td>0</td>\n",
       "      <td>0</td>\n",
       "      <td>0.897076</td>\n",
       "      <td>0.000000</td>\n",
       "      <td>ps1</td>\n",
       "    </tr>\n",
       "    <tr>\n",
       "      <th>26574</th>\n",
       "      <td>fake_38738.pgm</td>\n",
       "      <td>0</td>\n",
       "      <td>1</td>\n",
       "      <td>0</td>\n",
       "      <td>0</td>\n",
       "      <td>0</td>\n",
       "      <td>0</td>\n",
       "      <td>0.646006</td>\n",
       "      <td>0.000000</td>\n",
       "      <td>ps1</td>\n",
       "    </tr>\n",
       "    <tr>\n",
       "      <th>26575</th>\n",
       "      <td>fake_38740.pgm</td>\n",
       "      <td>0</td>\n",
       "      <td>1</td>\n",
       "      <td>1</td>\n",
       "      <td>1</td>\n",
       "      <td>0</td>\n",
       "      <td>0</td>\n",
       "      <td>0.529205</td>\n",
       "      <td>0.716043</td>\n",
       "      <td>ps1+ps2+multi</td>\n",
       "    </tr>\n",
       "    <tr>\n",
       "      <th>26576</th>\n",
       "      <td>fake_38741.pgm</td>\n",
       "      <td>0</td>\n",
       "      <td>1</td>\n",
       "      <td>0</td>\n",
       "      <td>0</td>\n",
       "      <td>0</td>\n",
       "      <td>0</td>\n",
       "      <td>0.752521</td>\n",
       "      <td>0.000000</td>\n",
       "      <td>ps1</td>\n",
       "    </tr>\n",
       "    <tr>\n",
       "      <th>26577</th>\n",
       "      <td>fake_38742.pgm</td>\n",
       "      <td>0</td>\n",
       "      <td>1</td>\n",
       "      <td>0</td>\n",
       "      <td>0</td>\n",
       "      <td>0</td>\n",
       "      <td>0</td>\n",
       "      <td>0.752521</td>\n",
       "      <td>0.000000</td>\n",
       "      <td>ps1</td>\n",
       "    </tr>\n",
       "  </tbody>\n",
       "</table>\n",
       "<p>26578 rows × 10 columns</p>\n",
       "</div>"
      ],
      "text/plain": [
       "                 file  blank  ps1  ps2  multi  ice  badice      mos1  \\\n",
       "0      fake_00001.pgm      0    1    0      0    1       0  0.892528   \n",
       "1      fake_00002.pgm      0    0    1      1    0       0  0.581729   \n",
       "2      fake_00003.pgm      0    1    0      0    0       0  0.508285   \n",
       "3      fake_00004.pgm      0    1    0      0    0       0  0.852589   \n",
       "4      fake_00005.pgm      0    0    1      0    0       0  0.762097   \n",
       "...               ...    ...  ...  ...    ...  ...     ...       ...   \n",
       "26573  fake_38737.pgm      0    1    0      0    0       0  0.897076   \n",
       "26574  fake_38738.pgm      0    1    0      0    0       0  0.646006   \n",
       "26575  fake_38740.pgm      0    1    1      1    0       0  0.529205   \n",
       "26576  fake_38741.pgm      0    1    0      0    0       0  0.752521   \n",
       "26577  fake_38742.pgm      0    1    0      0    0       0  0.752521   \n",
       "\n",
       "           mos2              Y  \n",
       "0      0.000000        ps1+ice  \n",
       "1      0.568217      ps2+multi  \n",
       "2      0.000000            ps1  \n",
       "3      0.000000            ps1  \n",
       "4      0.000000            ps2  \n",
       "...         ...            ...  \n",
       "26573  0.000000            ps1  \n",
       "26574  0.000000            ps1  \n",
       "26575  0.716043  ps1+ps2+multi  \n",
       "26576  0.000000            ps1  \n",
       "26577  0.000000            ps1  \n",
       "\n",
       "[26578 rows x 10 columns]"
      ]
     },
     "execution_count": 4,
     "metadata": {},
     "output_type": "execute_result"
    }
   ],
   "source": [
    "data = pd.read_csv('new_multiclasses.csv')\n",
    "data"
   ]
  },
  {
   "cell_type": "code",
   "execution_count": 5,
   "metadata": {
    "colab_type": "code"
   },
   "outputs": [
    {
     "data": {
      "text/plain": [
       "{'ps1': 9611,\n",
       " 'ps1+ps2+multi': 5142,\n",
       " 'ps2+multi': 2558,\n",
       " 'ps1+multi': 2550,\n",
       " 'ps1+ice': 1624,\n",
       " 'ps2+ice': 1612,\n",
       " 'ps2': 1589,\n",
       " 'ps1+ps2+multi+ice': 869,\n",
       " 'ps2+multi+ice': 420,\n",
       " 'ps1+multi+ice': 397,\n",
       " 'blank': 77,\n",
       " 'ps1+ps2': 75,\n",
       " 'ps1+ps2+ice': 26,\n",
       " 'ps2+ice+badice': 13,\n",
       " 'ps1+ice+badice': 7,\n",
       " 'ps2+multi+ice+badice': 4,\n",
       " 'ps1+multi+ice+badice': 2,\n",
       " 'ps1+ps2+multi+ice+badice': 2}"
      ]
     },
     "execution_count": 5,
     "metadata": {},
     "output_type": "execute_result"
    }
   ],
   "source": [
    "lable_count = dict(data['Y'].value_counts())\n",
    "lable_count"
   ]
  },
  {
   "cell_type": "code",
   "execution_count": 6,
   "metadata": {
    "colab_type": "code"
   },
   "outputs": [
    {
     "data": {
      "text/html": [
       "<div>\n",
       "<style scoped>\n",
       "    .dataframe tbody tr th:only-of-type {\n",
       "        vertical-align: middle;\n",
       "    }\n",
       "\n",
       "    .dataframe tbody tr th {\n",
       "        vertical-align: top;\n",
       "    }\n",
       "\n",
       "    .dataframe thead th {\n",
       "        text-align: right;\n",
       "    }\n",
       "</style>\n",
       "<table border=\"1\" class=\"dataframe\">\n",
       "  <thead>\n",
       "    <tr style=\"text-align: right;\">\n",
       "      <th></th>\n",
       "      <th>file</th>\n",
       "      <th>blank</th>\n",
       "      <th>ps1</th>\n",
       "      <th>ps2</th>\n",
       "      <th>multi</th>\n",
       "      <th>ice</th>\n",
       "      <th>badice</th>\n",
       "      <th>mos1</th>\n",
       "      <th>mos2</th>\n",
       "      <th>Y</th>\n",
       "    </tr>\n",
       "  </thead>\n",
       "  <tbody>\n",
       "    <tr>\n",
       "      <th>435</th>\n",
       "      <td>fake_00460.pgm</td>\n",
       "      <td>1</td>\n",
       "      <td>0</td>\n",
       "      <td>0</td>\n",
       "      <td>0</td>\n",
       "      <td>0</td>\n",
       "      <td>0</td>\n",
       "      <td>0.000000</td>\n",
       "      <td>0.000000</td>\n",
       "      <td>blank</td>\n",
       "    </tr>\n",
       "    <tr>\n",
       "      <th>455</th>\n",
       "      <td>fake_00482.pgm</td>\n",
       "      <td>1</td>\n",
       "      <td>0</td>\n",
       "      <td>0</td>\n",
       "      <td>0</td>\n",
       "      <td>0</td>\n",
       "      <td>0</td>\n",
       "      <td>0.000000</td>\n",
       "      <td>0.000000</td>\n",
       "      <td>blank</td>\n",
       "    </tr>\n",
       "    <tr>\n",
       "      <th>471</th>\n",
       "      <td>fake_00499.pgm</td>\n",
       "      <td>1</td>\n",
       "      <td>0</td>\n",
       "      <td>0</td>\n",
       "      <td>0</td>\n",
       "      <td>0</td>\n",
       "      <td>0</td>\n",
       "      <td>0.000000</td>\n",
       "      <td>0.000000</td>\n",
       "      <td>blank</td>\n",
       "    </tr>\n",
       "    <tr>\n",
       "      <th>2195</th>\n",
       "      <td>fake_02901.pgm</td>\n",
       "      <td>1</td>\n",
       "      <td>0</td>\n",
       "      <td>0</td>\n",
       "      <td>0</td>\n",
       "      <td>0</td>\n",
       "      <td>0</td>\n",
       "      <td>0.000000</td>\n",
       "      <td>0.000000</td>\n",
       "      <td>blank</td>\n",
       "    </tr>\n",
       "    <tr>\n",
       "      <th>2284</th>\n",
       "      <td>fake_03040.pgm</td>\n",
       "      <td>1</td>\n",
       "      <td>0</td>\n",
       "      <td>0</td>\n",
       "      <td>0</td>\n",
       "      <td>0</td>\n",
       "      <td>0</td>\n",
       "      <td>0.000000</td>\n",
       "      <td>0.000000</td>\n",
       "      <td>blank</td>\n",
       "    </tr>\n",
       "    <tr>\n",
       "      <th>...</th>\n",
       "      <td>...</td>\n",
       "      <td>...</td>\n",
       "      <td>...</td>\n",
       "      <td>...</td>\n",
       "      <td>...</td>\n",
       "      <td>...</td>\n",
       "      <td>...</td>\n",
       "      <td>...</td>\n",
       "      <td>...</td>\n",
       "      <td>...</td>\n",
       "    </tr>\n",
       "    <tr>\n",
       "      <th>6019</th>\n",
       "      <td>fake_08555.pgm</td>\n",
       "      <td>0</td>\n",
       "      <td>0</td>\n",
       "      <td>1</td>\n",
       "      <td>1</td>\n",
       "      <td>1</td>\n",
       "      <td>0</td>\n",
       "      <td>0.850695</td>\n",
       "      <td>0.815657</td>\n",
       "      <td>ps2+multi+ice</td>\n",
       "    </tr>\n",
       "    <tr>\n",
       "      <th>13</th>\n",
       "      <td>fake_00014.pgm</td>\n",
       "      <td>0</td>\n",
       "      <td>0</td>\n",
       "      <td>1</td>\n",
       "      <td>1</td>\n",
       "      <td>1</td>\n",
       "      <td>1</td>\n",
       "      <td>0.516343</td>\n",
       "      <td>0.681703</td>\n",
       "      <td>ps2+multi+ice+badice</td>\n",
       "    </tr>\n",
       "    <tr>\n",
       "      <th>46</th>\n",
       "      <td>fake_00047.pgm</td>\n",
       "      <td>0</td>\n",
       "      <td>0</td>\n",
       "      <td>1</td>\n",
       "      <td>1</td>\n",
       "      <td>1</td>\n",
       "      <td>1</td>\n",
       "      <td>0.822762</td>\n",
       "      <td>0.710859</td>\n",
       "      <td>ps2+multi+ice+badice</td>\n",
       "    </tr>\n",
       "    <tr>\n",
       "      <th>114</th>\n",
       "      <td>fake_00115.pgm</td>\n",
       "      <td>0</td>\n",
       "      <td>0</td>\n",
       "      <td>1</td>\n",
       "      <td>1</td>\n",
       "      <td>1</td>\n",
       "      <td>1</td>\n",
       "      <td>0.603269</td>\n",
       "      <td>0.832699</td>\n",
       "      <td>ps2+multi+ice+badice</td>\n",
       "    </tr>\n",
       "    <tr>\n",
       "      <th>215</th>\n",
       "      <td>fake_00216.pgm</td>\n",
       "      <td>0</td>\n",
       "      <td>0</td>\n",
       "      <td>1</td>\n",
       "      <td>1</td>\n",
       "      <td>1</td>\n",
       "      <td>1</td>\n",
       "      <td>0.639486</td>\n",
       "      <td>0.787645</td>\n",
       "      <td>ps2+multi+ice+badice</td>\n",
       "    </tr>\n",
       "  </tbody>\n",
       "</table>\n",
       "<p>1206 rows × 10 columns</p>\n",
       "</div>"
      ],
      "text/plain": [
       "                file  blank  ps1  ps2  multi  ice  badice      mos1      mos2  \\\n",
       "435   fake_00460.pgm      1    0    0      0    0       0  0.000000  0.000000   \n",
       "455   fake_00482.pgm      1    0    0      0    0       0  0.000000  0.000000   \n",
       "471   fake_00499.pgm      1    0    0      0    0       0  0.000000  0.000000   \n",
       "2195  fake_02901.pgm      1    0    0      0    0       0  0.000000  0.000000   \n",
       "2284  fake_03040.pgm      1    0    0      0    0       0  0.000000  0.000000   \n",
       "...              ...    ...  ...  ...    ...  ...     ...       ...       ...   \n",
       "6019  fake_08555.pgm      0    0    1      1    1       0  0.850695  0.815657   \n",
       "13    fake_00014.pgm      0    0    1      1    1       1  0.516343  0.681703   \n",
       "46    fake_00047.pgm      0    0    1      1    1       1  0.822762  0.710859   \n",
       "114   fake_00115.pgm      0    0    1      1    1       1  0.603269  0.832699   \n",
       "215   fake_00216.pgm      0    0    1      1    1       1  0.639486  0.787645   \n",
       "\n",
       "                         Y  \n",
       "435                  blank  \n",
       "455                  blank  \n",
       "471                  blank  \n",
       "2195                 blank  \n",
       "2284                 blank  \n",
       "...                    ...  \n",
       "6019         ps2+multi+ice  \n",
       "13    ps2+multi+ice+badice  \n",
       "46    ps2+multi+ice+badice  \n",
       "114   ps2+multi+ice+badice  \n",
       "215   ps2+multi+ice+badice  \n",
       "\n",
       "[1206 rows x 10 columns]"
      ]
     },
     "execution_count": 6,
     "metadata": {},
     "output_type": "execute_result"
    }
   ],
   "source": [
    "new_data = pd.concat([data[data['Y']==y][:100] if lable_count[y]>100 else data[data['Y']==y] for y in np.unique(data['Y'])])\n",
    "new_data"
   ]
  },
  {
   "cell_type": "code",
   "execution_count": 7,
   "metadata": {
    "colab_type": "code"
   },
   "outputs": [
    {
     "name": "stdout",
     "output_type": "stream",
     "text": [
      "0\n"
     ]
    }
   ],
   "source": [
    "imgs = []\n",
    "imgs_arr = []\n",
    "imgs_drop = []\n",
    "for f in new_data['file']:\n",
    "    f = f.replace('pgm','png')\n",
    "    try:\n",
    "        image = tf.keras.preprocessing.image.load_img(\"./training_data/{}\".format(f), color_mode='grayscale') \n",
    "        image_array = tf.keras.preprocessing.image.img_to_array(image)\n",
    "        imgs.append(image)\n",
    "        imgs_arr.append(image_array)\n",
    "    except:\n",
    "        imgs_drop.append(f)\n",
    "print(len(imgs_drop))"
   ]
  },
  {
   "cell_type": "code",
   "execution_count": 10,
   "metadata": {
    "colab_type": "code"
   },
   "outputs": [
    {
     "name": "stdout",
     "output_type": "stream",
     "text": [
      "<class 'numpy.ndarray'>\n",
      "(1206, 512, 512, 1)\n",
      "(1206, 512, 512)\n",
      "(1206,)\n"
     ]
    }
   ],
   "source": [
    "input_arr = np.array(imgs_arr)  # Convert single image to a batch.\n",
    "print(type(input_arr))\n",
    "print(input_arr.shape)\n",
    "x_train = np.squeeze(input_arr)\n",
    "print(x_train.shape)\n",
    "y_train = np.array(new_data['Y'])\n",
    "print(y_train.shape)\n",
    "X = x_train\n",
    "Y = y_train"
   ]
  },
  {
   "cell_type": "code",
   "execution_count": 11,
   "metadata": {
    "colab_type": "code"
   },
   "outputs": [
    {
     "data": {
      "image/png": "[encoded data removed]",
      "text/plain": [
       "<Figure size 1080x288 with 20 Axes>"
      ]
     },
     "metadata": {
      "needs_background": "light"
     },
     "output_type": "display_data"
    },
    {
     "data": {
      "application/vnd.plotly.v1+json": {
       "config": {
        "plotlyServerURL": "https://plot.ly"
       },
       "data": [
        {
         "alignmentgroup": "True",
         "bingroup": "x",
         "hovertemplate": "label=%{x}<br>count=%{y}<extra></extra>",
         "legendgroup": "",
         "marker": {
          "color": "#636efa"
         },
         "name": "",
         "nbinsx": 10,
         "offsetgroup": "",
         "orientation": "v",
         "showlegend": false,
         "type": "histogram",
         "x": [
          "blank",
          "blank",
          "blank",
          "blank",
          "blank",
          "blank",
          "blank",
          "blank",
          "blank",
          "blank",
          "blank",
          "blank",
          "blank",
          "blank",
          "blank",
          "blank",
          "blank",
          "blank",
          "blank",
          "blank",
          "blank",
          "blank",
          "blank",
          "blank",
          "blank",
          "blank",
          "blank",
          "blank",
          "blank",
          "blank",
          "blank",
          "blank",
          "blank",
          "blank",
          "blank",
          "blank",
          "blank",
          "blank",
          "blank",
          "blank",
          "blank",
          "blank",
          "blank",
          "blank",
          "blank",
          "blank",
          "blank",
          "blank",
          "blank",
          "blank",
          "blank",
          "blank",
          "blank",
          "blank",
          "blank",
          "blank",
          "blank",
          "blank",
          "blank",
          "blank",
          "blank",
          "blank",
          "blank",
          "blank",
          "blank",
          "blank",
          "blank",
          "blank",
          "blank",
          "blank",
          "blank",
          "blank",
          "blank",
          "blank",
          "blank",
          "blank",
          "blank",
          "ps1",
          "ps1",
          "ps1",
          "ps1",
          "ps1",
          "ps1",
          "ps1",
          "ps1",
          "ps1",
          "ps1",
          "ps1",
          "ps1",
          "ps1",
          "ps1",
          "ps1",
          "ps1",
          "ps1",
          "ps1",
          "ps1",
          "ps1",
          "ps1",
          "ps1",
          "ps1",
          "ps1",
          "ps1",
          "ps1",
          "ps1",
          "ps1",
          "ps1",
          "ps1",
          "ps1",
          "ps1",
          "ps1",
          "ps1",
          "ps1",
          "ps1",
          "ps1",
          "ps1",
          "ps1",
          "ps1",
          "ps1",
          "ps1",
          "ps1",
          "ps1",
          "ps1",
          "ps1",
          "ps1",
          "ps1",
          "ps1",
          "ps1",
          "ps1",
          "ps1",
          "ps1",
          "ps1",
          "ps1",
          "ps1",
          "ps1",
          "ps1",
          "ps1",
          "ps1",
          "ps1",
          "ps1",
          "ps1",
          "ps1",
          "ps1",
          "ps1",
          "ps1",
          "ps1",
          "ps1",
          "ps1",
          "ps1",
          "ps1",
          "ps1",
          "ps1",
          "ps1",
          "ps1",
          "ps1",
          "ps1",
          "ps1",
          "ps1",
          "ps1",
          "ps1",
          "ps1",
          "ps1",
          "ps1",
          "ps1",
          "ps1",
          "ps1",
          "ps1",
          "ps1",
          "ps1",
          "ps1",
          "ps1",
          "ps1",
          "ps1",
          "ps1",
          "ps1",
          "ps1",
          "ps1",
          "ps1",
          "ps1+ice",
          "ps1+ice",
          "ps1+ice",
          "ps1+ice",
          "ps1+ice",
          "ps1+ice",
          "ps1+ice",
          "ps1+ice",
          "ps1+ice",
          "ps1+ice",
          "ps1+ice",
          "ps1+ice",
          "ps1+ice",
          "ps1+ice",
          "ps1+ice",
          "ps1+ice",
          "ps1+ice",
          "ps1+ice",
          "ps1+ice",
          "ps1+ice",
          "ps1+ice",
          "ps1+ice",
          "ps1+ice",
          "ps1+ice",
          "ps1+ice",
          "ps1+ice",
          "ps1+ice",
          "ps1+ice",
          "ps1+ice",
          "ps1+ice",
          "ps1+ice",
          "ps1+ice",
          "ps1+ice",
          "ps1+ice",
          "ps1+ice",
          "ps1+ice",
          "ps1+ice",
          "ps1+ice",
          "ps1+ice",
          "ps1+ice",
          "ps1+ice",
          "ps1+ice",
          "ps1+ice",
          "ps1+ice",
          "ps1+ice",
          "ps1+ice",
          "ps1+ice",
          "ps1+ice",
          "ps1+ice",
          "ps1+ice",
          "ps1+ice",
          "ps1+ice",
          "ps1+ice",
          "ps1+ice",
          "ps1+ice",
          "ps1+ice",
          "ps1+ice",
          "ps1+ice",
          "ps1+ice",
          "ps1+ice",
          "ps1+ice",
          "ps1+ice",
          "ps1+ice",
          "ps1+ice",
          "ps1+ice",
          "ps1+ice",
          "ps1+ice",
          "ps1+ice",
          "ps1+ice",
          "ps1+ice",
          "ps1+ice",
          "ps1+ice",
          "ps1+ice",
          "ps1+ice",
          "ps1+ice",
          "ps1+ice",
          "ps1+ice",
          "ps1+ice",
          "ps1+ice",
          "ps1+ice",
          "ps1+ice",
          "ps1+ice",
          "ps1+ice",
          "ps1+ice",
          "ps1+ice",
          "ps1+ice",
          "ps1+ice",
          "ps1+ice",
          "ps1+ice",
          "ps1+ice",
          "ps1+ice",
          "ps1+ice",
          "ps1+ice",
          "ps1+ice",
          "ps1+ice",
          "ps1+ice",
          "ps1+ice",
          "ps1+ice",
          "ps1+ice",
          "ps1+ice",
          "ps1+ice+badice",
          "ps1+ice+badice",
          "ps1+ice+badice",
          "ps1+ice+badice",
          "ps1+ice+badice",
          "ps1+ice+badice",
          "ps1+ice+badice",
          "ps1+multi",
          "ps1+multi",
          "ps1+multi",
          "ps1+multi",
          "ps1+multi",
          "ps1+multi",
          "ps1+multi",
          "ps1+multi",
          "ps1+multi",
          "ps1+multi",
          "ps1+multi",
          "ps1+multi",
          "ps1+multi",
          "ps1+multi",
          "ps1+multi",
          "ps1+multi",
          "ps1+multi",
          "ps1+multi",
          "ps1+multi",
          "ps1+multi",
          "ps1+multi",
          "ps1+multi",
          "ps1+multi",
          "ps1+multi",
          "ps1+multi",
          "ps1+multi",
          "ps1+multi",
          "ps1+multi",
          "ps1+multi",
          "ps1+multi",
          "ps1+multi",
          "ps1+multi",
          "ps1+multi",
          "ps1+multi",
          "ps1+multi",
          "ps1+multi",
          "ps1+multi",
          "ps1+multi",
          "ps1+multi",
          "ps1+multi",
          "ps1+multi",
          "ps1+multi",
          "ps1+multi",
          "ps1+multi",
          "ps1+multi",
          "ps1+multi",
          "ps1+multi",
          "ps1+multi",
          "ps1+multi",
          "ps1+multi",
          "ps1+multi",
          "ps1+multi",
          "ps1+multi",
          "ps1+multi",
          "ps1+multi",
          "ps1+multi",
          "ps1+multi",
          "ps1+multi",
          "ps1+multi",
          "ps1+multi",
          "ps1+multi",
          "ps1+multi",
          "ps1+multi",
          "ps1+multi",
          "ps1+multi",
          "ps1+multi",
          "ps1+multi",
          "ps1+multi",
          "ps1+multi",
          "ps1+multi",
          "ps1+multi",
          "ps1+multi",
          "ps1+multi",
          "ps1+multi",
          "ps1+multi",
          "ps1+multi",
          "ps1+multi",
          "ps1+multi",
          "ps1+multi",
          "ps1+multi",
          "ps1+multi",
          "ps1+multi",
          "ps1+multi",
          "ps1+multi",
          "ps1+multi",
          "ps1+multi",
          "ps1+multi",
          "ps1+multi",
          "ps1+multi",
          "ps1+multi",
          "ps1+multi",
          "ps1+multi",
          "ps1+multi",
          "ps1+multi",
          "ps1+multi",
          "ps1+multi",
          "ps1+multi",
          "ps1+multi",
          "ps1+multi",
          "ps1+multi",
          "ps1+multi+ice",
          "ps1+multi+ice",
          "ps1+multi+ice",
          "ps1+multi+ice",
          "ps1+multi+ice",
          "ps1+multi+ice",
          "ps1+multi+ice",
          "ps1+multi+ice",
          "ps1+multi+ice",
          "ps1+multi+ice",
          "ps1+multi+ice",
          "ps1+multi+ice",
          "ps1+multi+ice",
          "ps1+multi+ice",
          "ps1+multi+ice",
          "ps1+multi+ice",
          "ps1+multi+ice",
          "ps1+multi+ice",
          "ps1+multi+ice",
          "ps1+multi+ice",
          "ps1+multi+ice",
          "ps1+multi+ice",
          "ps1+multi+ice",
          "ps1+multi+ice",
          "ps1+multi+ice",
          "ps1+multi+ice",
          "ps1+multi+ice",
          "ps1+multi+ice",
          "ps1+multi+ice",
          "ps1+multi+ice",
          "ps1+multi+ice",
          "ps1+multi+ice",
          "ps1+multi+ice",
          "ps1+multi+ice",
          "ps1+multi+ice",
          "ps1+multi+ice",
          "ps1+multi+ice",
          "ps1+multi+ice",
          "ps1+multi+ice",
          "ps1+multi+ice",
          "ps1+multi+ice",
          "ps1+multi+ice",
          "ps1+multi+ice",
          "ps1+multi+ice",
          "ps1+multi+ice",
          "ps1+multi+ice",
          "ps1+multi+ice",
          "ps1+multi+ice",
          "ps1+multi+ice",
          "ps1+multi+ice",
          "ps1+multi+ice",
          "ps1+multi+ice",
          "ps1+multi+ice",
          "ps1+multi+ice",
          "ps1+multi+ice",
          "ps1+multi+ice",
          "ps1+multi+ice",
          "ps1+multi+ice",
          "ps1+multi+ice",
          "ps1+multi+ice",
          "ps1+multi+ice",
          "ps1+multi+ice",
          "ps1+multi+ice",
          "ps1+multi+ice",
          "ps1+multi+ice",
          "ps1+multi+ice",
          "ps1+multi+ice",
          "ps1+multi+ice",
          "ps1+multi+ice",
          "ps1+multi+ice",
          "ps1+multi+ice",
          "ps1+multi+ice",
          "ps1+multi+ice",
          "ps1+multi+ice",
          "ps1+multi+ice",
          "ps1+multi+ice",
          "ps1+multi+ice",
          "ps1+multi+ice",
          "ps1+multi+ice",
          "ps1+multi+ice",
          "ps1+multi+ice",
          "ps1+multi+ice",
          "ps1+multi+ice",
          "ps1+multi+ice",
          "ps1+multi+ice",
          "ps1+multi+ice",
          "ps1+multi+ice",
          "ps1+multi+ice",
          "ps1+multi+ice",
          "ps1+multi+ice",
          "ps1+multi+ice",
          "ps1+multi+ice",
          "ps1+multi+ice",
          "ps1+multi+ice",
          "ps1+multi+ice",
          "ps1+multi+ice",
          "ps1+multi+ice",
          "ps1+multi+ice",
          "ps1+multi+ice",
          "ps1+multi+ice",
          "ps1+multi+ice+badice",
          "ps1+multi+ice+badice",
          "ps1+ps2",
          "ps1+ps2",
          "ps1+ps2",
          "ps1+ps2",
          "ps1+ps2",
          "ps1+ps2",
          "ps1+ps2",
          "ps1+ps2",
          "ps1+ps2",
          "ps1+ps2",
          "ps1+ps2",
          "ps1+ps2",
          "ps1+ps2",
          "ps1+ps2",
          "ps1+ps2",
          "ps1+ps2",
          "ps1+ps2",
          "ps1+ps2",
          "ps1+ps2",
          "ps1+ps2",
          "ps1+ps2",
          "ps1+ps2",
          "ps1+ps2",
          "ps1+ps2",
          "ps1+ps2",
          "ps1+ps2",
          "ps1+ps2",
          "ps1+ps2",
          "ps1+ps2",
          "ps1+ps2",
          "ps1+ps2",
          "ps1+ps2",
          "ps1+ps2",
          "ps1+ps2",
          "ps1+ps2",
          "ps1+ps2",
          "ps1+ps2",
          "ps1+ps2",
          "ps1+ps2",
          "ps1+ps2",
          "ps1+ps2",
          "ps1+ps2",
          "ps1+ps2",
          "ps1+ps2",
          "ps1+ps2",
          "ps1+ps2",
          "ps1+ps2",
          "ps1+ps2",
          "ps1+ps2",
          "ps1+ps2",
          "ps1+ps2",
          "ps1+ps2",
          "ps1+ps2",
          "ps1+ps2",
          "ps1+ps2",
          "ps1+ps2",
          "ps1+ps2",
          "ps1+ps2",
          "ps1+ps2",
          "ps1+ps2",
          "ps1+ps2",
          "ps1+ps2",
          "ps1+ps2",
          "ps1+ps2",
          "ps1+ps2",
          "ps1+ps2",
          "ps1+ps2",
          "ps1+ps2",
          "ps1+ps2",
          "ps1+ps2",
          "ps1+ps2",
          "ps1+ps2",
          "ps1+ps2",
          "ps1+ps2",
          "ps1+ps2",
          "ps1+ps2+ice",
          "ps1+ps2+ice",
          "ps1+ps2+ice",
          "ps1+ps2+ice",
          "ps1+ps2+ice",
          "ps1+ps2+ice",
          "ps1+ps2+ice",
          "ps1+ps2+ice",
          "ps1+ps2+ice",
          "ps1+ps2+ice",
          "ps1+ps2+ice",
          "ps1+ps2+ice",
          "ps1+ps2+ice",
          "ps1+ps2+ice",
          "ps1+ps2+ice",
          "ps1+ps2+ice",
          "ps1+ps2+ice",
          "ps1+ps2+ice",
          "ps1+ps2+ice",
          "ps1+ps2+ice",
          "ps1+ps2+ice",
          "ps1+ps2+ice",
          "ps1+ps2+ice",
          "ps1+ps2+ice",
          "ps1+ps2+ice",
          "ps1+ps2+ice",
          "ps1+ps2+multi",
          "ps1+ps2+multi",
          "ps1+ps2+multi",
          "ps1+ps2+multi",
          "ps1+ps2+multi",
          "ps1+ps2+multi",
          "ps1+ps2+multi",
          "ps1+ps2+multi",
          "ps1+ps2+multi",
          "ps1+ps2+multi",
          "ps1+ps2+multi",
          "ps1+ps2+multi",
          "ps1+ps2+multi",
          "ps1+ps2+multi",
          "ps1+ps2+multi",
          "ps1+ps2+multi",
          "ps1+ps2+multi",
          "ps1+ps2+multi",
          "ps1+ps2+multi",
          "ps1+ps2+multi",
          "ps1+ps2+multi",
          "ps1+ps2+multi",
          "ps1+ps2+multi",
          "ps1+ps2+multi",
          "ps1+ps2+multi",
          "ps1+ps2+multi",
          "ps1+ps2+multi",
          "ps1+ps2+multi",
          "ps1+ps2+multi",
          "ps1+ps2+multi",
          "ps1+ps2+multi",
          "ps1+ps2+multi",
          "ps1+ps2+multi",
          "ps1+ps2+multi",
          "ps1+ps2+multi",
          "ps1+ps2+multi",
          "ps1+ps2+multi",
          "ps1+ps2+multi",
          "ps1+ps2+multi",
          "ps1+ps2+multi",
          "ps1+ps2+multi",
          "ps1+ps2+multi",
          "ps1+ps2+multi",
          "ps1+ps2+multi",
          "ps1+ps2+multi",
          "ps1+ps2+multi",
          "ps1+ps2+multi",
          "ps1+ps2+multi",
          "ps1+ps2+multi",
          "ps1+ps2+multi",
          "ps1+ps2+multi",
          "ps1+ps2+multi",
          "ps1+ps2+multi",
          "ps1+ps2+multi",
          "ps1+ps2+multi",
          "ps1+ps2+multi",
          "ps1+ps2+multi",
          "ps1+ps2+multi",
          "ps1+ps2+multi",
          "ps1+ps2+multi",
          "ps1+ps2+multi",
          "ps1+ps2+multi",
          "ps1+ps2+multi",
          "ps1+ps2+multi",
          "ps1+ps2+multi",
          "ps1+ps2+multi",
          "ps1+ps2+multi",
          "ps1+ps2+multi",
          "ps1+ps2+multi",
          "ps1+ps2+multi",
          "ps1+ps2+multi",
          "ps1+ps2+multi",
          "ps1+ps2+multi",
          "ps1+ps2+multi",
          "ps1+ps2+multi",
          "ps1+ps2+multi",
          "ps1+ps2+multi",
          "ps1+ps2+multi",
          "ps1+ps2+multi",
          "ps1+ps2+multi",
          "ps1+ps2+multi",
          "ps1+ps2+multi",
          "ps1+ps2+multi",
          "ps1+ps2+multi",
          "ps1+ps2+multi",
          "ps1+ps2+multi",
          "ps1+ps2+multi",
          "ps1+ps2+multi",
          "ps1+ps2+multi",
          "ps1+ps2+multi",
          "ps1+ps2+multi",
          "ps1+ps2+multi",
          "ps1+ps2+multi",
          "ps1+ps2+multi",
          "ps1+ps2+multi",
          "ps1+ps2+multi",
          "ps1+ps2+multi",
          "ps1+ps2+multi",
          "ps1+ps2+multi",
          "ps1+ps2+multi",
          "ps1+ps2+multi+ice",
          "ps1+ps2+multi+ice",
          "ps1+ps2+multi+ice",
          "ps1+ps2+multi+ice",
          "ps1+ps2+multi+ice",
          "ps1+ps2+multi+ice",
          "ps1+ps2+multi+ice",
          "ps1+ps2+multi+ice",
          "ps1+ps2+multi+ice",
          "ps1+ps2+multi+ice",
          "ps1+ps2+multi+ice",
          "ps1+ps2+multi+ice",
          "ps1+ps2+multi+ice",
          "ps1+ps2+multi+ice",
          "ps1+ps2+multi+ice",
          "ps1+ps2+multi+ice",
          "ps1+ps2+multi+ice",
          "ps1+ps2+multi+ice",
          "ps1+ps2+multi+ice",
          "ps1+ps2+multi+ice",
          "ps1+ps2+multi+ice",
          "ps1+ps2+multi+ice",
          "ps1+ps2+multi+ice",
          "ps1+ps2+multi+ice",
          "ps1+ps2+multi+ice",
          "ps1+ps2+multi+ice",
          "ps1+ps2+multi+ice",
          "ps1+ps2+multi+ice",
          "ps1+ps2+multi+ice",
          "ps1+ps2+multi+ice",
          "ps1+ps2+multi+ice",
          "ps1+ps2+multi+ice",
          "ps1+ps2+multi+ice",
          "ps1+ps2+multi+ice",
          "ps1+ps2+multi+ice",
          "ps1+ps2+multi+ice",
          "ps1+ps2+multi+ice",
          "ps1+ps2+multi+ice",
          "ps1+ps2+multi+ice",
          "ps1+ps2+multi+ice",
          "ps1+ps2+multi+ice",
          "ps1+ps2+multi+ice",
          "ps1+ps2+multi+ice",
          "ps1+ps2+multi+ice",
          "ps1+ps2+multi+ice",
          "ps1+ps2+multi+ice",
          "ps1+ps2+multi+ice",
          "ps1+ps2+multi+ice",
          "ps1+ps2+multi+ice",
          "ps1+ps2+multi+ice",
          "ps1+ps2+multi+ice",
          "ps1+ps2+multi+ice",
          "ps1+ps2+multi+ice",
          "ps1+ps2+multi+ice",
          "ps1+ps2+multi+ice",
          "ps1+ps2+multi+ice",
          "ps1+ps2+multi+ice",
          "ps1+ps2+multi+ice",
          "ps1+ps2+multi+ice",
          "ps1+ps2+multi+ice",
          "ps1+ps2+multi+ice",
          "ps1+ps2+multi+ice",
          "ps1+ps2+multi+ice",
          "ps1+ps2+multi+ice",
          "ps1+ps2+multi+ice",
          "ps1+ps2+multi+ice",
          "ps1+ps2+multi+ice",
          "ps1+ps2+multi+ice",
          "ps1+ps2+multi+ice",
          "ps1+ps2+multi+ice",
          "ps1+ps2+multi+ice",
          "ps1+ps2+multi+ice",
          "ps1+ps2+multi+ice",
          "ps1+ps2+multi+ice",
          "ps1+ps2+multi+ice",
          "ps1+ps2+multi+ice",
          "ps1+ps2+multi+ice",
          "ps1+ps2+multi+ice",
          "ps1+ps2+multi+ice",
          "ps1+ps2+multi+ice",
          "ps1+ps2+multi+ice",
          "ps1+ps2+multi+ice",
          "ps1+ps2+multi+ice",
          "ps1+ps2+multi+ice",
          "ps1+ps2+multi+ice",
          "ps1+ps2+multi+ice",
          "ps1+ps2+multi+ice",
          "ps1+ps2+multi+ice",
          "ps1+ps2+multi+ice",
          "ps1+ps2+multi+ice",
          "ps1+ps2+multi+ice",
          "ps1+ps2+multi+ice",
          "ps1+ps2+multi+ice",
          "ps1+ps2+multi+ice",
          "ps1+ps2+multi+ice",
          "ps1+ps2+multi+ice",
          "ps1+ps2+multi+ice",
          "ps1+ps2+multi+ice",
          "ps1+ps2+multi+ice",
          "ps1+ps2+multi+ice",
          "ps1+ps2+multi+ice+badice",
          "ps1+ps2+multi+ice+badice",
          "ps2",
          "ps2",
          "ps2",
          "ps2",
          "ps2",
          "ps2",
          "ps2",
          "ps2",
          "ps2",
          "ps2",
          "ps2",
          "ps2",
          "ps2",
          "ps2",
          "ps2",
          "ps2",
          "ps2",
          "ps2",
          "ps2",
          "ps2",
          "ps2",
          "ps2",
          "ps2",
          "ps2",
          "ps2",
          "ps2",
          "ps2",
          "ps2",
          "ps2",
          "ps2",
          "ps2",
          "ps2",
          "ps2",
          "ps2",
          "ps2",
          "ps2",
          "ps2",
          "ps2",
          "ps2",
          "ps2",
          "ps2",
          "ps2",
          "ps2",
          "ps2",
          "ps2",
          "ps2",
          "ps2",
          "ps2",
          "ps2",
          "ps2",
          "ps2",
          "ps2",
          "ps2",
          "ps2",
          "ps2",
          "ps2",
          "ps2",
          "ps2",
          "ps2",
          "ps2",
          "ps2",
          "ps2",
          "ps2",
          "ps2",
          "ps2",
          "ps2",
          "ps2",
          "ps2",
          "ps2",
          "ps2",
          "ps2",
          "ps2",
          "ps2",
          "ps2",
          "ps2",
          "ps2",
          "ps2",
          "ps2",
          "ps2",
          "ps2",
          "ps2",
          "ps2",
          "ps2",
          "ps2",
          "ps2",
          "ps2",
          "ps2",
          "ps2",
          "ps2",
          "ps2",
          "ps2",
          "ps2",
          "ps2",
          "ps2",
          "ps2",
          "ps2",
          "ps2",
          "ps2",
          "ps2",
          "ps2",
          "ps2+ice",
          "ps2+ice",
          "ps2+ice",
          "ps2+ice",
          "ps2+ice",
          "ps2+ice",
          "ps2+ice",
          "ps2+ice",
          "ps2+ice",
          "ps2+ice",
          "ps2+ice",
          "ps2+ice",
          "ps2+ice",
          "ps2+ice",
          "ps2+ice",
          "ps2+ice",
          "ps2+ice",
          "ps2+ice",
          "ps2+ice",
          "ps2+ice",
          "ps2+ice",
          "ps2+ice",
          "ps2+ice",
          "ps2+ice",
          "ps2+ice",
          "ps2+ice",
          "ps2+ice",
          "ps2+ice",
          "ps2+ice",
          "ps2+ice",
          "ps2+ice",
          "ps2+ice",
          "ps2+ice",
          "ps2+ice",
          "ps2+ice",
          "ps2+ice",
          "ps2+ice",
          "ps2+ice",
          "ps2+ice",
          "ps2+ice",
          "ps2+ice",
          "ps2+ice",
          "ps2+ice",
          "ps2+ice",
          "ps2+ice",
          "ps2+ice",
          "ps2+ice",
          "ps2+ice",
          "ps2+ice",
          "ps2+ice",
          "ps2+ice",
          "ps2+ice",
          "ps2+ice",
          "ps2+ice",
          "ps2+ice",
          "ps2+ice",
          "ps2+ice",
          "ps2+ice",
          "ps2+ice",
          "ps2+ice",
          "ps2+ice",
          "ps2+ice",
          "ps2+ice",
          "ps2+ice",
          "ps2+ice",
          "ps2+ice",
          "ps2+ice",
          "ps2+ice",
          "ps2+ice",
          "ps2+ice",
          "ps2+ice",
          "ps2+ice",
          "ps2+ice",
          "ps2+ice",
          "ps2+ice",
          "ps2+ice",
          "ps2+ice",
          "ps2+ice",
          "ps2+ice",
          "ps2+ice",
          "ps2+ice",
          "ps2+ice",
          "ps2+ice",
          "ps2+ice",
          "ps2+ice",
          "ps2+ice",
          "ps2+ice",
          "ps2+ice",
          "ps2+ice",
          "ps2+ice",
          "ps2+ice",
          "ps2+ice",
          "ps2+ice",
          "ps2+ice",
          "ps2+ice",
          "ps2+ice",
          "ps2+ice",
          "ps2+ice",
          "ps2+ice",
          "ps2+ice",
          "ps2+ice+badice",
          "ps2+ice+badice",
          "ps2+ice+badice",
          "ps2+ice+badice",
          "ps2+ice+badice",
          "ps2+ice+badice",
          "ps2+ice+badice",
          "ps2+ice+badice",
          "ps2+ice+badice",
          "ps2+ice+badice",
          "ps2+ice+badice",
          "ps2+ice+badice",
          "ps2+ice+badice",
          "ps2+multi",
          "ps2+multi",
          "ps2+multi",
          "ps2+multi",
          "ps2+multi",
          "ps2+multi",
          "ps2+multi",
          "ps2+multi",
          "ps2+multi",
          "ps2+multi",
          "ps2+multi",
          "ps2+multi",
          "ps2+multi",
          "ps2+multi",
          "ps2+multi",
          "ps2+multi",
          "ps2+multi",
          "ps2+multi",
          "ps2+multi",
          "ps2+multi",
          "ps2+multi",
          "ps2+multi",
          "ps2+multi",
          "ps2+multi",
          "ps2+multi",
          "ps2+multi",
          "ps2+multi",
          "ps2+multi",
          "ps2+multi",
          "ps2+multi",
          "ps2+multi",
          "ps2+multi",
          "ps2+multi",
          "ps2+multi",
          "ps2+multi",
          "ps2+multi",
          "ps2+multi",
          "ps2+multi",
          "ps2+multi",
          "ps2+multi",
          "ps2+multi",
          "ps2+multi",
          "ps2+multi",
          "ps2+multi",
          "ps2+multi",
          "ps2+multi",
          "ps2+multi",
          "ps2+multi",
          "ps2+multi",
          "ps2+multi",
          "ps2+multi",
          "ps2+multi",
          "ps2+multi",
          "ps2+multi",
          "ps2+multi",
          "ps2+multi",
          "ps2+multi",
          "ps2+multi",
          "ps2+multi",
          "ps2+multi",
          "ps2+multi",
          "ps2+multi",
          "ps2+multi",
          "ps2+multi",
          "ps2+multi",
          "ps2+multi",
          "ps2+multi",
          "ps2+multi",
          "ps2+multi",
          "ps2+multi",
          "ps2+multi",
          "ps2+multi",
          "ps2+multi",
          "ps2+multi",
          "ps2+multi",
          "ps2+multi",
          "ps2+multi",
          "ps2+multi",
          "ps2+multi",
          "ps2+multi",
          "ps2+multi",
          "ps2+multi",
          "ps2+multi",
          "ps2+multi",
          "ps2+multi",
          "ps2+multi",
          "ps2+multi",
          "ps2+multi",
          "ps2+multi",
          "ps2+multi",
          "ps2+multi",
          "ps2+multi",
          "ps2+multi",
          "ps2+multi",
          "ps2+multi",
          "ps2+multi",
          "ps2+multi",
          "ps2+multi",
          "ps2+multi",
          "ps2+multi",
          "ps2+multi+ice",
          "ps2+multi+ice",
          "ps2+multi+ice",
          "ps2+multi+ice",
          "ps2+multi+ice",
          "ps2+multi+ice",
          "ps2+multi+ice",
          "ps2+multi+ice",
          "ps2+multi+ice",
          "ps2+multi+ice",
          "ps2+multi+ice",
          "ps2+multi+ice",
          "ps2+multi+ice",
          "ps2+multi+ice",
          "ps2+multi+ice",
          "ps2+multi+ice",
          "ps2+multi+ice",
          "ps2+multi+ice",
          "ps2+multi+ice",
          "ps2+multi+ice",
          "ps2+multi+ice",
          "ps2+multi+ice",
          "ps2+multi+ice",
          "ps2+multi+ice",
          "ps2+multi+ice",
          "ps2+multi+ice",
          "ps2+multi+ice",
          "ps2+multi+ice",
          "ps2+multi+ice",
          "ps2+multi+ice",
          "ps2+multi+ice",
          "ps2+multi+ice",
          "ps2+multi+ice",
          "ps2+multi+ice",
          "ps2+multi+ice",
          "ps2+multi+ice",
          "ps2+multi+ice",
          "ps2+multi+ice",
          "ps2+multi+ice",
          "ps2+multi+ice",
          "ps2+multi+ice",
          "ps2+multi+ice",
          "ps2+multi+ice",
          "ps2+multi+ice",
          "ps2+multi+ice",
          "ps2+multi+ice",
          "ps2+multi+ice",
          "ps2+multi+ice",
          "ps2+multi+ice",
          "ps2+multi+ice",
          "ps2+multi+ice",
          "ps2+multi+ice",
          "ps2+multi+ice",
          "ps2+multi+ice",
          "ps2+multi+ice",
          "ps2+multi+ice",
          "ps2+multi+ice",
          "ps2+multi+ice",
          "ps2+multi+ice",
          "ps2+multi+ice",
          "ps2+multi+ice",
          "ps2+multi+ice",
          "ps2+multi+ice",
          "ps2+multi+ice",
          "ps2+multi+ice",
          "ps2+multi+ice",
          "ps2+multi+ice",
          "ps2+multi+ice",
          "ps2+multi+ice",
          "ps2+multi+ice",
          "ps2+multi+ice",
          "ps2+multi+ice",
          "ps2+multi+ice",
          "ps2+multi+ice",
          "ps2+multi+ice",
          "ps2+multi+ice",
          "ps2+multi+ice",
          "ps2+multi+ice",
          "ps2+multi+ice",
          "ps2+multi+ice",
          "ps2+multi+ice",
          "ps2+multi+ice",
          "ps2+multi+ice",
          "ps2+multi+ice",
          "ps2+multi+ice",
          "ps2+multi+ice",
          "ps2+multi+ice",
          "ps2+multi+ice",
          "ps2+multi+ice",
          "ps2+multi+ice",
          "ps2+multi+ice",
          "ps2+multi+ice",
          "ps2+multi+ice",
          "ps2+multi+ice",
          "ps2+multi+ice",
          "ps2+multi+ice",
          "ps2+multi+ice",
          "ps2+multi+ice",
          "ps2+multi+ice",
          "ps2+multi+ice",
          "ps2+multi+ice+badice",
          "ps2+multi+ice+badice",
          "ps2+multi+ice+badice",
          "ps2+multi+ice+badice"
         ],
         "xaxis": "x",
         "yaxis": "y"
        }
       ],
       "layout": {
        "autosize": true,
        "barmode": "relative",
        "legend": {
         "tracegroupgap": 0
        },
        "margin": {
         "t": 60
        },
        "template": {
         "data": {
          "bar": [
           {
            "error_x": {
             "color": "#2a3f5f"
            },
            "error_y": {
             "color": "#2a3f5f"
            },
            "marker": {
             "line": {
              "color": "#E5ECF6",
              "width": 0.5
             }
            },
            "type": "bar"
           }
          ],
          "barpolar": [
           {
            "marker": {
             "line": {
              "color": "#E5ECF6",
              "width": 0.5
             }
            },
            "type": "barpolar"
           }
          ],
          "carpet": [
           {
            "aaxis": {
             "endlinecolor": "#2a3f5f",
             "gridcolor": "white",
             "linecolor": "white",
             "minorgridcolor": "white",
             "startlinecolor": "#2a3f5f"
            },
            "baxis": {
             "endlinecolor": "#2a3f5f",
             "gridcolor": "white",
             "linecolor": "white",
             "minorgridcolor": "white",
             "startlinecolor": "#2a3f5f"
            },
            "type": "carpet"
           }
          ],
          "choropleth": [
           {
            "colorbar": {
             "outlinewidth": 0,
             "ticks": ""
            },
            "type": "choropleth"
           }
          ],
          "contour": [
           {
            "colorbar": {
             "outlinewidth": 0,
             "ticks": ""
            },
            "colorscale": [
             [
              0,
              "#0d0887"
             ],
             [
              0.1111111111111111,
              "#46039f"
             ],
             [
              0.2222222222222222,
              "#7201a8"
             ],
             [
              0.3333333333333333,
              "#9c179e"
             ],
             [
              0.4444444444444444,
              "#bd3786"
             ],
             [
              0.5555555555555556,
              "#d8576b"
             ],
             [
              0.6666666666666666,
              "#ed7953"
             ],
             [
              0.7777777777777778,
              "#fb9f3a"
             ],
             [
              0.8888888888888888,
              "#fdca26"
             ],
             [
              1,
              "#f0f921"
             ]
            ],
            "type": "contour"
           }
          ],
          "contourcarpet": [
           {
            "colorbar": {
             "outlinewidth": 0,
             "ticks": ""
            },
            "type": "contourcarpet"
           }
          ],
          "heatmap": [
           {
            "colorbar": {
             "outlinewidth": 0,
             "ticks": ""
            },
            "colorscale": [
             [
              0,
              "#0d0887"
             ],
             [
              0.1111111111111111,
              "#46039f"
             ],
             [
              0.2222222222222222,
              "#7201a8"
             ],
             [
              0.3333333333333333,
              "#9c179e"
             ],
             [
              0.4444444444444444,
              "#bd3786"
             ],
             [
              0.5555555555555556,
              "#d8576b"
             ],
             [
              0.6666666666666666,
              "#ed7953"
             ],
             [
              0.7777777777777778,
              "#fb9f3a"
             ],
             [
              0.8888888888888888,
              "#fdca26"
             ],
             [
              1,
              "#f0f921"
             ]
            ],
            "type": "heatmap"
           }
          ],
          "heatmapgl": [
           {
            "colorbar": {
             "outlinewidth": 0,
             "ticks": ""
            },
            "colorscale": [
             [
              0,
              "#0d0887"
             ],
             [
              0.1111111111111111,
              "#46039f"
             ],
             [
              0.2222222222222222,
              "#7201a8"
             ],
             [
              0.3333333333333333,
              "#9c179e"
             ],
             [
              0.4444444444444444,
              "#bd3786"
             ],
             [
              0.5555555555555556,
              "#d8576b"
             ],
             [
              0.6666666666666666,
              "#ed7953"
             ],
             [
              0.7777777777777778,
              "#fb9f3a"
             ],
             [
              0.8888888888888888,
              "#fdca26"
             ],
             [
              1,
              "#f0f921"
             ]
            ],
            "type": "heatmapgl"
           }
          ],
          "histogram": [
           {
            "marker": {
             "colorbar": {
              "outlinewidth": 0,
              "ticks": ""
             }
            },
            "type": "histogram"
           }
          ],
          "histogram2d": [
           {
            "colorbar": {
             "outlinewidth": 0,
             "ticks": ""
            },
            "colorscale": [
             [
              0,
              "#0d0887"
             ],
             [
              0.1111111111111111,
              "#46039f"
             ],
             [
              0.2222222222222222,
              "#7201a8"
             ],
             [
              0.3333333333333333,
              "#9c179e"
             ],
             [
              0.4444444444444444,
              "#bd3786"
             ],
             [
              0.5555555555555556,
              "#d8576b"
             ],
             [
              0.6666666666666666,
              "#ed7953"
             ],
             [
              0.7777777777777778,
              "#fb9f3a"
             ],
             [
              0.8888888888888888,
              "#fdca26"
             ],
             [
              1,
              "#f0f921"
             ]
            ],
            "type": "histogram2d"
           }
          ],
          "histogram2dcontour": [
           {
            "colorbar": {
             "outlinewidth": 0,
             "ticks": ""
            },
            "colorscale": [
             [
              0,
              "#0d0887"
             ],
             [
              0.1111111111111111,
              "#46039f"
             ],
             [
              0.2222222222222222,
              "#7201a8"
             ],
             [
              0.3333333333333333,
              "#9c179e"
             ],
             [
              0.4444444444444444,
              "#bd3786"
             ],
             [
              0.5555555555555556,
              "#d8576b"
             ],
             [
              0.6666666666666666,
              "#ed7953"
             ],
             [
              0.7777777777777778,
              "#fb9f3a"
             ],
             [
              0.8888888888888888,
              "#fdca26"
             ],
             [
              1,
              "#f0f921"
             ]
            ],
            "type": "histogram2dcontour"
           }
          ],
          "mesh3d": [
           {
            "colorbar": {
             "outlinewidth": 0,
             "ticks": ""
            },
            "type": "mesh3d"
           }
          ],
          "parcoords": [
           {
            "line": {
             "colorbar": {
              "outlinewidth": 0,
              "ticks": ""
             }
            },
            "type": "parcoords"
           }
          ],
          "pie": [
           {
            "automargin": true,
            "type": "pie"
           }
          ],
          "scatter": [
           {
            "marker": {
             "colorbar": {
              "outlinewidth": 0,
              "ticks": ""
             }
            },
            "type": "scatter"
           }
          ],
          "scatter3d": [
           {
            "line": {
             "colorbar": {
              "outlinewidth": 0,
              "ticks": ""
             }
            },
            "marker": {
             "colorbar": {
              "outlinewidth": 0,
              "ticks": ""
             }
            },
            "type": "scatter3d"
           }
          ],
          "scattercarpet": [
           {
            "marker": {
             "colorbar": {
              "outlinewidth": 0,
              "ticks": ""
             }
            },
            "type": "scattercarpet"
           }
          ],
          "scattergeo": [
           {
            "marker": {
             "colorbar": {
              "outlinewidth": 0,
              "ticks": ""
             }
            },
            "type": "scattergeo"
           }
          ],
          "scattergl": [
           {
            "marker": {
             "colorbar": {
              "outlinewidth": 0,
              "ticks": ""
             }
            },
            "type": "scattergl"
           }
          ],
          "scattermapbox": [
           {
            "marker": {
             "colorbar": {
              "outlinewidth": 0,
              "ticks": ""
             }
            },
            "type": "scattermapbox"
           }
          ],
          "scatterpolar": [
           {
            "marker": {
             "colorbar": {
              "outlinewidth": 0,
              "ticks": ""
             }
            },
            "type": "scatterpolar"
           }
          ],
          "scatterpolargl": [
           {
            "marker": {
             "colorbar": {
              "outlinewidth": 0,
              "ticks": ""
             }
            },
            "type": "scatterpolargl"
           }
          ],
          "scatterternary": [
           {
            "marker": {
             "colorbar": {
              "outlinewidth": 0,
              "ticks": ""
             }
            },
            "type": "scatterternary"
           }
          ],
          "surface": [
           {
            "colorbar": {
             "outlinewidth": 0,
             "ticks": ""
            },
            "colorscale": [
             [
              0,
              "#0d0887"
             ],
             [
              0.1111111111111111,
              "#46039f"
             ],
             [
              0.2222222222222222,
              "#7201a8"
             ],
             [
              0.3333333333333333,
              "#9c179e"
             ],
             [
              0.4444444444444444,
              "#bd3786"
             ],
             [
              0.5555555555555556,
              "#d8576b"
             ],
             [
              0.6666666666666666,
              "#ed7953"
             ],
             [
              0.7777777777777778,
              "#fb9f3a"
             ],
             [
              0.8888888888888888,
              "#fdca26"
             ],
             [
              1,
              "#f0f921"
             ]
            ],
            "type": "surface"
           }
          ],
          "table": [
           {
            "cells": {
             "fill": {
              "color": "#EBF0F8"
             },
             "line": {
              "color": "white"
             }
            },
            "header": {
             "fill": {
              "color": "#C8D4E3"
             },
             "line": {
              "color": "white"
             }
            },
            "type": "table"
           }
          ]
         },
         "layout": {
          "annotationdefaults": {
           "arrowcolor": "#2a3f5f",
           "arrowhead": 0,
           "arrowwidth": 1
          },
          "autotypenumbers": "strict",
          "coloraxis": {
           "colorbar": {
            "outlinewidth": 0,
            "ticks": ""
           }
          },
          "colorscale": {
           "diverging": [
            [
             0,
             "#8e0152"
            ],
            [
             0.1,
             "#c51b7d"
            ],
            [
             0.2,
             "#de77ae"
            ],
            [
             0.3,
             "#f1b6da"
            ],
            [
             0.4,
             "#fde0ef"
            ],
            [
             0.5,
             "#f7f7f7"
            ],
            [
             0.6,
             "#e6f5d0"
            ],
            [
             0.7,
             "#b8e186"
            ],
            [
             0.8,
             "#7fbc41"
            ],
            [
             0.9,
             "#4d9221"
            ],
            [
             1,
             "#276419"
            ]
           ],
           "sequential": [
            [
             0,
             "#0d0887"
            ],
            [
             0.1111111111111111,
             "#46039f"
            ],
            [
             0.2222222222222222,
             "#7201a8"
            ],
            [
             0.3333333333333333,
             "#9c179e"
            ],
            [
             0.4444444444444444,
             "#bd3786"
            ],
            [
             0.5555555555555556,
             "#d8576b"
            ],
            [
             0.6666666666666666,
             "#ed7953"
            ],
            [
             0.7777777777777778,
             "#fb9f3a"
            ],
            [
             0.8888888888888888,
             "#fdca26"
            ],
            [
             1,
             "#f0f921"
            ]
           ],
           "sequentialminus": [
            [
             0,
             "#0d0887"
            ],
            [
             0.1111111111111111,
             "#46039f"
            ],
            [
             0.2222222222222222,
             "#7201a8"
            ],
            [
             0.3333333333333333,
             "#9c179e"
            ],
            [
             0.4444444444444444,
             "#bd3786"
            ],
            [
             0.5555555555555556,
             "#d8576b"
            ],
            [
             0.6666666666666666,
             "#ed7953"
            ],
            [
             0.7777777777777778,
             "#fb9f3a"
            ],
            [
             0.8888888888888888,
             "#fdca26"
            ],
            [
             1,
             "#f0f921"
            ]
           ]
          },
          "colorway": [
           "#636efa",
           "#EF553B",
           "#00cc96",
           "#ab63fa",
           "#FFA15A",
           "#19d3f3",
           "#FF6692",
           "#B6E880",
           "#FF97FF",
           "#FECB52"
          ],
          "font": {
           "color": "#2a3f5f"
          },
          "geo": {
           "bgcolor": "white",
           "lakecolor": "white",
           "landcolor": "#E5ECF6",
           "showlakes": true,
           "showland": true,
           "subunitcolor": "white"
          },
          "hoverlabel": {
           "align": "left"
          },
          "hovermode": "closest",
          "mapbox": {
           "style": "light"
          },
          "paper_bgcolor": "white",
          "plot_bgcolor": "#E5ECF6",
          "polar": {
           "angularaxis": {
            "gridcolor": "white",
            "linecolor": "white",
            "ticks": ""
           },
           "bgcolor": "#E5ECF6",
           "radialaxis": {
            "gridcolor": "white",
            "linecolor": "white",
            "ticks": ""
           }
          },
          "scene": {
           "xaxis": {
            "backgroundcolor": "#E5ECF6",
            "gridcolor": "white",
            "gridwidth": 2,
            "linecolor": "white",
            "showbackground": true,
            "ticks": "",
            "zerolinecolor": "white"
           },
           "yaxis": {
            "backgroundcolor": "#E5ECF6",
            "gridcolor": "white",
            "gridwidth": 2,
            "linecolor": "white",
            "showbackground": true,
            "ticks": "",
            "zerolinecolor": "white"
           },
           "zaxis": {
            "backgroundcolor": "#E5ECF6",
            "gridcolor": "white",
            "gridwidth": 2,
            "linecolor": "white",
            "showbackground": true,
            "ticks": "",
            "zerolinecolor": "white"
           }
          },
          "shapedefaults": {
           "line": {
            "color": "#2a3f5f"
           }
          },
          "ternary": {
           "aaxis": {
            "gridcolor": "white",
            "linecolor": "white",
            "ticks": ""
           },
           "baxis": {
            "gridcolor": "white",
            "linecolor": "white",
            "ticks": ""
           },
           "bgcolor": "#E5ECF6",
           "caxis": {
            "gridcolor": "white",
            "linecolor": "white",
            "ticks": ""
           }
          },
          "title": {
           "x": 0.05
          },
          "xaxis": {
           "automargin": true,
           "gridcolor": "white",
           "linecolor": "white",
           "ticks": "",
           "title": {
            "standoff": 15
           },
           "zerolinecolor": "white",
           "zerolinewidth": 2
          },
          "yaxis": {
           "automargin": true,
           "gridcolor": "white",
           "linecolor": "white",
           "ticks": "",
           "title": {
            "standoff": 15
           },
           "zerolinecolor": "white",
           "zerolinewidth": 2
          }
         }
        },
        "xaxis": {
         "anchor": "y",
         "autorange": true,
         "domain": [
          0,
          1
         ],
         "range": [
          -0.5,
          17.5
         ],
         "title": {
          "text": "label"
         },
         "type": "category"
        },
        "yaxis": {
         "anchor": "x",
         "autorange": true,
         "domain": [
          0,
          1
         ],
         "range": [
          0,
          105.26315789473685
         ],
         "title": {
          "text": "count"
         }
        }
       }
      },
      "image/png": "[encoded data removed]",
      "text/html": [
       "<div>                            <div id=\"f0c6370b-1043-4754-b185-f86518392e08\" class=\"plotly-graph-div\" style=\"height:525px; width:100%;\"></div>            <script type=\"text/javascript\">                require([\"plotly\"], function(Plotly) {                    window.PLOTLYENV=window.PLOTLYENV || {};                                    if (document.getElementById(\"f0c6370b-1043-4754-b185-f86518392e08\")) {                    Plotly.newPlot(                        \"f0c6370b-1043-4754-b185-f86518392e08\",                        [{\"alignmentgroup\": \"True\", \"bingroup\": \"x\", \"hovertemplate\": \"label=%{x}<br>count=%{y}<extra></extra>\", \"legendgroup\": \"\", \"marker\": {\"color\": \"#636efa\"}, \"name\": \"\", \"nbinsx\": 10, \"offsetgroup\": \"\", \"orientation\": \"v\", \"showlegend\": false, \"type\": \"histogram\", \"x\": [\"blank\", \"blank\", \"blank\", \"blank\", \"blank\", \"blank\", \"blank\", \"blank\", \"blank\", \"blank\", \"blank\", \"blank\", \"blank\", \"blank\", \"blank\", \"blank\", \"blank\", \"blank\", \"blank\", \"blank\", \"blank\", \"blank\", \"blank\", \"blank\", \"blank\", \"blank\", \"blank\", \"blank\", \"blank\", \"blank\", \"blank\", \"blank\", \"blank\", \"blank\", \"blank\", \"blank\", \"blank\", \"blank\", \"blank\", \"blank\", \"blank\", \"blank\", \"blank\", \"blank\", \"blank\", \"blank\", \"blank\", \"blank\", \"blank\", \"blank\", \"blank\", \"blank\", \"blank\", \"blank\", \"blank\", \"blank\", \"blank\", \"blank\", \"blank\", \"blank\", \"blank\", \"blank\", \"blank\", \"blank\", \"blank\", \"blank\", \"blank\", \"blank\", \"blank\", \"blank\", \"blank\", \"blank\", \"blank\", \"blank\", \"blank\", \"blank\", \"blank\", \"ps1\", \"ps1\", \"ps1\", \"ps1\", \"ps1\", \"ps1\", \"ps1\", \"ps1\", \"ps1\", \"ps1\", \"ps1\", \"ps1\", \"ps1\", \"ps1\", \"ps1\", \"ps1\", \"ps1\", \"ps1\", \"ps1\", \"ps1\", \"ps1\", \"ps1\", \"ps1\", \"ps1\", \"ps1\", \"ps1\", \"ps1\", \"ps1\", \"ps1\", \"ps1\", \"ps1\", \"ps1\", \"ps1\", \"ps1\", \"ps1\", \"ps1\", \"ps1\", \"ps1\", \"ps1\", \"ps1\", \"ps1\", \"ps1\", \"ps1\", \"ps1\", \"ps1\", \"ps1\", \"ps1\", \"ps1\", \"ps1\", \"ps1\", \"ps1\", \"ps1\", \"ps1\", \"ps1\", \"ps1\", \"ps1\", \"ps1\", \"ps1\", \"ps1\", \"ps1\", \"ps1\", \"ps1\", \"ps1\", \"ps1\", \"ps1\", \"ps1\", \"ps1\", \"ps1\", \"ps1\", \"ps1\", \"ps1\", \"ps1\", \"ps1\", \"ps1\", \"ps1\", \"ps1\", \"ps1\", \"ps1\", \"ps1\", \"ps1\", \"ps1\", \"ps1\", \"ps1\", \"ps1\", \"ps1\", \"ps1\", \"ps1\", \"ps1\", \"ps1\", \"ps1\", \"ps1\", \"ps1\", \"ps1\", \"ps1\", \"ps1\", \"ps1\", \"ps1\", \"ps1\", \"ps1\", \"ps1\", \"ps1+ice\", \"ps1+ice\", \"ps1+ice\", \"ps1+ice\", \"ps1+ice\", \"ps1+ice\", \"ps1+ice\", \"ps1+ice\", \"ps1+ice\", \"ps1+ice\", \"ps1+ice\", \"ps1+ice\", \"ps1+ice\", \"ps1+ice\", \"ps1+ice\", \"ps1+ice\", \"ps1+ice\", \"ps1+ice\", \"ps1+ice\", \"ps1+ice\", \"ps1+ice\", \"ps1+ice\", \"ps1+ice\", \"ps1+ice\", \"ps1+ice\", \"ps1+ice\", \"ps1+ice\", \"ps1+ice\", \"ps1+ice\", \"ps1+ice\", \"ps1+ice\", \"ps1+ice\", \"ps1+ice\", \"ps1+ice\", \"ps1+ice\", \"ps1+ice\", \"ps1+ice\", \"ps1+ice\", \"ps1+ice\", \"ps1+ice\", \"ps1+ice\", \"ps1+ice\", \"ps1+ice\", \"ps1+ice\", \"ps1+ice\", \"ps1+ice\", \"ps1+ice\", \"ps1+ice\", \"ps1+ice\", \"ps1+ice\", \"ps1+ice\", \"ps1+ice\", \"ps1+ice\", \"ps1+ice\", \"ps1+ice\", \"ps1+ice\", \"ps1+ice\", \"ps1+ice\", \"ps1+ice\", \"ps1+ice\", \"ps1+ice\", \"ps1+ice\", \"ps1+ice\", \"ps1+ice\", \"ps1+ice\", \"ps1+ice\", \"ps1+ice\", \"ps1+ice\", \"ps1+ice\", \"ps1+ice\", \"ps1+ice\", \"ps1+ice\", \"ps1+ice\", \"ps1+ice\", \"ps1+ice\", \"ps1+ice\", \"ps1+ice\", \"ps1+ice\", \"ps1+ice\", \"ps1+ice\", \"ps1+ice\", \"ps1+ice\", \"ps1+ice\", \"ps1+ice\", \"ps1+ice\", \"ps1+ice\", \"ps1+ice\", \"ps1+ice\", \"ps1+ice\", \"ps1+ice\", \"ps1+ice\", \"ps1+ice\", \"ps1+ice\", \"ps1+ice\", \"ps1+ice\", \"ps1+ice\", \"ps1+ice\", \"ps1+ice\", \"ps1+ice\", \"ps1+ice\", \"ps1+ice+badice\", \"ps1+ice+badice\", \"ps1+ice+badice\", \"ps1+ice+badice\", \"ps1+ice+badice\", \"ps1+ice+badice\", \"ps1+ice+badice\", \"ps1+multi\", \"ps1+multi\", \"ps1+multi\", \"ps1+multi\", \"ps1+multi\", \"ps1+multi\", \"ps1+multi\", \"ps1+multi\", \"ps1+multi\", \"ps1+multi\", \"ps1+multi\", \"ps1+multi\", \"ps1+multi\", \"ps1+multi\", \"ps1+multi\", \"ps1+multi\", \"ps1+multi\", \"ps1+multi\", \"ps1+multi\", \"ps1+multi\", \"ps1+multi\", \"ps1+multi\", \"ps1+multi\", \"ps1+multi\", \"ps1+multi\", \"ps1+multi\", \"ps1+multi\", \"ps1+multi\", \"ps1+multi\", \"ps1+multi\", \"ps1+multi\", \"ps1+multi\", \"ps1+multi\", \"ps1+multi\", \"ps1+multi\", \"ps1+multi\", \"ps1+multi\", \"ps1+multi\", \"ps1+multi\", \"ps1+multi\", \"ps1+multi\", \"ps1+multi\", \"ps1+multi\", \"ps1+multi\", \"ps1+multi\", \"ps1+multi\", \"ps1+multi\", \"ps1+multi\", \"ps1+multi\", \"ps1+multi\", \"ps1+multi\", \"ps1+multi\", \"ps1+multi\", \"ps1+multi\", \"ps1+multi\", \"ps1+multi\", \"ps1+multi\", \"ps1+multi\", \"ps1+multi\", \"ps1+multi\", \"ps1+multi\", \"ps1+multi\", \"ps1+multi\", \"ps1+multi\", \"ps1+multi\", \"ps1+multi\", \"ps1+multi\", \"ps1+multi\", \"ps1+multi\", \"ps1+multi\", \"ps1+multi\", \"ps1+multi\", \"ps1+multi\", \"ps1+multi\", \"ps1+multi\", \"ps1+multi\", \"ps1+multi\", \"ps1+multi\", \"ps1+multi\", \"ps1+multi\", \"ps1+multi\", \"ps1+multi\", \"ps1+multi\", \"ps1+multi\", \"ps1+multi\", \"ps1+multi\", \"ps1+multi\", \"ps1+multi\", \"ps1+multi\", \"ps1+multi\", \"ps1+multi\", \"ps1+multi\", \"ps1+multi\", \"ps1+multi\", \"ps1+multi\", \"ps1+multi\", \"ps1+multi\", \"ps1+multi\", \"ps1+multi\", \"ps1+multi\", \"ps1+multi+ice\", \"ps1+multi+ice\", \"ps1+multi+ice\", \"ps1+multi+ice\", \"ps1+multi+ice\", \"ps1+multi+ice\", \"ps1+multi+ice\", \"ps1+multi+ice\", \"ps1+multi+ice\", \"ps1+multi+ice\", \"ps1+multi+ice\", \"ps1+multi+ice\", \"ps1+multi+ice\", \"ps1+multi+ice\", \"ps1+multi+ice\", \"ps1+multi+ice\", \"ps1+multi+ice\", \"ps1+multi+ice\", \"ps1+multi+ice\", \"ps1+multi+ice\", \"ps1+multi+ice\", \"ps1+multi+ice\", \"ps1+multi+ice\", \"ps1+multi+ice\", \"ps1+multi+ice\", \"ps1+multi+ice\", \"ps1+multi+ice\", \"ps1+multi+ice\", \"ps1+multi+ice\", \"ps1+multi+ice\", \"ps1+multi+ice\", \"ps1+multi+ice\", \"ps1+multi+ice\", \"ps1+multi+ice\", \"ps1+multi+ice\", \"ps1+multi+ice\", \"ps1+multi+ice\", \"ps1+multi+ice\", \"ps1+multi+ice\", \"ps1+multi+ice\", \"ps1+multi+ice\", \"ps1+multi+ice\", \"ps1+multi+ice\", \"ps1+multi+ice\", \"ps1+multi+ice\", \"ps1+multi+ice\", \"ps1+multi+ice\", \"ps1+multi+ice\", \"ps1+multi+ice\", \"ps1+multi+ice\", \"ps1+multi+ice\", \"ps1+multi+ice\", \"ps1+multi+ice\", \"ps1+multi+ice\", \"ps1+multi+ice\", \"ps1+multi+ice\", \"ps1+multi+ice\", \"ps1+multi+ice\", \"ps1+multi+ice\", \"ps1+multi+ice\", \"ps1+multi+ice\", \"ps1+multi+ice\", \"ps1+multi+ice\", \"ps1+multi+ice\", \"ps1+multi+ice\", \"ps1+multi+ice\", \"ps1+multi+ice\", \"ps1+multi+ice\", \"ps1+multi+ice\", \"ps1+multi+ice\", \"ps1+multi+ice\", \"ps1+multi+ice\", \"ps1+multi+ice\", \"ps1+multi+ice\", \"ps1+multi+ice\", \"ps1+multi+ice\", \"ps1+multi+ice\", \"ps1+multi+ice\", \"ps1+multi+ice\", \"ps1+multi+ice\", \"ps1+multi+ice\", \"ps1+multi+ice\", \"ps1+multi+ice\", \"ps1+multi+ice\", \"ps1+multi+ice\", \"ps1+multi+ice\", \"ps1+multi+ice\", \"ps1+multi+ice\", \"ps1+multi+ice\", \"ps1+multi+ice\", \"ps1+multi+ice\", \"ps1+multi+ice\", \"ps1+multi+ice\", \"ps1+multi+ice\", \"ps1+multi+ice\", \"ps1+multi+ice\", \"ps1+multi+ice\", \"ps1+multi+ice\", \"ps1+multi+ice\", \"ps1+multi+ice\", \"ps1+multi+ice+badice\", \"ps1+multi+ice+badice\", \"ps1+ps2\", \"ps1+ps2\", \"ps1+ps2\", \"ps1+ps2\", \"ps1+ps2\", \"ps1+ps2\", \"ps1+ps2\", \"ps1+ps2\", \"ps1+ps2\", \"ps1+ps2\", \"ps1+ps2\", \"ps1+ps2\", \"ps1+ps2\", \"ps1+ps2\", \"ps1+ps2\", \"ps1+ps2\", \"ps1+ps2\", \"ps1+ps2\", \"ps1+ps2\", \"ps1+ps2\", \"ps1+ps2\", \"ps1+ps2\", \"ps1+ps2\", \"ps1+ps2\", \"ps1+ps2\", \"ps1+ps2\", \"ps1+ps2\", \"ps1+ps2\", \"ps1+ps2\", \"ps1+ps2\", \"ps1+ps2\", \"ps1+ps2\", \"ps1+ps2\", \"ps1+ps2\", \"ps1+ps2\", \"ps1+ps2\", \"ps1+ps2\", \"ps1+ps2\", \"ps1+ps2\", \"ps1+ps2\", \"ps1+ps2\", \"ps1+ps2\", \"ps1+ps2\", \"ps1+ps2\", \"ps1+ps2\", \"ps1+ps2\", \"ps1+ps2\", \"ps1+ps2\", \"ps1+ps2\", \"ps1+ps2\", \"ps1+ps2\", \"ps1+ps2\", \"ps1+ps2\", \"ps1+ps2\", \"ps1+ps2\", \"ps1+ps2\", \"ps1+ps2\", \"ps1+ps2\", \"ps1+ps2\", \"ps1+ps2\", \"ps1+ps2\", \"ps1+ps2\", \"ps1+ps2\", \"ps1+ps2\", \"ps1+ps2\", \"ps1+ps2\", \"ps1+ps2\", \"ps1+ps2\", \"ps1+ps2\", \"ps1+ps2\", \"ps1+ps2\", \"ps1+ps2\", \"ps1+ps2\", \"ps1+ps2\", \"ps1+ps2\", \"ps1+ps2+ice\", \"ps1+ps2+ice\", \"ps1+ps2+ice\", \"ps1+ps2+ice\", \"ps1+ps2+ice\", \"ps1+ps2+ice\", \"ps1+ps2+ice\", \"ps1+ps2+ice\", \"ps1+ps2+ice\", \"ps1+ps2+ice\", \"ps1+ps2+ice\", \"ps1+ps2+ice\", \"ps1+ps2+ice\", \"ps1+ps2+ice\", \"ps1+ps2+ice\", \"ps1+ps2+ice\", \"ps1+ps2+ice\", \"ps1+ps2+ice\", \"ps1+ps2+ice\", \"ps1+ps2+ice\", \"ps1+ps2+ice\", \"ps1+ps2+ice\", \"ps1+ps2+ice\", \"ps1+ps2+ice\", \"ps1+ps2+ice\", \"ps1+ps2+ice\", \"ps1+ps2+multi\", \"ps1+ps2+multi\", \"ps1+ps2+multi\", \"ps1+ps2+multi\", \"ps1+ps2+multi\", \"ps1+ps2+multi\", \"ps1+ps2+multi\", \"ps1+ps2+multi\", \"ps1+ps2+multi\", \"ps1+ps2+multi\", \"ps1+ps2+multi\", \"ps1+ps2+multi\", \"ps1+ps2+multi\", \"ps1+ps2+multi\", \"ps1+ps2+multi\", \"ps1+ps2+multi\", \"ps1+ps2+multi\", \"ps1+ps2+multi\", \"ps1+ps2+multi\", \"ps1+ps2+multi\", \"ps1+ps2+multi\", \"ps1+ps2+multi\", \"ps1+ps2+multi\", \"ps1+ps2+multi\", \"ps1+ps2+multi\", \"ps1+ps2+multi\", \"ps1+ps2+multi\", \"ps1+ps2+multi\", \"ps1+ps2+multi\", \"ps1+ps2+multi\", \"ps1+ps2+multi\", \"ps1+ps2+multi\", \"ps1+ps2+multi\", \"ps1+ps2+multi\", \"ps1+ps2+multi\", \"ps1+ps2+multi\", \"ps1+ps2+multi\", \"ps1+ps2+multi\", \"ps1+ps2+multi\", \"ps1+ps2+multi\", \"ps1+ps2+multi\", \"ps1+ps2+multi\", \"ps1+ps2+multi\", \"ps1+ps2+multi\", \"ps1+ps2+multi\", \"ps1+ps2+multi\", \"ps1+ps2+multi\", \"ps1+ps2+multi\", \"ps1+ps2+multi\", \"ps1+ps2+multi\", \"ps1+ps2+multi\", \"ps1+ps2+multi\", \"ps1+ps2+multi\", \"ps1+ps2+multi\", \"ps1+ps2+multi\", \"ps1+ps2+multi\", \"ps1+ps2+multi\", \"ps1+ps2+multi\", \"ps1+ps2+multi\", \"ps1+ps2+multi\", \"ps1+ps2+multi\", \"ps1+ps2+multi\", \"ps1+ps2+multi\", \"ps1+ps2+multi\", \"ps1+ps2+multi\", \"ps1+ps2+multi\", \"ps1+ps2+multi\", \"ps1+ps2+multi\", \"ps1+ps2+multi\", \"ps1+ps2+multi\", \"ps1+ps2+multi\", \"ps1+ps2+multi\", \"ps1+ps2+multi\", \"ps1+ps2+multi\", \"ps1+ps2+multi\", \"ps1+ps2+multi\", \"ps1+ps2+multi\", \"ps1+ps2+multi\", \"ps1+ps2+multi\", \"ps1+ps2+multi\", \"ps1+ps2+multi\", \"ps1+ps2+multi\", \"ps1+ps2+multi\", \"ps1+ps2+multi\", \"ps1+ps2+multi\", \"ps1+ps2+multi\", \"ps1+ps2+multi\", \"ps1+ps2+multi\", \"ps1+ps2+multi\", \"ps1+ps2+multi\", \"ps1+ps2+multi\", \"ps1+ps2+multi\", \"ps1+ps2+multi\", \"ps1+ps2+multi\", \"ps1+ps2+multi\", \"ps1+ps2+multi\", \"ps1+ps2+multi\", \"ps1+ps2+multi\", \"ps1+ps2+multi\", \"ps1+ps2+multi\", \"ps1+ps2+multi+ice\", \"ps1+ps2+multi+ice\", \"ps1+ps2+multi+ice\", \"ps1+ps2+multi+ice\", \"ps1+ps2+multi+ice\", \"ps1+ps2+multi+ice\", \"ps1+ps2+multi+ice\", \"ps1+ps2+multi+ice\", \"ps1+ps2+multi+ice\", \"ps1+ps2+multi+ice\", \"ps1+ps2+multi+ice\", \"ps1+ps2+multi+ice\", \"ps1+ps2+multi+ice\", \"ps1+ps2+multi+ice\", \"ps1+ps2+multi+ice\", \"ps1+ps2+multi+ice\", \"ps1+ps2+multi+ice\", \"ps1+ps2+multi+ice\", \"ps1+ps2+multi+ice\", \"ps1+ps2+multi+ice\", \"ps1+ps2+multi+ice\", \"ps1+ps2+multi+ice\", \"ps1+ps2+multi+ice\", \"ps1+ps2+multi+ice\", \"ps1+ps2+multi+ice\", \"ps1+ps2+multi+ice\", \"ps1+ps2+multi+ice\", \"ps1+ps2+multi+ice\", \"ps1+ps2+multi+ice\", \"ps1+ps2+multi+ice\", \"ps1+ps2+multi+ice\", \"ps1+ps2+multi+ice\", \"ps1+ps2+multi+ice\", \"ps1+ps2+multi+ice\", \"ps1+ps2+multi+ice\", \"ps1+ps2+multi+ice\", \"ps1+ps2+multi+ice\", \"ps1+ps2+multi+ice\", \"ps1+ps2+multi+ice\", \"ps1+ps2+multi+ice\", \"ps1+ps2+multi+ice\", \"ps1+ps2+multi+ice\", \"ps1+ps2+multi+ice\", \"ps1+ps2+multi+ice\", \"ps1+ps2+multi+ice\", \"ps1+ps2+multi+ice\", \"ps1+ps2+multi+ice\", \"ps1+ps2+multi+ice\", \"ps1+ps2+multi+ice\", \"ps1+ps2+multi+ice\", \"ps1+ps2+multi+ice\", \"ps1+ps2+multi+ice\", \"ps1+ps2+multi+ice\", \"ps1+ps2+multi+ice\", \"ps1+ps2+multi+ice\", \"ps1+ps2+multi+ice\", \"ps1+ps2+multi+ice\", \"ps1+ps2+multi+ice\", \"ps1+ps2+multi+ice\", \"ps1+ps2+multi+ice\", \"ps1+ps2+multi+ice\", \"ps1+ps2+multi+ice\", \"ps1+ps2+multi+ice\", \"ps1+ps2+multi+ice\", \"ps1+ps2+multi+ice\", \"ps1+ps2+multi+ice\", \"ps1+ps2+multi+ice\", \"ps1+ps2+multi+ice\", \"ps1+ps2+multi+ice\", \"ps1+ps2+multi+ice\", \"ps1+ps2+multi+ice\", \"ps1+ps2+multi+ice\", \"ps1+ps2+multi+ice\", \"ps1+ps2+multi+ice\", \"ps1+ps2+multi+ice\", \"ps1+ps2+multi+ice\", \"ps1+ps2+multi+ice\", \"ps1+ps2+multi+ice\", \"ps1+ps2+multi+ice\", \"ps1+ps2+multi+ice\", \"ps1+ps2+multi+ice\", \"ps1+ps2+multi+ice\", \"ps1+ps2+multi+ice\", \"ps1+ps2+multi+ice\", \"ps1+ps2+multi+ice\", \"ps1+ps2+multi+ice\", \"ps1+ps2+multi+ice\", \"ps1+ps2+multi+ice\", \"ps1+ps2+multi+ice\", \"ps1+ps2+multi+ice\", \"ps1+ps2+multi+ice\", \"ps1+ps2+multi+ice\", \"ps1+ps2+multi+ice\", \"ps1+ps2+multi+ice\", \"ps1+ps2+multi+ice\", \"ps1+ps2+multi+ice\", \"ps1+ps2+multi+ice\", \"ps1+ps2+multi+ice\", \"ps1+ps2+multi+ice\", \"ps1+ps2+multi+ice\", \"ps1+ps2+multi+ice+badice\", \"ps1+ps2+multi+ice+badice\", \"ps2\", \"ps2\", \"ps2\", \"ps2\", \"ps2\", \"ps2\", \"ps2\", \"ps2\", \"ps2\", \"ps2\", \"ps2\", \"ps2\", \"ps2\", \"ps2\", \"ps2\", \"ps2\", \"ps2\", \"ps2\", \"ps2\", \"ps2\", \"ps2\", \"ps2\", \"ps2\", \"ps2\", \"ps2\", \"ps2\", \"ps2\", \"ps2\", \"ps2\", \"ps2\", \"ps2\", \"ps2\", \"ps2\", \"ps2\", \"ps2\", \"ps2\", \"ps2\", \"ps2\", \"ps2\", \"ps2\", \"ps2\", \"ps2\", \"ps2\", \"ps2\", \"ps2\", \"ps2\", \"ps2\", \"ps2\", \"ps2\", \"ps2\", \"ps2\", \"ps2\", \"ps2\", \"ps2\", \"ps2\", \"ps2\", \"ps2\", \"ps2\", \"ps2\", \"ps2\", \"ps2\", \"ps2\", \"ps2\", \"ps2\", \"ps2\", \"ps2\", \"ps2\", \"ps2\", \"ps2\", \"ps2\", \"ps2\", \"ps2\", \"ps2\", \"ps2\", \"ps2\", \"ps2\", \"ps2\", \"ps2\", \"ps2\", \"ps2\", \"ps2\", \"ps2\", \"ps2\", \"ps2\", \"ps2\", \"ps2\", \"ps2\", \"ps2\", \"ps2\", \"ps2\", \"ps2\", \"ps2\", \"ps2\", \"ps2\", \"ps2\", \"ps2\", \"ps2\", \"ps2\", \"ps2\", \"ps2\", \"ps2+ice\", \"ps2+ice\", \"ps2+ice\", \"ps2+ice\", \"ps2+ice\", \"ps2+ice\", \"ps2+ice\", \"ps2+ice\", \"ps2+ice\", \"ps2+ice\", \"ps2+ice\", \"ps2+ice\", \"ps2+ice\", \"ps2+ice\", \"ps2+ice\", \"ps2+ice\", \"ps2+ice\", \"ps2+ice\", \"ps2+ice\", \"ps2+ice\", \"ps2+ice\", \"ps2+ice\", \"ps2+ice\", \"ps2+ice\", \"ps2+ice\", \"ps2+ice\", \"ps2+ice\", \"ps2+ice\", \"ps2+ice\", \"ps2+ice\", \"ps2+ice\", \"ps2+ice\", \"ps2+ice\", \"ps2+ice\", \"ps2+ice\", \"ps2+ice\", \"ps2+ice\", \"ps2+ice\", \"ps2+ice\", \"ps2+ice\", \"ps2+ice\", \"ps2+ice\", \"ps2+ice\", \"ps2+ice\", \"ps2+ice\", \"ps2+ice\", \"ps2+ice\", \"ps2+ice\", \"ps2+ice\", \"ps2+ice\", \"ps2+ice\", \"ps2+ice\", \"ps2+ice\", \"ps2+ice\", \"ps2+ice\", \"ps2+ice\", \"ps2+ice\", \"ps2+ice\", \"ps2+ice\", \"ps2+ice\", \"ps2+ice\", \"ps2+ice\", \"ps2+ice\", \"ps2+ice\", \"ps2+ice\", \"ps2+ice\", \"ps2+ice\", \"ps2+ice\", \"ps2+ice\", \"ps2+ice\", \"ps2+ice\", \"ps2+ice\", \"ps2+ice\", \"ps2+ice\", \"ps2+ice\", \"ps2+ice\", \"ps2+ice\", \"ps2+ice\", \"ps2+ice\", \"ps2+ice\", \"ps2+ice\", \"ps2+ice\", \"ps2+ice\", \"ps2+ice\", \"ps2+ice\", \"ps2+ice\", \"ps2+ice\", \"ps2+ice\", \"ps2+ice\", \"ps2+ice\", \"ps2+ice\", \"ps2+ice\", \"ps2+ice\", \"ps2+ice\", \"ps2+ice\", \"ps2+ice\", \"ps2+ice\", \"ps2+ice\", \"ps2+ice\", \"ps2+ice\", \"ps2+ice+badice\", \"ps2+ice+badice\", \"ps2+ice+badice\", \"ps2+ice+badice\", \"ps2+ice+badice\", \"ps2+ice+badice\", \"ps2+ice+badice\", \"ps2+ice+badice\", \"ps2+ice+badice\", \"ps2+ice+badice\", \"ps2+ice+badice\", \"ps2+ice+badice\", \"ps2+ice+badice\", \"ps2+multi\", \"ps2+multi\", \"ps2+multi\", \"ps2+multi\", \"ps2+multi\", \"ps2+multi\", \"ps2+multi\", \"ps2+multi\", \"ps2+multi\", \"ps2+multi\", \"ps2+multi\", \"ps2+multi\", \"ps2+multi\", \"ps2+multi\", \"ps2+multi\", \"ps2+multi\", \"ps2+multi\", \"ps2+multi\", \"ps2+multi\", \"ps2+multi\", \"ps2+multi\", \"ps2+multi\", \"ps2+multi\", \"ps2+multi\", \"ps2+multi\", \"ps2+multi\", \"ps2+multi\", \"ps2+multi\", \"ps2+multi\", \"ps2+multi\", \"ps2+multi\", \"ps2+multi\", \"ps2+multi\", \"ps2+multi\", \"ps2+multi\", \"ps2+multi\", \"ps2+multi\", \"ps2+multi\", \"ps2+multi\", \"ps2+multi\", \"ps2+multi\", \"ps2+multi\", \"ps2+multi\", \"ps2+multi\", \"ps2+multi\", \"ps2+multi\", \"ps2+multi\", \"ps2+multi\", \"ps2+multi\", \"ps2+multi\", \"ps2+multi\", \"ps2+multi\", \"ps2+multi\", \"ps2+multi\", \"ps2+multi\", \"ps2+multi\", \"ps2+multi\", \"ps2+multi\", \"ps2+multi\", \"ps2+multi\", \"ps2+multi\", \"ps2+multi\", \"ps2+multi\", \"ps2+multi\", \"ps2+multi\", \"ps2+multi\", \"ps2+multi\", \"ps2+multi\", \"ps2+multi\", \"ps2+multi\", \"ps2+multi\", \"ps2+multi\", \"ps2+multi\", \"ps2+multi\", \"ps2+multi\", \"ps2+multi\", \"ps2+multi\", \"ps2+multi\", \"ps2+multi\", \"ps2+multi\", \"ps2+multi\", \"ps2+multi\", \"ps2+multi\", \"ps2+multi\", \"ps2+multi\", \"ps2+multi\", \"ps2+multi\", \"ps2+multi\", \"ps2+multi\", \"ps2+multi\", \"ps2+multi\", \"ps2+multi\", \"ps2+multi\", \"ps2+multi\", \"ps2+multi\", \"ps2+multi\", \"ps2+multi\", \"ps2+multi\", \"ps2+multi\", \"ps2+multi\", \"ps2+multi+ice\", \"ps2+multi+ice\", \"ps2+multi+ice\", \"ps2+multi+ice\", \"ps2+multi+ice\", \"ps2+multi+ice\", \"ps2+multi+ice\", \"ps2+multi+ice\", \"ps2+multi+ice\", \"ps2+multi+ice\", \"ps2+multi+ice\", \"ps2+multi+ice\", \"ps2+multi+ice\", \"ps2+multi+ice\", \"ps2+multi+ice\", \"ps2+multi+ice\", \"ps2+multi+ice\", \"ps2+multi+ice\", \"ps2+multi+ice\", \"ps2+multi+ice\", \"ps2+multi+ice\", \"ps2+multi+ice\", \"ps2+multi+ice\", \"ps2+multi+ice\", \"ps2+multi+ice\", \"ps2+multi+ice\", \"ps2+multi+ice\", \"ps2+multi+ice\", \"ps2+multi+ice\", \"ps2+multi+ice\", \"ps2+multi+ice\", \"ps2+multi+ice\", \"ps2+multi+ice\", \"ps2+multi+ice\", \"ps2+multi+ice\", \"ps2+multi+ice\", \"ps2+multi+ice\", \"ps2+multi+ice\", \"ps2+multi+ice\", \"ps2+multi+ice\", \"ps2+multi+ice\", \"ps2+multi+ice\", \"ps2+multi+ice\", \"ps2+multi+ice\", \"ps2+multi+ice\", \"ps2+multi+ice\", \"ps2+multi+ice\", \"ps2+multi+ice\", \"ps2+multi+ice\", \"ps2+multi+ice\", \"ps2+multi+ice\", \"ps2+multi+ice\", \"ps2+multi+ice\", \"ps2+multi+ice\", \"ps2+multi+ice\", \"ps2+multi+ice\", \"ps2+multi+ice\", \"ps2+multi+ice\", \"ps2+multi+ice\", \"ps2+multi+ice\", \"ps2+multi+ice\", \"ps2+multi+ice\", \"ps2+multi+ice\", \"ps2+multi+ice\", \"ps2+multi+ice\", \"ps2+multi+ice\", \"ps2+multi+ice\", \"ps2+multi+ice\", \"ps2+multi+ice\", \"ps2+multi+ice\", \"ps2+multi+ice\", \"ps2+multi+ice\", \"ps2+multi+ice\", \"ps2+multi+ice\", \"ps2+multi+ice\", \"ps2+multi+ice\", \"ps2+multi+ice\", \"ps2+multi+ice\", \"ps2+multi+ice\", \"ps2+multi+ice\", \"ps2+multi+ice\", \"ps2+multi+ice\", \"ps2+multi+ice\", \"ps2+multi+ice\", \"ps2+multi+ice\", \"ps2+multi+ice\", \"ps2+multi+ice\", \"ps2+multi+ice\", \"ps2+multi+ice\", \"ps2+multi+ice\", \"ps2+multi+ice\", \"ps2+multi+ice\", \"ps2+multi+ice\", \"ps2+multi+ice\", \"ps2+multi+ice\", \"ps2+multi+ice\", \"ps2+multi+ice\", \"ps2+multi+ice\", \"ps2+multi+ice\", \"ps2+multi+ice\", \"ps2+multi+ice+badice\", \"ps2+multi+ice+badice\", \"ps2+multi+ice+badice\", \"ps2+multi+ice+badice\"], \"xaxis\": \"x\", \"yaxis\": \"y\"}],                        {\"barmode\": \"relative\", \"legend\": {\"tracegroupgap\": 0}, \"margin\": {\"t\": 60}, \"template\": {\"data\": {\"bar\": [{\"error_x\": {\"color\": \"#2a3f5f\"}, \"error_y\": {\"color\": \"#2a3f5f\"}, \"marker\": {\"line\": {\"color\": \"#E5ECF6\", \"width\": 0.5}}, \"type\": \"bar\"}], \"barpolar\": [{\"marker\": {\"line\": {\"color\": \"#E5ECF6\", \"width\": 0.5}}, \"type\": \"barpolar\"}], \"carpet\": [{\"aaxis\": {\"endlinecolor\": \"#2a3f5f\", \"gridcolor\": \"white\", \"linecolor\": \"white\", \"minorgridcolor\": \"white\", \"startlinecolor\": \"#2a3f5f\"}, \"baxis\": {\"endlinecolor\": \"#2a3f5f\", \"gridcolor\": \"white\", \"linecolor\": \"white\", \"minorgridcolor\": \"white\", \"startlinecolor\": \"#2a3f5f\"}, \"type\": \"carpet\"}], \"choropleth\": [{\"colorbar\": {\"outlinewidth\": 0, \"ticks\": \"\"}, \"type\": \"choropleth\"}], \"contour\": [{\"colorbar\": {\"outlinewidth\": 0, \"ticks\": \"\"}, \"colorscale\": [[0.0, \"#0d0887\"], [0.1111111111111111, \"#46039f\"], [0.2222222222222222, \"#7201a8\"], [0.3333333333333333, \"#9c179e\"], [0.4444444444444444, \"#bd3786\"], [0.5555555555555556, \"#d8576b\"], [0.6666666666666666, \"#ed7953\"], [0.7777777777777778, \"#fb9f3a\"], [0.8888888888888888, \"#fdca26\"], [1.0, \"#f0f921\"]], \"type\": \"contour\"}], \"contourcarpet\": [{\"colorbar\": {\"outlinewidth\": 0, \"ticks\": \"\"}, \"type\": \"contourcarpet\"}], \"heatmap\": [{\"colorbar\": {\"outlinewidth\": 0, \"ticks\": \"\"}, \"colorscale\": [[0.0, \"#0d0887\"], [0.1111111111111111, \"#46039f\"], [0.2222222222222222, \"#7201a8\"], [0.3333333333333333, \"#9c179e\"], [0.4444444444444444, \"#bd3786\"], [0.5555555555555556, \"#d8576b\"], [0.6666666666666666, \"#ed7953\"], [0.7777777777777778, \"#fb9f3a\"], [0.8888888888888888, \"#fdca26\"], [1.0, \"#f0f921\"]], \"type\": \"heatmap\"}], \"heatmapgl\": [{\"colorbar\": {\"outlinewidth\": 0, \"ticks\": \"\"}, \"colorscale\": [[0.0, \"#0d0887\"], [0.1111111111111111, \"#46039f\"], [0.2222222222222222, \"#7201a8\"], [0.3333333333333333, \"#9c179e\"], [0.4444444444444444, \"#bd3786\"], [0.5555555555555556, \"#d8576b\"], [0.6666666666666666, \"#ed7953\"], [0.7777777777777778, \"#fb9f3a\"], [0.8888888888888888, \"#fdca26\"], [1.0, \"#f0f921\"]], \"type\": \"heatmapgl\"}], \"histogram\": [{\"marker\": {\"colorbar\": {\"outlinewidth\": 0, \"ticks\": \"\"}}, \"type\": \"histogram\"}], \"histogram2d\": [{\"colorbar\": {\"outlinewidth\": 0, \"ticks\": \"\"}, \"colorscale\": [[0.0, \"#0d0887\"], [0.1111111111111111, \"#46039f\"], [0.2222222222222222, \"#7201a8\"], [0.3333333333333333, \"#9c179e\"], [0.4444444444444444, \"#bd3786\"], [0.5555555555555556, \"#d8576b\"], [0.6666666666666666, \"#ed7953\"], [0.7777777777777778, \"#fb9f3a\"], [0.8888888888888888, \"#fdca26\"], [1.0, \"#f0f921\"]], \"type\": \"histogram2d\"}], \"histogram2dcontour\": [{\"colorbar\": {\"outlinewidth\": 0, \"ticks\": \"\"}, \"colorscale\": [[0.0, \"#0d0887\"], [0.1111111111111111, \"#46039f\"], [0.2222222222222222, \"#7201a8\"], [0.3333333333333333, \"#9c179e\"], [0.4444444444444444, \"#bd3786\"], [0.5555555555555556, \"#d8576b\"], [0.6666666666666666, \"#ed7953\"], [0.7777777777777778, \"#fb9f3a\"], [0.8888888888888888, \"#fdca26\"], [1.0, \"#f0f921\"]], \"type\": \"histogram2dcontour\"}], \"mesh3d\": [{\"colorbar\": {\"outlinewidth\": 0, \"ticks\": \"\"}, \"type\": \"mesh3d\"}], \"parcoords\": [{\"line\": {\"colorbar\": {\"outlinewidth\": 0, \"ticks\": \"\"}}, \"type\": \"parcoords\"}], \"pie\": [{\"automargin\": true, \"type\": \"pie\"}], \"scatter\": [{\"marker\": {\"colorbar\": {\"outlinewidth\": 0, \"ticks\": \"\"}}, \"type\": \"scatter\"}], \"scatter3d\": [{\"line\": {\"colorbar\": {\"outlinewidth\": 0, \"ticks\": \"\"}}, \"marker\": {\"colorbar\": {\"outlinewidth\": 0, \"ticks\": \"\"}}, \"type\": \"scatter3d\"}], \"scattercarpet\": [{\"marker\": {\"colorbar\": {\"outlinewidth\": 0, \"ticks\": \"\"}}, \"type\": \"scattercarpet\"}], \"scattergeo\": [{\"marker\": {\"colorbar\": {\"outlinewidth\": 0, \"ticks\": \"\"}}, \"type\": \"scattergeo\"}], \"scattergl\": [{\"marker\": {\"colorbar\": {\"outlinewidth\": 0, \"ticks\": \"\"}}, \"type\": \"scattergl\"}], \"scattermapbox\": [{\"marker\": {\"colorbar\": {\"outlinewidth\": 0, \"ticks\": \"\"}}, \"type\": \"scattermapbox\"}], \"scatterpolar\": [{\"marker\": {\"colorbar\": {\"outlinewidth\": 0, \"ticks\": \"\"}}, \"type\": \"scatterpolar\"}], \"scatterpolargl\": [{\"marker\": {\"colorbar\": {\"outlinewidth\": 0, \"ticks\": \"\"}}, \"type\": \"scatterpolargl\"}], \"scatterternary\": [{\"marker\": {\"colorbar\": {\"outlinewidth\": 0, \"ticks\": \"\"}}, \"type\": \"scatterternary\"}], \"surface\": [{\"colorbar\": {\"outlinewidth\": 0, \"ticks\": \"\"}, \"colorscale\": [[0.0, \"#0d0887\"], [0.1111111111111111, \"#46039f\"], [0.2222222222222222, \"#7201a8\"], [0.3333333333333333, \"#9c179e\"], [0.4444444444444444, \"#bd3786\"], [0.5555555555555556, \"#d8576b\"], [0.6666666666666666, \"#ed7953\"], [0.7777777777777778, \"#fb9f3a\"], [0.8888888888888888, \"#fdca26\"], [1.0, \"#f0f921\"]], \"type\": \"surface\"}], \"table\": [{\"cells\": {\"fill\": {\"color\": \"#EBF0F8\"}, \"line\": {\"color\": \"white\"}}, \"header\": {\"fill\": {\"color\": \"#C8D4E3\"}, \"line\": {\"color\": \"white\"}}, \"type\": \"table\"}]}, \"layout\": {\"annotationdefaults\": {\"arrowcolor\": \"#2a3f5f\", \"arrowhead\": 0, \"arrowwidth\": 1}, \"autotypenumbers\": \"strict\", \"coloraxis\": {\"colorbar\": {\"outlinewidth\": 0, \"ticks\": \"\"}}, \"colorscale\": {\"diverging\": [[0, \"#8e0152\"], [0.1, \"#c51b7d\"], [0.2, \"#de77ae\"], [0.3, \"#f1b6da\"], [0.4, \"#fde0ef\"], [0.5, \"#f7f7f7\"], [0.6, \"#e6f5d0\"], [0.7, \"#b8e186\"], [0.8, \"#7fbc41\"], [0.9, \"#4d9221\"], [1, \"#276419\"]], \"sequential\": [[0.0, \"#0d0887\"], [0.1111111111111111, \"#46039f\"], [0.2222222222222222, \"#7201a8\"], [0.3333333333333333, \"#9c179e\"], [0.4444444444444444, \"#bd3786\"], [0.5555555555555556, \"#d8576b\"], [0.6666666666666666, \"#ed7953\"], [0.7777777777777778, \"#fb9f3a\"], [0.8888888888888888, \"#fdca26\"], [1.0, \"#f0f921\"]], \"sequentialminus\": [[0.0, \"#0d0887\"], [0.1111111111111111, \"#46039f\"], [0.2222222222222222, \"#7201a8\"], [0.3333333333333333, \"#9c179e\"], [0.4444444444444444, \"#bd3786\"], [0.5555555555555556, \"#d8576b\"], [0.6666666666666666, \"#ed7953\"], [0.7777777777777778, \"#fb9f3a\"], [0.8888888888888888, \"#fdca26\"], [1.0, \"#f0f921\"]]}, \"colorway\": [\"#636efa\", \"#EF553B\", \"#00cc96\", \"#ab63fa\", \"#FFA15A\", \"#19d3f3\", \"#FF6692\", \"#B6E880\", \"#FF97FF\", \"#FECB52\"], \"font\": {\"color\": \"#2a3f5f\"}, \"geo\": {\"bgcolor\": \"white\", \"lakecolor\": \"white\", \"landcolor\": \"#E5ECF6\", \"showlakes\": true, \"showland\": true, \"subunitcolor\": \"white\"}, \"hoverlabel\": {\"align\": \"left\"}, \"hovermode\": \"closest\", \"mapbox\": {\"style\": \"light\"}, \"paper_bgcolor\": \"white\", \"plot_bgcolor\": \"#E5ECF6\", \"polar\": {\"angularaxis\": {\"gridcolor\": \"white\", \"linecolor\": \"white\", \"ticks\": \"\"}, \"bgcolor\": \"#E5ECF6\", \"radialaxis\": {\"gridcolor\": \"white\", \"linecolor\": \"white\", \"ticks\": \"\"}}, \"scene\": {\"xaxis\": {\"backgroundcolor\": \"#E5ECF6\", \"gridcolor\": \"white\", \"gridwidth\": 2, \"linecolor\": \"white\", \"showbackground\": true, \"ticks\": \"\", \"zerolinecolor\": \"white\"}, \"yaxis\": {\"backgroundcolor\": \"#E5ECF6\", \"gridcolor\": \"white\", \"gridwidth\": 2, \"linecolor\": \"white\", \"showbackground\": true, \"ticks\": \"\", \"zerolinecolor\": \"white\"}, \"zaxis\": {\"backgroundcolor\": \"#E5ECF6\", \"gridcolor\": \"white\", \"gridwidth\": 2, \"linecolor\": \"white\", \"showbackground\": true, \"ticks\": \"\", \"zerolinecolor\": \"white\"}}, \"shapedefaults\": {\"line\": {\"color\": \"#2a3f5f\"}}, \"ternary\": {\"aaxis\": {\"gridcolor\": \"white\", \"linecolor\": \"white\", \"ticks\": \"\"}, \"baxis\": {\"gridcolor\": \"white\", \"linecolor\": \"white\", \"ticks\": \"\"}, \"bgcolor\": \"#E5ECF6\", \"caxis\": {\"gridcolor\": \"white\", \"linecolor\": \"white\", \"ticks\": \"\"}}, \"title\": {\"x\": 0.05}, \"xaxis\": {\"automargin\": true, \"gridcolor\": \"white\", \"linecolor\": \"white\", \"ticks\": \"\", \"title\": {\"standoff\": 15}, \"zerolinecolor\": \"white\", \"zerolinewidth\": 2}, \"yaxis\": {\"automargin\": true, \"gridcolor\": \"white\", \"linecolor\": \"white\", \"ticks\": \"\", \"title\": {\"standoff\": 15}, \"zerolinecolor\": \"white\", \"zerolinewidth\": 2}}}, \"xaxis\": {\"anchor\": \"y\", \"domain\": [0.0, 1.0], \"title\": {\"text\": \"label\"}}, \"yaxis\": {\"anchor\": \"x\", \"domain\": [0.0, 1.0], \"title\": {\"text\": \"count\"}}},                        {\"responsive\": true}                    ).then(function(){\n",
       "                            \n",
       "var gd = document.getElementById('f0c6370b-1043-4754-b185-f86518392e08');\n",
       "var x = new MutationObserver(function (mutations, observer) {{\n",
       "        var display = window.getComputedStyle(gd).display;\n",
       "        if (!display || display === 'none') {{\n",
       "            console.log([gd, 'removed!']);\n",
       "            Plotly.purge(gd);\n",
       "            observer.disconnect();\n",
       "        }}\n",
       "}});\n",
       "\n",
       "// Listen for the removal of the full notebook cells\n",
       "var notebookContainer = gd.closest('#notebook-container');\n",
       "if (notebookContainer) {{\n",
       "    x.observe(notebookContainer, {childList: true});\n",
       "}}\n",
       "\n",
       "// Listen for the clearing of the current output cell\n",
       "var outputEl = gd.closest('.output');\n",
       "if (outputEl) {{\n",
       "    x.observe(outputEl, {childList: true});\n",
       "}}\n",
       "\n",
       "                        })                };                });            </script>        </div>"
      ]
     },
     "metadata": {},
     "output_type": "display_data"
    }
   ],
   "source": [
    "import matplotlib.pyplot as plt\n",
    "num = 20\n",
    "k=np.random.randint(len(y_train))\n",
    "images = x_train[k:(k+num)]\n",
    "labels = y_train[k:(k+num)]\n",
    "num_row = 2\n",
    "num_col = 10\n",
    "# plot images\n",
    "fig, axes = plt.subplots(num_row, num_col, figsize=(1.5*num_col,2*num_row))\n",
    "for i in range(num):\n",
    "    ax = axes[i//num_col, i%num_col]\n",
    "    ax.imshow(images[i], cmap='gray')\n",
    "    ax.set_title('Label: {}'.format(labels[i]))\n",
    "plt.tight_layout()\n",
    "plt.show()\n",
    "\n",
    "import plotly.express as px\n",
    "df = pd.DataFrame(y_train, columns=['label'])\n",
    "fig = px.histogram(df, x='label', nbins=10)\n",
    "fig.show()"
   ]
  },
  {
   "cell_type": "code",
   "execution_count": 12,
   "metadata": {
    "colab_type": "code"
   },
   "outputs": [],
   "source": [
    "from sklearn.model_selection import train_test_split\n",
    "\n",
    "x_train, x_test, y_train, y_test = train_test_split(X, Y, test_size=0.2, random_state=42)"
   ]
  },
  {
   "cell_type": "code",
   "execution_count": 13,
   "metadata": {
    "colab_type": "code"
   },
   "outputs": [
    {
     "name": "stdout",
     "output_type": "stream",
     "text": [
      "Trial 1 Complete [00h 25m 19s]\n",
      "val_loss: 2.3974950313568115\n",
      "\n",
      "Best val_loss So Far: 2.3974950313568115\n",
      "Total elapsed time: 00h 25m 19s\n",
      "\n",
      "Search: Running Trial #2\n",
      "\n",
      "Hyperparameter    |Value             |Best Value So Far \n",
      "image_block_1/b...|resnet            |vanilla           \n",
      "image_block_1/n...|True              |True              \n",
      "image_block_1/a...|True              |False             \n",
      "image_block_1/i...|True              |None              \n",
      "image_block_1/i...|True              |None              \n",
      "image_block_1/i...|0                 |None              \n",
      "image_block_1/i...|0                 |None              \n",
      "image_block_1/i...|0.1               |None              \n",
      "image_block_1/i...|0                 |None              \n",
      "image_block_1/r...|False             |None              \n",
      "image_block_1/r...|resnet50          |None              \n",
      "image_block_1/r...|True              |None              \n",
      "classification_...|global_avg        |flatten           \n",
      "classification_...|0                 |0.5               \n",
      "optimizer         |adam              |adam              \n",
      "learning_rate     |0.001             |0.001             \n",
      "\n",
      "Epoch 1/1000\n",
      "21/21 [==============================] - 352s 16s/step - loss: 4.0036 - accuracy: 0.1319 - val_loss: 679.4275 - val_accuracy: 0.1103\n",
      "Epoch 2/1000\n",
      "21/21 [==============================] - 341s 16s/step - loss: 2.7088 - accuracy: 0.1514 - val_loss: 204.7143 - val_accuracy: 0.0588\n",
      "Epoch 3/1000\n",
      "21/21 [==============================] - 347s 17s/step - loss: 2.3117 - accuracy: 0.2108 - val_loss: 3.6244 - val_accuracy: 0.0735\n",
      "Epoch 4/1000\n",
      "21/21 [==============================] - 460s 22s/step - loss: 2.2151 - accuracy: 0.2002 - val_loss: 2.9736 - val_accuracy: 0.1324\n",
      "Epoch 5/1000\n",
      "21/21 [==============================] - 460s 22s/step - loss: 2.1261 - accuracy: 0.2127 - val_loss: 3.2265 - val_accuracy: 0.1471\n",
      "Epoch 6/1000\n",
      "21/21 [==============================] - 492s 24s/step - loss: 2.1562 - accuracy: 0.2395 - val_loss: 3.4482 - val_accuracy: 0.0882\n",
      "Epoch 7/1000\n",
      "21/21 [==============================] - 477s 23s/step - loss: 2.1911 - accuracy: 0.1988 - val_loss: 4.8802 - val_accuracy: 0.1103\n",
      "Epoch 8/1000\n",
      "21/21 [==============================] - 494s 24s/step - loss: 2.1285 - accuracy: 0.2561 - val_loss: 3.7064 - val_accuracy: 0.0956\n",
      "Epoch 9/1000\n",
      "21/21 [==============================] - 458s 22s/step - loss: 2.0818 - accuracy: 0.2695 - val_loss: 4.0122 - val_accuracy: 0.0956\n",
      "Epoch 10/1000\n",
      "21/21 [==============================] - 464s 22s/step - loss: 1.9963 - accuracy: 0.2557 - val_loss: 3.9658 - val_accuracy: 0.1029\n",
      "Epoch 11/1000\n",
      "21/21 [==============================] - 456s 22s/step - loss: 2.0034 - accuracy: 0.2630 - val_loss: 3.9889 - val_accuracy: 0.1471\n",
      "Epoch 12/1000\n",
      "21/21 [==============================] - 464s 22s/step - loss: 1.9437 - accuracy: 0.2758 - val_loss: 2.7948 - val_accuracy: 0.1838\n",
      "Epoch 13/1000\n",
      "21/21 [==============================] - 464s 22s/step - loss: 1.9684 - accuracy: 0.2727 - val_loss: 2.5339 - val_accuracy: 0.1324\n",
      "Epoch 14/1000\n",
      "21/21 [==============================] - 463s 22s/step - loss: 2.0484 - accuracy: 0.2632 - val_loss: 3.5227 - val_accuracy: 0.0956\n",
      "Epoch 15/1000\n",
      "21/21 [==============================] - 460s 22s/step - loss: 2.0029 - accuracy: 0.2392 - val_loss: 2.8008 - val_accuracy: 0.1544\n",
      "Epoch 16/1000\n",
      "21/21 [==============================] - 460s 22s/step - loss: 2.0651 - accuracy: 0.2838 - val_loss: 3.2122 - val_accuracy: 0.1029\n",
      "Epoch 17/1000\n",
      "21/21 [==============================] - 462s 22s/step - loss: 1.9665 - accuracy: 0.2881 - val_loss: 2.9536 - val_accuracy: 0.1544\n",
      "Epoch 18/1000\n",
      "21/21 [==============================] - 455s 22s/step - loss: 1.9122 - accuracy: 0.3079 - val_loss: 3.0017 - val_accuracy: 0.1544\n",
      "Epoch 19/1000\n",
      "19/21 [==========================>...] - ETA: 43s - loss: 1.9615 - accuracy: 0.2866 "
     ]
    },
    {
     "ename": "KeyboardInterrupt",
     "evalue": "",
     "output_type": "error",
     "traceback": [
      "\u001b[0;31m---------------------------------------------------------------------------\u001b[0m",
      "\u001b[0;31mKeyboardInterrupt\u001b[0m                         Traceback (most recent call last)",
      "\u001b[0;32m<ipython-input-13-0ca872bafef4>\u001b[0m in \u001b[0;36m<module>\u001b[0;34m\u001b[0m\n\u001b[1;32m      3\u001b[0m \u001b[0;34m\u001b[0m\u001b[0m\n\u001b[1;32m      4\u001b[0m \u001b[0;31m# Feed the image classifier with training data. That's it!\u001b[0m\u001b[0;34m\u001b[0m\u001b[0;34m\u001b[0m\u001b[0;34m\u001b[0m\u001b[0m\n\u001b[0;32m----> 5\u001b[0;31m \u001b[0mclf\u001b[0m\u001b[0;34m.\u001b[0m\u001b[0mfit\u001b[0m\u001b[0;34m(\u001b[0m\u001b[0mx_train\u001b[0m\u001b[0;34m,\u001b[0m \u001b[0my_train\u001b[0m\u001b[0;34m)\u001b[0m\u001b[0;34m\u001b[0m\u001b[0;34m\u001b[0m\u001b[0m\n\u001b[0m\u001b[1;32m      6\u001b[0m \u001b[0;34m\u001b[0m\u001b[0m\n\u001b[1;32m      7\u001b[0m \u001b[0;34m\u001b[0m\u001b[0m\n",
      "\u001b[0;32m~/.local/lib/python3.6/site-packages/autokeras/tasks/image.py\u001b[0m in \u001b[0;36mfit\u001b[0;34m(self, x, y, epochs, callbacks, validation_split, validation_data, **kwargs)\u001b[0m\n\u001b[1;32m    164\u001b[0m             \u001b[0mvalidation_split\u001b[0m\u001b[0;34m=\u001b[0m\u001b[0mvalidation_split\u001b[0m\u001b[0;34m,\u001b[0m\u001b[0;34m\u001b[0m\u001b[0;34m\u001b[0m\u001b[0m\n\u001b[1;32m    165\u001b[0m             \u001b[0mvalidation_data\u001b[0m\u001b[0;34m=\u001b[0m\u001b[0mvalidation_data\u001b[0m\u001b[0;34m,\u001b[0m\u001b[0;34m\u001b[0m\u001b[0;34m\u001b[0m\u001b[0m\n\u001b[0;32m--> 166\u001b[0;31m             \u001b[0;34m**\u001b[0m\u001b[0mkwargs\u001b[0m\u001b[0;34m\u001b[0m\u001b[0;34m\u001b[0m\u001b[0m\n\u001b[0m\u001b[1;32m    167\u001b[0m         )\n\u001b[1;32m    168\u001b[0m \u001b[0;34m\u001b[0m\u001b[0m\n",
      "\u001b[0;32m~/.local/lib/python3.6/site-packages/autokeras/auto_model.py\u001b[0m in \u001b[0;36mfit\u001b[0;34m(self, x, y, batch_size, epochs, callbacks, validation_split, validation_data, **kwargs)\u001b[0m\n\u001b[1;32m    277\u001b[0m             \u001b[0mvalidation_data\u001b[0m\u001b[0;34m=\u001b[0m\u001b[0mvalidation_data\u001b[0m\u001b[0;34m,\u001b[0m\u001b[0;34m\u001b[0m\u001b[0;34m\u001b[0m\u001b[0m\n\u001b[1;32m    278\u001b[0m             \u001b[0mvalidation_split\u001b[0m\u001b[0;34m=\u001b[0m\u001b[0mvalidation_split\u001b[0m\u001b[0;34m,\u001b[0m\u001b[0;34m\u001b[0m\u001b[0;34m\u001b[0m\u001b[0m\n\u001b[0;32m--> 279\u001b[0;31m             \u001b[0;34m**\u001b[0m\u001b[0mkwargs\u001b[0m\u001b[0;34m\u001b[0m\u001b[0;34m\u001b[0m\u001b[0m\n\u001b[0m\u001b[1;32m    280\u001b[0m         )\n\u001b[1;32m    281\u001b[0m \u001b[0;34m\u001b[0m\u001b[0m\n",
      "\u001b[0;32m~/.local/lib/python3.6/site-packages/autokeras/engine/tuner.py\u001b[0m in \u001b[0;36msearch\u001b[0;34m(self, epochs, callbacks, validation_split, **fit_kwargs)\u001b[0m\n\u001b[1;32m    179\u001b[0m         \u001b[0mself\u001b[0m\u001b[0;34m.\u001b[0m\u001b[0moracle\u001b[0m\u001b[0;34m.\u001b[0m\u001b[0mupdate_space\u001b[0m\u001b[0;34m(\u001b[0m\u001b[0mhp\u001b[0m\u001b[0;34m)\u001b[0m\u001b[0;34m\u001b[0m\u001b[0;34m\u001b[0m\u001b[0m\n\u001b[1;32m    180\u001b[0m \u001b[0;34m\u001b[0m\u001b[0m\n\u001b[0;32m--> 181\u001b[0;31m         \u001b[0msuper\u001b[0m\u001b[0;34m(\u001b[0m\u001b[0;34m)\u001b[0m\u001b[0;34m.\u001b[0m\u001b[0msearch\u001b[0m\u001b[0;34m(\u001b[0m\u001b[0mepochs\u001b[0m\u001b[0;34m=\u001b[0m\u001b[0mepochs\u001b[0m\u001b[0;34m,\u001b[0m \u001b[0mcallbacks\u001b[0m\u001b[0;34m=\u001b[0m\u001b[0mnew_callbacks\u001b[0m\u001b[0;34m,\u001b[0m \u001b[0;34m**\u001b[0m\u001b[0mfit_kwargs\u001b[0m\u001b[0;34m)\u001b[0m\u001b[0;34m\u001b[0m\u001b[0;34m\u001b[0m\u001b[0m\n\u001b[0m\u001b[1;32m    182\u001b[0m \u001b[0;34m\u001b[0m\u001b[0m\n\u001b[1;32m    183\u001b[0m         \u001b[0;31m# Train the best model use validation data.\u001b[0m\u001b[0;34m\u001b[0m\u001b[0;34m\u001b[0m\u001b[0;34m\u001b[0m\u001b[0m\n",
      "\u001b[0;32m~/.local/lib/python3.6/site-packages/kerastuner/engine/base_tuner.py\u001b[0m in \u001b[0;36msearch\u001b[0;34m(self, *fit_args, **fit_kwargs)\u001b[0m\n\u001b[1;32m    135\u001b[0m \u001b[0;34m\u001b[0m\u001b[0m\n\u001b[1;32m    136\u001b[0m             \u001b[0mself\u001b[0m\u001b[0;34m.\u001b[0m\u001b[0mon_trial_begin\u001b[0m\u001b[0;34m(\u001b[0m\u001b[0mtrial\u001b[0m\u001b[0;34m)\u001b[0m\u001b[0;34m\u001b[0m\u001b[0;34m\u001b[0m\u001b[0m\n\u001b[0;32m--> 137\u001b[0;31m             \u001b[0mself\u001b[0m\u001b[0;34m.\u001b[0m\u001b[0mrun_trial\u001b[0m\u001b[0;34m(\u001b[0m\u001b[0mtrial\u001b[0m\u001b[0;34m,\u001b[0m \u001b[0;34m*\u001b[0m\u001b[0mfit_args\u001b[0m\u001b[0;34m,\u001b[0m \u001b[0;34m**\u001b[0m\u001b[0mfit_kwargs\u001b[0m\u001b[0;34m)\u001b[0m\u001b[0;34m\u001b[0m\u001b[0;34m\u001b[0m\u001b[0m\n\u001b[0m\u001b[1;32m    138\u001b[0m             \u001b[0mself\u001b[0m\u001b[0;34m.\u001b[0m\u001b[0mon_trial_end\u001b[0m\u001b[0;34m(\u001b[0m\u001b[0mtrial\u001b[0m\u001b[0;34m)\u001b[0m\u001b[0;34m\u001b[0m\u001b[0;34m\u001b[0m\u001b[0m\n\u001b[1;32m    139\u001b[0m         \u001b[0mself\u001b[0m\u001b[0;34m.\u001b[0m\u001b[0mon_search_end\u001b[0m\u001b[0;34m(\u001b[0m\u001b[0;34m)\u001b[0m\u001b[0;34m\u001b[0m\u001b[0;34m\u001b[0m\u001b[0m\n",
      "\u001b[0;32m~/.local/lib/python3.6/site-packages/kerastuner/engine/tuner.py\u001b[0m in \u001b[0;36mrun_trial\u001b[0;34m(self, trial, *fit_args, **fit_kwargs)\u001b[0m\n\u001b[1;32m    177\u001b[0m         \u001b[0mcopied_fit_kwargs\u001b[0m\u001b[0;34m[\u001b[0m\u001b[0;34m\"callbacks\"\u001b[0m\u001b[0;34m]\u001b[0m \u001b[0;34m=\u001b[0m \u001b[0mcallbacks\u001b[0m\u001b[0;34m\u001b[0m\u001b[0;34m\u001b[0m\u001b[0m\n\u001b[1;32m    178\u001b[0m \u001b[0;34m\u001b[0m\u001b[0m\n\u001b[0;32m--> 179\u001b[0;31m         \u001b[0mself\u001b[0m\u001b[0;34m.\u001b[0m\u001b[0m_build_and_fit_model\u001b[0m\u001b[0;34m(\u001b[0m\u001b[0mtrial\u001b[0m\u001b[0;34m,\u001b[0m \u001b[0mfit_args\u001b[0m\u001b[0;34m,\u001b[0m \u001b[0mcopied_fit_kwargs\u001b[0m\u001b[0;34m)\u001b[0m\u001b[0;34m\u001b[0m\u001b[0;34m\u001b[0m\u001b[0m\n\u001b[0m\u001b[1;32m    180\u001b[0m \u001b[0;34m\u001b[0m\u001b[0m\n\u001b[1;32m    181\u001b[0m     \u001b[0;32mdef\u001b[0m \u001b[0msave_model\u001b[0m\u001b[0;34m(\u001b[0m\u001b[0mself\u001b[0m\u001b[0;34m,\u001b[0m \u001b[0mtrial_id\u001b[0m\u001b[0;34m,\u001b[0m \u001b[0mmodel\u001b[0m\u001b[0;34m,\u001b[0m \u001b[0mstep\u001b[0m\u001b[0;34m=\u001b[0m\u001b[0;36m0\u001b[0m\u001b[0;34m)\u001b[0m\u001b[0;34m:\u001b[0m\u001b[0;34m\u001b[0m\u001b[0;34m\u001b[0m\u001b[0m\n",
      "\u001b[0;32m~/.local/lib/python3.6/site-packages/autokeras/engine/tuner.py\u001b[0m in \u001b[0;36m_build_and_fit_model\u001b[0;34m(self, trial, fit_args, fit_kwargs)\u001b[0m\n\u001b[1;32m    100\u001b[0m \u001b[0;34m\u001b[0m\u001b[0m\n\u001b[1;32m    101\u001b[0m         _, history = utils.fit_with_adaptive_batch_size(\n\u001b[0;32m--> 102\u001b[0;31m             \u001b[0mmodel\u001b[0m\u001b[0;34m,\u001b[0m \u001b[0mself\u001b[0m\u001b[0;34m.\u001b[0m\u001b[0mhypermodel\u001b[0m\u001b[0;34m.\u001b[0m\u001b[0mhypermodel\u001b[0m\u001b[0;34m.\u001b[0m\u001b[0mbatch_size\u001b[0m\u001b[0;34m,\u001b[0m \u001b[0;34m**\u001b[0m\u001b[0mfit_kwargs\u001b[0m\u001b[0;34m\u001b[0m\u001b[0;34m\u001b[0m\u001b[0m\n\u001b[0m\u001b[1;32m    103\u001b[0m         )\n\u001b[1;32m    104\u001b[0m         \u001b[0;32mreturn\u001b[0m \u001b[0mhistory\u001b[0m\u001b[0;34m\u001b[0m\u001b[0;34m\u001b[0m\u001b[0m\n",
      "\u001b[0;32m~/.local/lib/python3.6/site-packages/autokeras/utils/utils.py\u001b[0m in \u001b[0;36mfit_with_adaptive_batch_size\u001b[0;34m(model, batch_size, **fit_kwargs)\u001b[0m\n\u001b[1;32m     83\u001b[0m \u001b[0;32mdef\u001b[0m \u001b[0mfit_with_adaptive_batch_size\u001b[0m\u001b[0;34m(\u001b[0m\u001b[0mmodel\u001b[0m\u001b[0;34m,\u001b[0m \u001b[0mbatch_size\u001b[0m\u001b[0;34m,\u001b[0m \u001b[0;34m**\u001b[0m\u001b[0mfit_kwargs\u001b[0m\u001b[0;34m)\u001b[0m\u001b[0;34m:\u001b[0m\u001b[0;34m\u001b[0m\u001b[0;34m\u001b[0m\u001b[0m\n\u001b[1;32m     84\u001b[0m     history = run_with_adaptive_batch_size(\n\u001b[0;32m---> 85\u001b[0;31m         \u001b[0mbatch_size\u001b[0m\u001b[0;34m,\u001b[0m \u001b[0;32mlambda\u001b[0m \u001b[0;34m**\u001b[0m\u001b[0mkwargs\u001b[0m\u001b[0;34m:\u001b[0m \u001b[0mmodel\u001b[0m\u001b[0;34m.\u001b[0m\u001b[0mfit\u001b[0m\u001b[0;34m(\u001b[0m\u001b[0;34m**\u001b[0m\u001b[0mkwargs\u001b[0m\u001b[0;34m)\u001b[0m\u001b[0;34m,\u001b[0m \u001b[0;34m**\u001b[0m\u001b[0mfit_kwargs\u001b[0m\u001b[0;34m\u001b[0m\u001b[0;34m\u001b[0m\u001b[0m\n\u001b[0m\u001b[1;32m     86\u001b[0m     )\n\u001b[1;32m     87\u001b[0m     \u001b[0;32mreturn\u001b[0m \u001b[0mmodel\u001b[0m\u001b[0;34m,\u001b[0m \u001b[0mhistory\u001b[0m\u001b[0;34m\u001b[0m\u001b[0;34m\u001b[0m\u001b[0m\n",
      "\u001b[0;32m~/.local/lib/python3.6/site-packages/autokeras/utils/utils.py\u001b[0m in \u001b[0;36mrun_with_adaptive_batch_size\u001b[0;34m(batch_size, func, **fit_kwargs)\u001b[0m\n\u001b[1;32m     95\u001b[0m     \u001b[0;32mwhile\u001b[0m \u001b[0mbatch_size\u001b[0m \u001b[0;34m>\u001b[0m \u001b[0;36m0\u001b[0m\u001b[0;34m:\u001b[0m\u001b[0;34m\u001b[0m\u001b[0;34m\u001b[0m\u001b[0m\n\u001b[1;32m     96\u001b[0m         \u001b[0;32mtry\u001b[0m\u001b[0;34m:\u001b[0m\u001b[0;34m\u001b[0m\u001b[0;34m\u001b[0m\u001b[0m\n\u001b[0;32m---> 97\u001b[0;31m             \u001b[0mhistory\u001b[0m \u001b[0;34m=\u001b[0m \u001b[0mfunc\u001b[0m\u001b[0;34m(\u001b[0m\u001b[0mx\u001b[0m\u001b[0;34m=\u001b[0m\u001b[0mx\u001b[0m\u001b[0;34m,\u001b[0m \u001b[0mvalidation_data\u001b[0m\u001b[0;34m=\u001b[0m\u001b[0mvalidation_data\u001b[0m\u001b[0;34m,\u001b[0m \u001b[0;34m**\u001b[0m\u001b[0mfit_kwargs\u001b[0m\u001b[0;34m)\u001b[0m\u001b[0;34m\u001b[0m\u001b[0;34m\u001b[0m\u001b[0m\n\u001b[0m\u001b[1;32m     98\u001b[0m             \u001b[0;32mbreak\u001b[0m\u001b[0;34m\u001b[0m\u001b[0;34m\u001b[0m\u001b[0m\n\u001b[1;32m     99\u001b[0m         \u001b[0;32mexcept\u001b[0m \u001b[0mtf\u001b[0m\u001b[0;34m.\u001b[0m\u001b[0merrors\u001b[0m\u001b[0;34m.\u001b[0m\u001b[0mResourceExhaustedError\u001b[0m \u001b[0;32mas\u001b[0m \u001b[0me\u001b[0m\u001b[0;34m:\u001b[0m\u001b[0;34m\u001b[0m\u001b[0;34m\u001b[0m\u001b[0m\n",
      "\u001b[0;32m~/.local/lib/python3.6/site-packages/autokeras/utils/utils.py\u001b[0m in \u001b[0;36m<lambda>\u001b[0;34m(**kwargs)\u001b[0m\n\u001b[1;32m     83\u001b[0m \u001b[0;32mdef\u001b[0m \u001b[0mfit_with_adaptive_batch_size\u001b[0m\u001b[0;34m(\u001b[0m\u001b[0mmodel\u001b[0m\u001b[0;34m,\u001b[0m \u001b[0mbatch_size\u001b[0m\u001b[0;34m,\u001b[0m \u001b[0;34m**\u001b[0m\u001b[0mfit_kwargs\u001b[0m\u001b[0;34m)\u001b[0m\u001b[0;34m:\u001b[0m\u001b[0;34m\u001b[0m\u001b[0;34m\u001b[0m\u001b[0m\n\u001b[1;32m     84\u001b[0m     history = run_with_adaptive_batch_size(\n\u001b[0;32m---> 85\u001b[0;31m         \u001b[0mbatch_size\u001b[0m\u001b[0;34m,\u001b[0m \u001b[0;32mlambda\u001b[0m \u001b[0;34m**\u001b[0m\u001b[0mkwargs\u001b[0m\u001b[0;34m:\u001b[0m \u001b[0mmodel\u001b[0m\u001b[0;34m.\u001b[0m\u001b[0mfit\u001b[0m\u001b[0;34m(\u001b[0m\u001b[0;34m**\u001b[0m\u001b[0mkwargs\u001b[0m\u001b[0;34m)\u001b[0m\u001b[0;34m,\u001b[0m \u001b[0;34m**\u001b[0m\u001b[0mfit_kwargs\u001b[0m\u001b[0;34m\u001b[0m\u001b[0;34m\u001b[0m\u001b[0m\n\u001b[0m\u001b[1;32m     86\u001b[0m     )\n\u001b[1;32m     87\u001b[0m     \u001b[0;32mreturn\u001b[0m \u001b[0mmodel\u001b[0m\u001b[0;34m,\u001b[0m \u001b[0mhistory\u001b[0m\u001b[0;34m\u001b[0m\u001b[0;34m\u001b[0m\u001b[0m\n",
      "\u001b[0;32m~/.local/lib/python3.6/site-packages/tensorflow/python/keras/engine/training.py\u001b[0m in \u001b[0;36mfit\u001b[0;34m(self, x, y, batch_size, epochs, verbose, callbacks, validation_split, validation_data, shuffle, class_weight, sample_weight, initial_epoch, steps_per_epoch, validation_steps, validation_batch_size, validation_freq, max_queue_size, workers, use_multiprocessing)\u001b[0m\n\u001b[1;32m   1098\u001b[0m                 _r=1):\n\u001b[1;32m   1099\u001b[0m               \u001b[0mcallbacks\u001b[0m\u001b[0;34m.\u001b[0m\u001b[0mon_train_batch_begin\u001b[0m\u001b[0;34m(\u001b[0m\u001b[0mstep\u001b[0m\u001b[0;34m)\u001b[0m\u001b[0;34m\u001b[0m\u001b[0;34m\u001b[0m\u001b[0m\n\u001b[0;32m-> 1100\u001b[0;31m               \u001b[0mtmp_logs\u001b[0m \u001b[0;34m=\u001b[0m \u001b[0mself\u001b[0m\u001b[0;34m.\u001b[0m\u001b[0mtrain_function\u001b[0m\u001b[0;34m(\u001b[0m\u001b[0miterator\u001b[0m\u001b[0;34m)\u001b[0m\u001b[0;34m\u001b[0m\u001b[0;34m\u001b[0m\u001b[0m\n\u001b[0m\u001b[1;32m   1101\u001b[0m               \u001b[0;32mif\u001b[0m \u001b[0mdata_handler\u001b[0m\u001b[0;34m.\u001b[0m\u001b[0mshould_sync\u001b[0m\u001b[0;34m:\u001b[0m\u001b[0;34m\u001b[0m\u001b[0;34m\u001b[0m\u001b[0m\n\u001b[1;32m   1102\u001b[0m                 \u001b[0mcontext\u001b[0m\u001b[0;34m.\u001b[0m\u001b[0masync_wait\u001b[0m\u001b[0;34m(\u001b[0m\u001b[0;34m)\u001b[0m\u001b[0;34m\u001b[0m\u001b[0;34m\u001b[0m\u001b[0m\n",
      "\u001b[0;32m~/.local/lib/python3.6/site-packages/tensorflow/python/eager/def_function.py\u001b[0m in \u001b[0;36m__call__\u001b[0;34m(self, *args, **kwds)\u001b[0m\n\u001b[1;32m    826\u001b[0m     \u001b[0mtracing_count\u001b[0m \u001b[0;34m=\u001b[0m \u001b[0mself\u001b[0m\u001b[0;34m.\u001b[0m\u001b[0mexperimental_get_tracing_count\u001b[0m\u001b[0;34m(\u001b[0m\u001b[0;34m)\u001b[0m\u001b[0;34m\u001b[0m\u001b[0;34m\u001b[0m\u001b[0m\n\u001b[1;32m    827\u001b[0m     \u001b[0;32mwith\u001b[0m \u001b[0mtrace\u001b[0m\u001b[0;34m.\u001b[0m\u001b[0mTrace\u001b[0m\u001b[0;34m(\u001b[0m\u001b[0mself\u001b[0m\u001b[0;34m.\u001b[0m\u001b[0m_name\u001b[0m\u001b[0;34m)\u001b[0m \u001b[0;32mas\u001b[0m \u001b[0mtm\u001b[0m\u001b[0;34m:\u001b[0m\u001b[0;34m\u001b[0m\u001b[0;34m\u001b[0m\u001b[0m\n\u001b[0;32m--> 828\u001b[0;31m       \u001b[0mresult\u001b[0m \u001b[0;34m=\u001b[0m \u001b[0mself\u001b[0m\u001b[0;34m.\u001b[0m\u001b[0m_call\u001b[0m\u001b[0;34m(\u001b[0m\u001b[0;34m*\u001b[0m\u001b[0margs\u001b[0m\u001b[0;34m,\u001b[0m \u001b[0;34m**\u001b[0m\u001b[0mkwds\u001b[0m\u001b[0;34m)\u001b[0m\u001b[0;34m\u001b[0m\u001b[0;34m\u001b[0m\u001b[0m\n\u001b[0m\u001b[1;32m    829\u001b[0m       \u001b[0mcompiler\u001b[0m \u001b[0;34m=\u001b[0m \u001b[0;34m\"xla\"\u001b[0m \u001b[0;32mif\u001b[0m \u001b[0mself\u001b[0m\u001b[0;34m.\u001b[0m\u001b[0m_experimental_compile\u001b[0m \u001b[0;32melse\u001b[0m \u001b[0;34m\"nonXla\"\u001b[0m\u001b[0;34m\u001b[0m\u001b[0;34m\u001b[0m\u001b[0m\n\u001b[1;32m    830\u001b[0m       \u001b[0mnew_tracing_count\u001b[0m \u001b[0;34m=\u001b[0m \u001b[0mself\u001b[0m\u001b[0;34m.\u001b[0m\u001b[0mexperimental_get_tracing_count\u001b[0m\u001b[0;34m(\u001b[0m\u001b[0;34m)\u001b[0m\u001b[0;34m\u001b[0m\u001b[0;34m\u001b[0m\u001b[0m\n",
      "\u001b[0;32m~/.local/lib/python3.6/site-packages/tensorflow/python/eager/def_function.py\u001b[0m in \u001b[0;36m_call\u001b[0;34m(self, *args, **kwds)\u001b[0m\n\u001b[1;32m    853\u001b[0m       \u001b[0;31m# In this case we have created variables on the first call, so we run the\u001b[0m\u001b[0;34m\u001b[0m\u001b[0;34m\u001b[0m\u001b[0;34m\u001b[0m\u001b[0m\n\u001b[1;32m    854\u001b[0m       \u001b[0;31m# defunned version which is guaranteed to never create variables.\u001b[0m\u001b[0;34m\u001b[0m\u001b[0;34m\u001b[0m\u001b[0;34m\u001b[0m\u001b[0m\n\u001b[0;32m--> 855\u001b[0;31m       \u001b[0;32mreturn\u001b[0m \u001b[0mself\u001b[0m\u001b[0;34m.\u001b[0m\u001b[0m_stateless_fn\u001b[0m\u001b[0;34m(\u001b[0m\u001b[0;34m*\u001b[0m\u001b[0margs\u001b[0m\u001b[0;34m,\u001b[0m \u001b[0;34m**\u001b[0m\u001b[0mkwds\u001b[0m\u001b[0;34m)\u001b[0m  \u001b[0;31m# pylint: disable=not-callable\u001b[0m\u001b[0;34m\u001b[0m\u001b[0;34m\u001b[0m\u001b[0m\n\u001b[0m\u001b[1;32m    856\u001b[0m     \u001b[0;32melif\u001b[0m \u001b[0mself\u001b[0m\u001b[0;34m.\u001b[0m\u001b[0m_stateful_fn\u001b[0m \u001b[0;32mis\u001b[0m \u001b[0;32mnot\u001b[0m \u001b[0;32mNone\u001b[0m\u001b[0;34m:\u001b[0m\u001b[0;34m\u001b[0m\u001b[0;34m\u001b[0m\u001b[0m\n\u001b[1;32m    857\u001b[0m       \u001b[0;31m# Release the lock early so that multiple threads can perform the call\u001b[0m\u001b[0;34m\u001b[0m\u001b[0;34m\u001b[0m\u001b[0;34m\u001b[0m\u001b[0m\n",
      "\u001b[0;32m~/.local/lib/python3.6/site-packages/tensorflow/python/eager/function.py\u001b[0m in \u001b[0;36m__call__\u001b[0;34m(self, *args, **kwargs)\u001b[0m\n\u001b[1;32m   2941\u001b[0m        filtered_flat_args) = self._maybe_define_function(args, kwargs)\n\u001b[1;32m   2942\u001b[0m     return graph_function._call_flat(\n\u001b[0;32m-> 2943\u001b[0;31m         filtered_flat_args, captured_inputs=graph_function.captured_inputs)  # pylint: disable=protected-access\n\u001b[0m\u001b[1;32m   2944\u001b[0m \u001b[0;34m\u001b[0m\u001b[0m\n\u001b[1;32m   2945\u001b[0m   \u001b[0;34m@\u001b[0m\u001b[0mproperty\u001b[0m\u001b[0;34m\u001b[0m\u001b[0;34m\u001b[0m\u001b[0m\n",
      "\u001b[0;32m~/.local/lib/python3.6/site-packages/tensorflow/python/eager/function.py\u001b[0m in \u001b[0;36m_call_flat\u001b[0;34m(self, args, captured_inputs, cancellation_manager)\u001b[0m\n\u001b[1;32m   1917\u001b[0m       \u001b[0;31m# No tape is watching; skip to running the function.\u001b[0m\u001b[0;34m\u001b[0m\u001b[0;34m\u001b[0m\u001b[0;34m\u001b[0m\u001b[0m\n\u001b[1;32m   1918\u001b[0m       return self._build_call_outputs(self._inference_function.call(\n\u001b[0;32m-> 1919\u001b[0;31m           ctx, args, cancellation_manager=cancellation_manager))\n\u001b[0m\u001b[1;32m   1920\u001b[0m     forward_backward = self._select_forward_and_backward_functions(\n\u001b[1;32m   1921\u001b[0m         \u001b[0margs\u001b[0m\u001b[0;34m,\u001b[0m\u001b[0;34m\u001b[0m\u001b[0;34m\u001b[0m\u001b[0m\n",
      "\u001b[0;32m~/.local/lib/python3.6/site-packages/tensorflow/python/eager/function.py\u001b[0m in \u001b[0;36mcall\u001b[0;34m(self, ctx, args, cancellation_manager)\u001b[0m\n\u001b[1;32m    558\u001b[0m               \u001b[0minputs\u001b[0m\u001b[0;34m=\u001b[0m\u001b[0margs\u001b[0m\u001b[0;34m,\u001b[0m\u001b[0;34m\u001b[0m\u001b[0;34m\u001b[0m\u001b[0m\n\u001b[1;32m    559\u001b[0m               \u001b[0mattrs\u001b[0m\u001b[0;34m=\u001b[0m\u001b[0mattrs\u001b[0m\u001b[0;34m,\u001b[0m\u001b[0;34m\u001b[0m\u001b[0;34m\u001b[0m\u001b[0m\n\u001b[0;32m--> 560\u001b[0;31m               ctx=ctx)\n\u001b[0m\u001b[1;32m    561\u001b[0m         \u001b[0;32melse\u001b[0m\u001b[0;34m:\u001b[0m\u001b[0;34m\u001b[0m\u001b[0;34m\u001b[0m\u001b[0m\n\u001b[1;32m    562\u001b[0m           outputs = execute.execute_with_cancellation(\n",
      "\u001b[0;32m~/.local/lib/python3.6/site-packages/tensorflow/python/eager/execute.py\u001b[0m in \u001b[0;36mquick_execute\u001b[0;34m(op_name, num_outputs, inputs, attrs, ctx, name)\u001b[0m\n\u001b[1;32m     58\u001b[0m     \u001b[0mctx\u001b[0m\u001b[0;34m.\u001b[0m\u001b[0mensure_initialized\u001b[0m\u001b[0;34m(\u001b[0m\u001b[0;34m)\u001b[0m\u001b[0;34m\u001b[0m\u001b[0;34m\u001b[0m\u001b[0m\n\u001b[1;32m     59\u001b[0m     tensors = pywrap_tfe.TFE_Py_Execute(ctx._handle, device_name, op_name,\n\u001b[0;32m---> 60\u001b[0;31m                                         inputs, attrs, num_outputs)\n\u001b[0m\u001b[1;32m     61\u001b[0m   \u001b[0;32mexcept\u001b[0m \u001b[0mcore\u001b[0m\u001b[0;34m.\u001b[0m\u001b[0m_NotOkStatusException\u001b[0m \u001b[0;32mas\u001b[0m \u001b[0me\u001b[0m\u001b[0;34m:\u001b[0m\u001b[0;34m\u001b[0m\u001b[0;34m\u001b[0m\u001b[0m\n\u001b[1;32m     62\u001b[0m     \u001b[0;32mif\u001b[0m \u001b[0mname\u001b[0m \u001b[0;32mis\u001b[0m \u001b[0;32mnot\u001b[0m \u001b[0;32mNone\u001b[0m\u001b[0;34m:\u001b[0m\u001b[0;34m\u001b[0m\u001b[0;34m\u001b[0m\u001b[0m\n",
      "\u001b[0;31mKeyboardInterrupt\u001b[0m: "
     ]
    }
   ],
   "source": [
    "# Initialize the image classifier.\n",
    "clf = ak.ImageClassifier(overwrite=True, max_trials=2)\n",
    "\n",
    "# Feed the image classifier with training data. That's it!\n",
    "clf.fit(x_train, y_train)\n",
    "\n",
    "\n",
    "# Predict with the best model.\n",
    "predicted_y = clf.predict(x_test)\n",
    "print(predicted_y)\n",
    "\n",
    "\n",
    "# Evaluate the best model with testing data.\n",
    "print(clf.evaluate(x_test, y_test))"
   ]
  },
  {
   "cell_type": "code",
   "execution_count": null,
   "metadata": {
    "colab_type": "text"
   },
   "outputs": [],
   "source": [
    "# performance of the model\n",
    "display(hyper_table(path='image_classifier'))\n",
    "\n",
    "model = clf.export_model()\n",
    "model.summary()\n",
    "\n",
    "y_score_test = model.predict(x_test)\n",
    "y_score_train = model.predict(x_train)"
   ]
  },
  {
   "cell_type": "code",
   "execution_count": null,
   "metadata": {
    "colab_type": "text"
   },
   "outputs": [],
   "source": [
    "plot_pr_multi_class(y_train, y_score_train, y_test, y_score_test)"
   ]
  }
 ],
 "metadata": {
  "colab": {
   "collapsed_sections": [],
   "name": "image_classification",
   "private_outputs": false,
   "provenance": [],
   "toc_visible": true
  },
  "kernelspec": {
   "display_name": "Python 3",
   "language": "python",
   "name": "python3"
  },
  "language_info": {
   "codemirror_mode": {
    "name": "ipython",
    "version": 3
   },
   "file_extension": ".py",
   "mimetype": "text/x-python",
   "name": "python",
   "nbconvert_exporter": "python",
   "pygments_lexer": "ipython3",
   "version": "3.6.9"
  }
 },
 "nbformat": 4,
 "nbformat_minor": 4
}
